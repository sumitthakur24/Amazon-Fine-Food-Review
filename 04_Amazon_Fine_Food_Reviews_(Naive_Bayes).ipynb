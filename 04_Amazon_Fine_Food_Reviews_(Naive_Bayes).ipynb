{
  "nbformat": 4,
  "nbformat_minor": 0,
  "metadata": {
    "colab": {
      "name": "04 Amazon Fine Food Reviews (Naive Bayes).ipynb",
      "version": "0.3.2",
      "provenance": [],
      "include_colab_link": true
    },
    "kernelspec": {
      "name": "python3",
      "display_name": "Python 3"
    },
    "accelerator": "TPU"
  },
  "cells": [
    {
      "cell_type": "markdown",
      "metadata": {
        "id": "view-in-github",
        "colab_type": "text"
      },
      "source": [
        "<a href=\"https://colab.research.google.com/github/sumitthakur24/Amazon-Fine-Food-Review/blob/master/04_Amazon_Fine_Food_Reviews_(Naive_Bayes).ipynb\" target=\"_parent\"><img src=\"https://colab.research.google.com/assets/colab-badge.svg\" alt=\"Open In Colab\"/></a>"
      ]
    },
    {
      "metadata": {
        "id": "UIn1GsFNJkjH",
        "colab_type": "text"
      },
      "cell_type": "markdown",
      "source": [
        "# Amazon Fine Food Reviews Analysis\n",
        "\n",
        "\n",
        "Data Source: https://www.kaggle.com/snap/amazon-fine-food-reviews <br>\n",
        "\n",
        "EDA: https://nycdatascience.com/blog/student-works/amazon-fine-foods-visualization/\n",
        "\n",
        "\n",
        "The Amazon Fine Food Reviews dataset consists of reviews of fine foods from Amazon.<br>\n",
        "\n",
        "Number of reviews: 568,454<br>\n",
        "Number of users: 256,059<br>\n",
        "Number of products: 74,258<br>\n",
        "Timespan: Oct 1999 - Oct 2012<br>\n",
        "Number of Attributes/Columns in data: 10 \n",
        "\n",
        "Attribute Information:\n",
        "\n",
        "1. Id\n",
        "2. ProductId - unique identifier for the product\n",
        "3. UserId - unqiue identifier for the user\n",
        "4. ProfileName\n",
        "5. HelpfulnessNumerator - number of users who found the review helpful\n",
        "6. HelpfulnessDenominator - number of users who indicated whether they found the review helpful or not\n",
        "7. Score - rating between 1 and 5\n",
        "8. Time - timestamp for the review\n",
        "9. Summary - brief summary of the review\n",
        "10. Text - text of the review\n",
        "\n",
        "\n",
        "#### Objective:\n",
        "Given a review, determine whether the review is positive (rating of 4 or 5) or negative (rating of 1 or 2).\n",
        "\n",
        "<br>\n",
        "[Q] How to determine if a review is positive or negative?<br>\n",
        "<br> \n",
        "[Ans] We could use Score/Rating. A rating of 4 or 5 can be cosnidered as a positive review. A rating of 1 or 2 can be considered as negative one. A review of rating 3 is considered nuetral and such reviews are ignored from our analysis. This is an approximate and proxy way of determining the polarity (positivity/negativity) of a review.\n",
        "\n",
        "\n"
      ]
    },
    {
      "metadata": {
        "id": "5Uf26aoLJkjJ",
        "colab_type": "text"
      },
      "cell_type": "markdown",
      "source": [
        "# [1]. Reading Data"
      ]
    },
    {
      "metadata": {
        "id": "yo-LaJg3JkjK",
        "colab_type": "text"
      },
      "cell_type": "markdown",
      "source": [
        "## [1.1] Loading the data\n",
        "\n",
        "The dataset is available in two forms\n",
        "1. .csv file\n",
        "2. SQLite Database\n",
        "\n",
        "In order to load the data, We have used the SQLITE dataset as it is easier to query the data and visualise the data efficiently.\n",
        "<br> \n",
        "\n",
        "Here as we only want to get the global sentiment of the recommendations (positive or negative), we will purposefully ignore all Scores equal to 3. If the score is above 3, then the recommendation wil be set to \"positive\". Otherwise, it will be set to \"negative\"."
      ]
    },
    {
      "metadata": {
        "id": "dLYq3BkfJkjL",
        "colab_type": "code",
        "colab": {}
      },
      "cell_type": "code",
      "source": [
        "%matplotlib inline\n",
        "import warnings\n",
        "warnings.filterwarnings(\"ignore\")\n",
        "\n",
        "\n",
        "import sqlite3\n",
        "import pandas as pd\n",
        "import numpy as np\n",
        "import nltk\n",
        "import string\n",
        "import matplotlib.pyplot as plt\n",
        "import seaborn as sns\n",
        "from sklearn.feature_extraction.text import TfidfTransformer\n",
        "from sklearn.feature_extraction.text import TfidfVectorizer\n",
        "\n",
        "from sklearn.feature_extraction.text import CountVectorizer\n",
        "from sklearn.metrics import confusion_matrix\n",
        "from sklearn import metrics\n",
        "from sklearn.metrics import roc_curve, auc\n",
        "from nltk.stem.porter import PorterStemmer\n",
        "\n",
        "import re\n",
        "# Tutorial about Python regular expressions: https://pymotw.com/2/re/\n",
        "import string\n",
        "from nltk.corpus import stopwords\n",
        "from nltk.stem import PorterStemmer\n",
        "from nltk.stem.wordnet import WordNetLemmatizer\n",
        "\n",
        "from gensim.models import Word2Vec\n",
        "from gensim.models import KeyedVectors\n",
        "import pickle\n",
        "\n",
        "from tqdm import tqdm\n",
        "import os"
      ],
      "execution_count": 0,
      "outputs": []
    },
    {
      "metadata": {
        "id": "Hcya4wn6VJh8",
        "colab_type": "code",
        "outputId": "6e53f196-1010-459d-ff5f-04699e78f68f",
        "colab": {
          "base_uri": "https://localhost:8080/",
          "height": 54
        }
      },
      "cell_type": "code",
      "source": [
        "from google.colab import drive\n",
        "drive.mount('/content/drive')\n",
        "!cp \"/content/drive/My Drive/database.sqlite\" \"database.sqlite\"\n"
      ],
      "execution_count": 0,
      "outputs": [
        {
          "output_type": "stream",
          "text": [
            "Drive already mounted at /content/drive; to attempt to forcibly remount, call drive.mount(\"/content/drive\", force_remount=True).\n"
          ],
          "name": "stdout"
        }
      ]
    },
    {
      "metadata": {
        "id": "pZRPlWwu7-SW",
        "colab_type": "text"
      },
      "cell_type": "markdown",
      "source": [
        "## Reading Data"
      ]
    },
    {
      "metadata": {
        "id": "3cwoPoZlydHn",
        "colab_type": "code",
        "outputId": "7d07bd81-4002-484f-ac19-53cdded08a5e",
        "colab": {
          "base_uri": "https://localhost:8080/",
          "height": 619
        }
      },
      "cell_type": "code",
      "source": [
        "# using SQLite Table to read data.\n",
        "con = sqlite3.connect('database.sqlite') \n",
        "filtered_data = pd.read_sql_query(\"\"\" SELECT * FROM Reviews WHERE Score != 3 \"\"\", con) \n",
        "print(filtered_data.shape)\n",
        "filtered_data.head()"
      ],
      "execution_count": 0,
      "outputs": [
        {
          "output_type": "stream",
          "text": [
            "(525814, 10)\n"
          ],
          "name": "stdout"
        },
        {
          "output_type": "execute_result",
          "data": {
            "text/html": [
              "<div>\n",
              "<style scoped>\n",
              "    .dataframe tbody tr th:only-of-type {\n",
              "        vertical-align: middle;\n",
              "    }\n",
              "\n",
              "    .dataframe tbody tr th {\n",
              "        vertical-align: top;\n",
              "    }\n",
              "\n",
              "    .dataframe thead th {\n",
              "        text-align: right;\n",
              "    }\n",
              "</style>\n",
              "<table border=\"1\" class=\"dataframe\">\n",
              "  <thead>\n",
              "    <tr style=\"text-align: right;\">\n",
              "      <th></th>\n",
              "      <th>Id</th>\n",
              "      <th>ProductId</th>\n",
              "      <th>UserId</th>\n",
              "      <th>ProfileName</th>\n",
              "      <th>HelpfulnessNumerator</th>\n",
              "      <th>HelpfulnessDenominator</th>\n",
              "      <th>Score</th>\n",
              "      <th>Time</th>\n",
              "      <th>Summary</th>\n",
              "      <th>Text</th>\n",
              "    </tr>\n",
              "  </thead>\n",
              "  <tbody>\n",
              "    <tr>\n",
              "      <th>0</th>\n",
              "      <td>1</td>\n",
              "      <td>B001E4KFG0</td>\n",
              "      <td>A3SGXH7AUHU8GW</td>\n",
              "      <td>delmartian</td>\n",
              "      <td>1</td>\n",
              "      <td>1</td>\n",
              "      <td>5</td>\n",
              "      <td>1303862400</td>\n",
              "      <td>Good Quality Dog Food</td>\n",
              "      <td>I have bought several of the Vitality canned d...</td>\n",
              "    </tr>\n",
              "    <tr>\n",
              "      <th>1</th>\n",
              "      <td>2</td>\n",
              "      <td>B00813GRG4</td>\n",
              "      <td>A1D87F6ZCVE5NK</td>\n",
              "      <td>dll pa</td>\n",
              "      <td>0</td>\n",
              "      <td>0</td>\n",
              "      <td>1</td>\n",
              "      <td>1346976000</td>\n",
              "      <td>Not as Advertised</td>\n",
              "      <td>Product arrived labeled as Jumbo Salted Peanut...</td>\n",
              "    </tr>\n",
              "    <tr>\n",
              "      <th>2</th>\n",
              "      <td>3</td>\n",
              "      <td>B000LQOCH0</td>\n",
              "      <td>ABXLMWJIXXAIN</td>\n",
              "      <td>Natalia Corres \"Natalia Corres\"</td>\n",
              "      <td>1</td>\n",
              "      <td>1</td>\n",
              "      <td>4</td>\n",
              "      <td>1219017600</td>\n",
              "      <td>\"Delight\" says it all</td>\n",
              "      <td>This is a confection that has been around a fe...</td>\n",
              "    </tr>\n",
              "    <tr>\n",
              "      <th>3</th>\n",
              "      <td>4</td>\n",
              "      <td>B000UA0QIQ</td>\n",
              "      <td>A395BORC6FGVXV</td>\n",
              "      <td>Karl</td>\n",
              "      <td>3</td>\n",
              "      <td>3</td>\n",
              "      <td>2</td>\n",
              "      <td>1307923200</td>\n",
              "      <td>Cough Medicine</td>\n",
              "      <td>If you are looking for the secret ingredient i...</td>\n",
              "    </tr>\n",
              "    <tr>\n",
              "      <th>4</th>\n",
              "      <td>5</td>\n",
              "      <td>B006K2ZZ7K</td>\n",
              "      <td>A1UQRSCLF8GW1T</td>\n",
              "      <td>Michael D. Bigham \"M. Wassir\"</td>\n",
              "      <td>0</td>\n",
              "      <td>0</td>\n",
              "      <td>5</td>\n",
              "      <td>1350777600</td>\n",
              "      <td>Great taffy</td>\n",
              "      <td>Great taffy at a great price.  There was a wid...</td>\n",
              "    </tr>\n",
              "  </tbody>\n",
              "</table>\n",
              "</div>"
            ],
            "text/plain": [
              "   Id   ProductId          UserId                      ProfileName  \\\n",
              "0   1  B001E4KFG0  A3SGXH7AUHU8GW                       delmartian   \n",
              "1   2  B00813GRG4  A1D87F6ZCVE5NK                           dll pa   \n",
              "2   3  B000LQOCH0   ABXLMWJIXXAIN  Natalia Corres \"Natalia Corres\"   \n",
              "3   4  B000UA0QIQ  A395BORC6FGVXV                             Karl   \n",
              "4   5  B006K2ZZ7K  A1UQRSCLF8GW1T    Michael D. Bigham \"M. Wassir\"   \n",
              "\n",
              "   HelpfulnessNumerator  HelpfulnessDenominator  Score        Time  \\\n",
              "0                     1                       1      5  1303862400   \n",
              "1                     0                       0      1  1346976000   \n",
              "2                     1                       1      4  1219017600   \n",
              "3                     3                       3      2  1307923200   \n",
              "4                     0                       0      5  1350777600   \n",
              "\n",
              "                 Summary                                               Text  \n",
              "0  Good Quality Dog Food  I have bought several of the Vitality canned d...  \n",
              "1      Not as Advertised  Product arrived labeled as Jumbo Salted Peanut...  \n",
              "2  \"Delight\" says it all  This is a confection that has been around a fe...  \n",
              "3         Cough Medicine  If you are looking for the secret ingredient i...  \n",
              "4            Great taffy  Great taffy at a great price.  There was a wid...  "
            ]
          },
          "metadata": {
            "tags": []
          },
          "execution_count": 3
        }
      ]
    },
    {
      "metadata": {
        "id": "rXVxnx_NJkjO",
        "colab_type": "code",
        "colab": {}
      },
      "cell_type": "code",
      "source": [
        "# Give reviews with Score>3 a positive rating(1), and reviews with a score<3 a negative rating(0).\n",
        "def partition(x):\n",
        "    if x < 3:\n",
        "        return 0\n",
        "    return 1"
      ],
      "execution_count": 0,
      "outputs": []
    },
    {
      "metadata": {
        "id": "0jRRLR8i8HYC",
        "colab_type": "code",
        "outputId": "e6b81998-2c45-40af-fd08-cdd051598dbc",
        "colab": {
          "base_uri": "https://localhost:8080/",
          "height": 619
        }
      },
      "cell_type": "code",
      "source": [
        "#changing reviews with score less than 3 to be positive and vice-versa\n",
        "actualScore = filtered_data['Score']\n",
        "positiveNegative = actualScore.map(partition) \n",
        "filtered_data['Score'] = positiveNegative\n",
        "print(\"Number of data points in our data\", filtered_data.shape)\n",
        "filtered_data.head()"
      ],
      "execution_count": 0,
      "outputs": [
        {
          "output_type": "stream",
          "text": [
            "Number of data points in our data (525814, 10)\n"
          ],
          "name": "stdout"
        },
        {
          "output_type": "execute_result",
          "data": {
            "text/html": [
              "<div>\n",
              "<style scoped>\n",
              "    .dataframe tbody tr th:only-of-type {\n",
              "        vertical-align: middle;\n",
              "    }\n",
              "\n",
              "    .dataframe tbody tr th {\n",
              "        vertical-align: top;\n",
              "    }\n",
              "\n",
              "    .dataframe thead th {\n",
              "        text-align: right;\n",
              "    }\n",
              "</style>\n",
              "<table border=\"1\" class=\"dataframe\">\n",
              "  <thead>\n",
              "    <tr style=\"text-align: right;\">\n",
              "      <th></th>\n",
              "      <th>Id</th>\n",
              "      <th>ProductId</th>\n",
              "      <th>UserId</th>\n",
              "      <th>ProfileName</th>\n",
              "      <th>HelpfulnessNumerator</th>\n",
              "      <th>HelpfulnessDenominator</th>\n",
              "      <th>Score</th>\n",
              "      <th>Time</th>\n",
              "      <th>Summary</th>\n",
              "      <th>Text</th>\n",
              "    </tr>\n",
              "  </thead>\n",
              "  <tbody>\n",
              "    <tr>\n",
              "      <th>0</th>\n",
              "      <td>1</td>\n",
              "      <td>B001E4KFG0</td>\n",
              "      <td>A3SGXH7AUHU8GW</td>\n",
              "      <td>delmartian</td>\n",
              "      <td>1</td>\n",
              "      <td>1</td>\n",
              "      <td>1</td>\n",
              "      <td>1303862400</td>\n",
              "      <td>Good Quality Dog Food</td>\n",
              "      <td>I have bought several of the Vitality canned d...</td>\n",
              "    </tr>\n",
              "    <tr>\n",
              "      <th>1</th>\n",
              "      <td>2</td>\n",
              "      <td>B00813GRG4</td>\n",
              "      <td>A1D87F6ZCVE5NK</td>\n",
              "      <td>dll pa</td>\n",
              "      <td>0</td>\n",
              "      <td>0</td>\n",
              "      <td>0</td>\n",
              "      <td>1346976000</td>\n",
              "      <td>Not as Advertised</td>\n",
              "      <td>Product arrived labeled as Jumbo Salted Peanut...</td>\n",
              "    </tr>\n",
              "    <tr>\n",
              "      <th>2</th>\n",
              "      <td>3</td>\n",
              "      <td>B000LQOCH0</td>\n",
              "      <td>ABXLMWJIXXAIN</td>\n",
              "      <td>Natalia Corres \"Natalia Corres\"</td>\n",
              "      <td>1</td>\n",
              "      <td>1</td>\n",
              "      <td>1</td>\n",
              "      <td>1219017600</td>\n",
              "      <td>\"Delight\" says it all</td>\n",
              "      <td>This is a confection that has been around a fe...</td>\n",
              "    </tr>\n",
              "    <tr>\n",
              "      <th>3</th>\n",
              "      <td>4</td>\n",
              "      <td>B000UA0QIQ</td>\n",
              "      <td>A395BORC6FGVXV</td>\n",
              "      <td>Karl</td>\n",
              "      <td>3</td>\n",
              "      <td>3</td>\n",
              "      <td>0</td>\n",
              "      <td>1307923200</td>\n",
              "      <td>Cough Medicine</td>\n",
              "      <td>If you are looking for the secret ingredient i...</td>\n",
              "    </tr>\n",
              "    <tr>\n",
              "      <th>4</th>\n",
              "      <td>5</td>\n",
              "      <td>B006K2ZZ7K</td>\n",
              "      <td>A1UQRSCLF8GW1T</td>\n",
              "      <td>Michael D. Bigham \"M. Wassir\"</td>\n",
              "      <td>0</td>\n",
              "      <td>0</td>\n",
              "      <td>1</td>\n",
              "      <td>1350777600</td>\n",
              "      <td>Great taffy</td>\n",
              "      <td>Great taffy at a great price.  There was a wid...</td>\n",
              "    </tr>\n",
              "  </tbody>\n",
              "</table>\n",
              "</div>"
            ],
            "text/plain": [
              "   Id   ProductId          UserId                      ProfileName  \\\n",
              "0   1  B001E4KFG0  A3SGXH7AUHU8GW                       delmartian   \n",
              "1   2  B00813GRG4  A1D87F6ZCVE5NK                           dll pa   \n",
              "2   3  B000LQOCH0   ABXLMWJIXXAIN  Natalia Corres \"Natalia Corres\"   \n",
              "3   4  B000UA0QIQ  A395BORC6FGVXV                             Karl   \n",
              "4   5  B006K2ZZ7K  A1UQRSCLF8GW1T    Michael D. Bigham \"M. Wassir\"   \n",
              "\n",
              "   HelpfulnessNumerator  HelpfulnessDenominator  Score        Time  \\\n",
              "0                     1                       1      1  1303862400   \n",
              "1                     0                       0      0  1346976000   \n",
              "2                     1                       1      1  1219017600   \n",
              "3                     3                       3      0  1307923200   \n",
              "4                     0                       0      1  1350777600   \n",
              "\n",
              "                 Summary                                               Text  \n",
              "0  Good Quality Dog Food  I have bought several of the Vitality canned d...  \n",
              "1      Not as Advertised  Product arrived labeled as Jumbo Salted Peanut...  \n",
              "2  \"Delight\" says it all  This is a confection that has been around a fe...  \n",
              "3         Cough Medicine  If you are looking for the secret ingredient i...  \n",
              "4            Great taffy  Great taffy at a great price.  There was a wid...  "
            ]
          },
          "metadata": {
            "tags": []
          },
          "execution_count": 5
        }
      ]
    },
    {
      "metadata": {
        "id": "y22fy_WtJkji",
        "colab_type": "text"
      },
      "cell_type": "markdown",
      "source": [
        "#  [2] Exploratory Data Analysis"
      ]
    },
    {
      "metadata": {
        "id": "ZqpW3tWPJkjl",
        "colab_type": "text"
      },
      "cell_type": "markdown",
      "source": [
        "## [2.1] Data Cleaning: Deduplication\n",
        "\n",
        "It is observed (as shown in the table below) that the reviews data had many duplicate entries. Hence it was necessary to remove duplicates in order to get unbiased results for the analysis of the data.  Following is an example:"
      ]
    },
    {
      "metadata": {
        "scrolled": false,
        "id": "fmlu_oooJkjl",
        "colab_type": "code",
        "outputId": "18de67d2-3277-49d4-f7ad-52bb7fb5437f",
        "colab": {
          "base_uri": "https://localhost:8080/",
          "height": 551
        }
      },
      "cell_type": "code",
      "source": [
        "display= pd.read_sql_query(\"\"\"\n",
        "SELECT *\n",
        "FROM Reviews\n",
        "WHERE Score != 3 AND UserId=\"AR5J8UI46CURR\"\n",
        "ORDER BY ProductID\n",
        "\"\"\", con)\n",
        "display.head()"
      ],
      "execution_count": 0,
      "outputs": [
        {
          "output_type": "execute_result",
          "data": {
            "text/html": [
              "<div>\n",
              "<style scoped>\n",
              "    .dataframe tbody tr th:only-of-type {\n",
              "        vertical-align: middle;\n",
              "    }\n",
              "\n",
              "    .dataframe tbody tr th {\n",
              "        vertical-align: top;\n",
              "    }\n",
              "\n",
              "    .dataframe thead th {\n",
              "        text-align: right;\n",
              "    }\n",
              "</style>\n",
              "<table border=\"1\" class=\"dataframe\">\n",
              "  <thead>\n",
              "    <tr style=\"text-align: right;\">\n",
              "      <th></th>\n",
              "      <th>Id</th>\n",
              "      <th>ProductId</th>\n",
              "      <th>UserId</th>\n",
              "      <th>ProfileName</th>\n",
              "      <th>HelpfulnessNumerator</th>\n",
              "      <th>HelpfulnessDenominator</th>\n",
              "      <th>Score</th>\n",
              "      <th>Time</th>\n",
              "      <th>Summary</th>\n",
              "      <th>Text</th>\n",
              "    </tr>\n",
              "  </thead>\n",
              "  <tbody>\n",
              "    <tr>\n",
              "      <th>0</th>\n",
              "      <td>78445</td>\n",
              "      <td>B000HDL1RQ</td>\n",
              "      <td>AR5J8UI46CURR</td>\n",
              "      <td>Geetha Krishnan</td>\n",
              "      <td>2</td>\n",
              "      <td>2</td>\n",
              "      <td>5</td>\n",
              "      <td>1199577600</td>\n",
              "      <td>LOACKER QUADRATINI VANILLA WAFERS</td>\n",
              "      <td>DELICIOUS WAFERS. I FIND THAT EUROPEAN WAFERS ...</td>\n",
              "    </tr>\n",
              "    <tr>\n",
              "      <th>1</th>\n",
              "      <td>138317</td>\n",
              "      <td>B000HDOPYC</td>\n",
              "      <td>AR5J8UI46CURR</td>\n",
              "      <td>Geetha Krishnan</td>\n",
              "      <td>2</td>\n",
              "      <td>2</td>\n",
              "      <td>5</td>\n",
              "      <td>1199577600</td>\n",
              "      <td>LOACKER QUADRATINI VANILLA WAFERS</td>\n",
              "      <td>DELICIOUS WAFERS. I FIND THAT EUROPEAN WAFERS ...</td>\n",
              "    </tr>\n",
              "    <tr>\n",
              "      <th>2</th>\n",
              "      <td>138277</td>\n",
              "      <td>B000HDOPYM</td>\n",
              "      <td>AR5J8UI46CURR</td>\n",
              "      <td>Geetha Krishnan</td>\n",
              "      <td>2</td>\n",
              "      <td>2</td>\n",
              "      <td>5</td>\n",
              "      <td>1199577600</td>\n",
              "      <td>LOACKER QUADRATINI VANILLA WAFERS</td>\n",
              "      <td>DELICIOUS WAFERS. I FIND THAT EUROPEAN WAFERS ...</td>\n",
              "    </tr>\n",
              "    <tr>\n",
              "      <th>3</th>\n",
              "      <td>73791</td>\n",
              "      <td>B000HDOPZG</td>\n",
              "      <td>AR5J8UI46CURR</td>\n",
              "      <td>Geetha Krishnan</td>\n",
              "      <td>2</td>\n",
              "      <td>2</td>\n",
              "      <td>5</td>\n",
              "      <td>1199577600</td>\n",
              "      <td>LOACKER QUADRATINI VANILLA WAFERS</td>\n",
              "      <td>DELICIOUS WAFERS. I FIND THAT EUROPEAN WAFERS ...</td>\n",
              "    </tr>\n",
              "    <tr>\n",
              "      <th>4</th>\n",
              "      <td>155049</td>\n",
              "      <td>B000PAQ75C</td>\n",
              "      <td>AR5J8UI46CURR</td>\n",
              "      <td>Geetha Krishnan</td>\n",
              "      <td>2</td>\n",
              "      <td>2</td>\n",
              "      <td>5</td>\n",
              "      <td>1199577600</td>\n",
              "      <td>LOACKER QUADRATINI VANILLA WAFERS</td>\n",
              "      <td>DELICIOUS WAFERS. I FIND THAT EUROPEAN WAFERS ...</td>\n",
              "    </tr>\n",
              "  </tbody>\n",
              "</table>\n",
              "</div>"
            ],
            "text/plain": [
              "       Id   ProductId         UserId      ProfileName  HelpfulnessNumerator  \\\n",
              "0   78445  B000HDL1RQ  AR5J8UI46CURR  Geetha Krishnan                     2   \n",
              "1  138317  B000HDOPYC  AR5J8UI46CURR  Geetha Krishnan                     2   \n",
              "2  138277  B000HDOPYM  AR5J8UI46CURR  Geetha Krishnan                     2   \n",
              "3   73791  B000HDOPZG  AR5J8UI46CURR  Geetha Krishnan                     2   \n",
              "4  155049  B000PAQ75C  AR5J8UI46CURR  Geetha Krishnan                     2   \n",
              "\n",
              "   HelpfulnessDenominator  Score        Time  \\\n",
              "0                       2      5  1199577600   \n",
              "1                       2      5  1199577600   \n",
              "2                       2      5  1199577600   \n",
              "3                       2      5  1199577600   \n",
              "4                       2      5  1199577600   \n",
              "\n",
              "                             Summary  \\\n",
              "0  LOACKER QUADRATINI VANILLA WAFERS   \n",
              "1  LOACKER QUADRATINI VANILLA WAFERS   \n",
              "2  LOACKER QUADRATINI VANILLA WAFERS   \n",
              "3  LOACKER QUADRATINI VANILLA WAFERS   \n",
              "4  LOACKER QUADRATINI VANILLA WAFERS   \n",
              "\n",
              "                                                Text  \n",
              "0  DELICIOUS WAFERS. I FIND THAT EUROPEAN WAFERS ...  \n",
              "1  DELICIOUS WAFERS. I FIND THAT EUROPEAN WAFERS ...  \n",
              "2  DELICIOUS WAFERS. I FIND THAT EUROPEAN WAFERS ...  \n",
              "3  DELICIOUS WAFERS. I FIND THAT EUROPEAN WAFERS ...  \n",
              "4  DELICIOUS WAFERS. I FIND THAT EUROPEAN WAFERS ...  "
            ]
          },
          "metadata": {
            "tags": []
          },
          "execution_count": 6
        }
      ]
    },
    {
      "metadata": {
        "id": "pvogJHEyJkjq",
        "colab_type": "text"
      },
      "cell_type": "markdown",
      "source": [
        "As it can be seen above that same user has multiple reviews with same values for HelpfulnessNumerator, HelpfulnessDenominator, Score, Time, Summary and Text and on doing analysis it was found that <br>\n",
        "<br> \n",
        "ProductId=B000HDOPZG was Loacker Quadratini Vanilla Wafer Cookies, 8.82-Ounce Packages (Pack of 8)<br>\n",
        "<br> \n",
        "ProductId=B000HDL1RQ was Loacker Quadratini Lemon Wafer Cookies, 8.82-Ounce Packages (Pack of 8) and so on<br>\n",
        "\n",
        "It was inferred after analysis that reviews with same parameters other than ProductId belonged to the same product just having different flavour or quantity. Hence in order to reduce redundancy it was decided to eliminate the rows having same parameters.<br>\n",
        "\n",
        "The method used for the same was that we first sort the data according to ProductId and then just keep the first similar product review and delelte the others. for eg. in the above just the review for ProductId=B000HDL1RQ remains. This method ensures that there is only one representative for each product and deduplication without sorting would lead to possibility of different representatives still existing for the same product."
      ]
    },
    {
      "metadata": {
        "id": "LAWOrfBaJkjr",
        "colab_type": "code",
        "outputId": "f1145e61-5779-49c0-b122-8078dbd2c0f7",
        "colab": {
          "base_uri": "https://localhost:8080/",
          "height": 34
        }
      },
      "cell_type": "code",
      "source": [
        "#Sorting data according to ProductId in ascending order\n",
        "sorted_data=filtered_data.sort_values('ProductId', axis=0, ascending=True, inplace=False)\n",
        "sorted_data.shape"
      ],
      "execution_count": 0,
      "outputs": [
        {
          "output_type": "execute_result",
          "data": {
            "text/plain": [
              "(525814, 10)"
            ]
          },
          "metadata": {
            "tags": []
          },
          "execution_count": 7
        }
      ]
    },
    {
      "metadata": {
        "id": "dfaQob28Jkju",
        "colab_type": "code",
        "outputId": "56e685fe-cba2-4779-a2d4-588b3266ca03",
        "colab": {
          "base_uri": "https://localhost:8080/",
          "height": 34
        }
      },
      "cell_type": "code",
      "source": [
        "#Deduplication of entries\n",
        "final=sorted_data.drop_duplicates(subset={\"UserId\",\"ProfileName\",\"Time\",\"Text\"}, keep='first', inplace=False)\n",
        "final.shape"
      ],
      "execution_count": 0,
      "outputs": [
        {
          "output_type": "execute_result",
          "data": {
            "text/plain": [
              "(364173, 10)"
            ]
          },
          "metadata": {
            "tags": []
          },
          "execution_count": 8
        }
      ]
    },
    {
      "metadata": {
        "id": "9QVxT6oxJkjx",
        "colab_type": "code",
        "outputId": "18d4d8a1-485e-4df6-d5d2-d6f3eea36619",
        "colab": {
          "base_uri": "https://localhost:8080/",
          "height": 34
        }
      },
      "cell_type": "code",
      "source": [
        "#Checking to see how much % of data still remains\n",
        "(final['Id'].size*1.0)/(filtered_data['Id'].size*1.0)*100"
      ],
      "execution_count": 0,
      "outputs": [
        {
          "output_type": "execute_result",
          "data": {
            "text/plain": [
              "69.25890143662969"
            ]
          },
          "metadata": {
            "tags": []
          },
          "execution_count": 9
        }
      ]
    },
    {
      "metadata": {
        "id": "qVaxONHLJkj1",
        "colab_type": "text"
      },
      "cell_type": "markdown",
      "source": [
        "<b>Observation:-</b> It was also seen that in two rows given below the value of HelpfulnessNumerator is greater than HelpfulnessDenominator which is not practically possible hence these two rows too are removed from calcualtions"
      ]
    },
    {
      "metadata": {
        "id": "vLoqfOjcJkj1",
        "colab_type": "code",
        "outputId": "7a455bf4-09e6-456a-d4c6-1ec0caa63198",
        "colab": {
          "base_uri": "https://localhost:8080/",
          "height": 328
        }
      },
      "cell_type": "code",
      "source": [
        "display= pd.read_sql_query(\"\"\"\n",
        "SELECT *\n",
        "FROM Reviews\n",
        "WHERE Score != 3 AND Id=44737 OR Id=64422\n",
        "ORDER BY ProductID\n",
        "\"\"\", con)\n",
        "\n",
        "display.head()"
      ],
      "execution_count": 0,
      "outputs": [
        {
          "output_type": "execute_result",
          "data": {
            "text/html": [
              "<div>\n",
              "<style scoped>\n",
              "    .dataframe tbody tr th:only-of-type {\n",
              "        vertical-align: middle;\n",
              "    }\n",
              "\n",
              "    .dataframe tbody tr th {\n",
              "        vertical-align: top;\n",
              "    }\n",
              "\n",
              "    .dataframe thead th {\n",
              "        text-align: right;\n",
              "    }\n",
              "</style>\n",
              "<table border=\"1\" class=\"dataframe\">\n",
              "  <thead>\n",
              "    <tr style=\"text-align: right;\">\n",
              "      <th></th>\n",
              "      <th>Id</th>\n",
              "      <th>ProductId</th>\n",
              "      <th>UserId</th>\n",
              "      <th>ProfileName</th>\n",
              "      <th>HelpfulnessNumerator</th>\n",
              "      <th>HelpfulnessDenominator</th>\n",
              "      <th>Score</th>\n",
              "      <th>Time</th>\n",
              "      <th>Summary</th>\n",
              "      <th>Text</th>\n",
              "    </tr>\n",
              "  </thead>\n",
              "  <tbody>\n",
              "    <tr>\n",
              "      <th>0</th>\n",
              "      <td>64422</td>\n",
              "      <td>B000MIDROQ</td>\n",
              "      <td>A161DK06JJMCYF</td>\n",
              "      <td>J. E. Stephens \"Jeanne\"</td>\n",
              "      <td>3</td>\n",
              "      <td>1</td>\n",
              "      <td>5</td>\n",
              "      <td>1224892800</td>\n",
              "      <td>Bought This for My Son at College</td>\n",
              "      <td>My son loves spaghetti so I didn't hesitate or...</td>\n",
              "    </tr>\n",
              "    <tr>\n",
              "      <th>1</th>\n",
              "      <td>44737</td>\n",
              "      <td>B001EQ55RW</td>\n",
              "      <td>A2V0I904FH7ABY</td>\n",
              "      <td>Ram</td>\n",
              "      <td>3</td>\n",
              "      <td>2</td>\n",
              "      <td>4</td>\n",
              "      <td>1212883200</td>\n",
              "      <td>Pure cocoa taste with crunchy almonds inside</td>\n",
              "      <td>It was almost a 'love at first bite' - the per...</td>\n",
              "    </tr>\n",
              "  </tbody>\n",
              "</table>\n",
              "</div>"
            ],
            "text/plain": [
              "      Id   ProductId          UserId              ProfileName  \\\n",
              "0  64422  B000MIDROQ  A161DK06JJMCYF  J. E. Stephens \"Jeanne\"   \n",
              "1  44737  B001EQ55RW  A2V0I904FH7ABY                      Ram   \n",
              "\n",
              "   HelpfulnessNumerator  HelpfulnessDenominator  Score        Time  \\\n",
              "0                     3                       1      5  1224892800   \n",
              "1                     3                       2      4  1212883200   \n",
              "\n",
              "                                        Summary  \\\n",
              "0             Bought This for My Son at College   \n",
              "1  Pure cocoa taste with crunchy almonds inside   \n",
              "\n",
              "                                                Text  \n",
              "0  My son loves spaghetti so I didn't hesitate or...  \n",
              "1  It was almost a 'love at first bite' - the per...  "
            ]
          },
          "metadata": {
            "tags": []
          },
          "execution_count": 10
        }
      ]
    },
    {
      "metadata": {
        "id": "f_185ozFJkj9",
        "colab_type": "code",
        "colab": {}
      },
      "cell_type": "code",
      "source": [
        "final=final[final.HelpfulnessNumerator<=final.HelpfulnessDenominator]"
      ],
      "execution_count": 0,
      "outputs": []
    },
    {
      "metadata": {
        "id": "CofRySJyJkkC",
        "colab_type": "code",
        "outputId": "18ccf227-baed-4324-9e30-7e1dba8ac5c6",
        "colab": {
          "base_uri": "https://localhost:8080/",
          "height": 87
        }
      },
      "cell_type": "code",
      "source": [
        "#Before starting the next phase of preprocessing lets see the number of entries left\n",
        "print(final.shape)\n",
        "\n",
        "#How many positive and negative reviews are present in our dataset?\n",
        "final['Score'].value_counts()"
      ],
      "execution_count": 0,
      "outputs": [
        {
          "output_type": "stream",
          "text": [
            "(364171, 10)\n"
          ],
          "name": "stdout"
        },
        {
          "output_type": "execute_result",
          "data": {
            "text/plain": [
              "1    307061\n",
              "0     57110\n",
              "Name: Score, dtype: int64"
            ]
          },
          "metadata": {
            "tags": []
          },
          "execution_count": 12
        }
      ]
    },
    {
      "metadata": {
        "id": "-fEWeywxJkkI",
        "colab_type": "text"
      },
      "cell_type": "markdown",
      "source": [
        "#  [3] Preprocessing"
      ]
    },
    {
      "metadata": {
        "id": "tzpbt9aOJkkJ",
        "colab_type": "text"
      },
      "cell_type": "markdown",
      "source": [
        "## [3.1].  Preprocessing Review Text\n",
        "\n",
        "Now that we have finished deduplication our data requires some preprocessing before we go on further with analysis and making the prediction model.\n",
        "\n",
        "Hence in the Preprocessing phase we do the following in the order below:-\n",
        "\n",
        "1. Begin by removing the html tags\n",
        "2. Remove any punctuations or limited set of special characters like , or . or # etc.\n",
        "3. Check if the word is made up of english letters and is not alpha-numeric\n",
        "4. Check to see if the length of the word is greater than 2 (as it was researched that there is no adjective in 2-letters)\n",
        "5. Convert the word to lowercase\n",
        "6. Remove Stopwords\n",
        "7. Finally Snowball Stemming the word (it was obsereved to be better than Porter Stemming)<br>\n",
        "\n",
        "After which we collect the words used to describe positive and negative reviews"
      ]
    },
    {
      "metadata": {
        "id": "KzbJ7_ms9tPE",
        "colab_type": "code",
        "outputId": "675dc63e-2d49-4f80-bf9d-ddbbfe0a46ed",
        "colab": {
          "base_uri": "https://localhost:8080/",
          "height": 178
        }
      },
      "cell_type": "code",
      "source": [
        "# printing some random reviews\n",
        "sent_0 = final['Text'].values[0]\n",
        "print(sent_0)\n",
        "print(\"=\"*50)\n",
        "\n",
        "sent_1000 = final['Text'].values[1000]\n",
        "print(sent_1000)\n",
        "print(\"=\"*50)\n",
        "\n",
        "sent_1500 = final['Text'].values[1500]\n",
        "print(sent_1500)\n",
        "print(\"=\"*50)\n",
        "\n",
        "sent_4900 = final['Text'].values[4900]\n",
        "print(sent_4900)\n",
        "print(\"=\"*50)"
      ],
      "execution_count": 0,
      "outputs": [
        {
          "output_type": "stream",
          "text": [
            "this witty little book makes my son laugh at loud. i recite it in the car as we're driving along and he always can sing the refrain. he's learned about whales, India, drooping roses:  i love all the new words this book  introduces and the silliness of it all.  this is a classic book i am  willing to bet my son will STILL be able to recite from memory when he is  in college\n",
            "==================================================\n",
            "I was really looking forward to these pods based on the reviews.  Starbucks is good, but I prefer bolder taste.... imagine my surprise when I ordered 2 boxes - both were expired! One expired back in 2005 for gosh sakes.  I admit that Amazon agreed to credit me for cost plus part of shipping, but geez, 2 years expired!!!  I'm hoping to find local San Diego area shoppe that carries pods so that I can try something different than starbucks.\n",
            "==================================================\n",
            "Great ingredients although, chicken should have been 1st rather than chicken broth, the only thing I do not think belongs in it is Canola oil. Canola or rapeseed is not someting a dog would ever find in nature and if it did find rapeseed in nature and eat it, it would poison them. Today's Food industries have convinced the masses that Canola oil is a safe and even better oil than olive or virgin coconut, facts though say otherwise. Until the late 70's it was poisonous until they figured out a way to fix that. I still like it but it could be better.\n",
            "==================================================\n",
            "Can't do sugar.  Have tried scores of SF Syrups.  NONE of them can touch the excellence of this product.<br /><br />Thick, delicious.  Perfect.  3 ingredients: Water, Maltitol, Natural Maple Flavor.  PERIOD.  No chemicals.  No garbage.<br /><br />Have numerous friends & family members hooked on this stuff.  My husband & son, who do NOT like \"sugar free\" prefer this over major label regular syrup.<br /><br />I use this as my SWEETENER in baking: cheesecakes, white brownies, muffins, pumpkin pies, etc... Unbelievably delicious...<br /><br />Can you tell I like it? :)\n",
            "==================================================\n"
          ],
          "name": "stdout"
        }
      ]
    },
    {
      "metadata": {
        "id": "lWiJ2_9gJkkP",
        "colab_type": "code",
        "colab": {}
      },
      "cell_type": "code",
      "source": [
        "# remove urls from text python: https://stackoverflow.com/a/40823105/4084039\n",
        "for i in range(0,364171):\n",
        "  final['Text'].values[i]=re.sub(r\"http\\S+\", \"\", final['Text'].values[i])\n",
        "  "
      ],
      "execution_count": 0,
      "outputs": []
    },
    {
      "metadata": {
        "id": "cpLtZ-lAJkkR",
        "colab_type": "code",
        "colab": {}
      },
      "cell_type": "code",
      "source": [
        "#removing html tags\n",
        "from bs4 import BeautifulSoup\n",
        "\n",
        "for i in range(1,364171):\n",
        "  soup=BeautifulSoup(final['Text'].values[i],'lxml')\n",
        "  text=soup.get_text()\n",
        "  final['Text'].values[i]=text"
      ],
      "execution_count": 0,
      "outputs": []
    },
    {
      "metadata": {
        "id": "HYBbtiCMJkkW",
        "colab_type": "code",
        "colab": {}
      },
      "cell_type": "code",
      "source": [
        "# https://stackoverflow.com/a/47091490/4084039\n",
        "import re\n",
        "\n",
        "def decontracted(phrase):\n",
        "    # specific\n",
        "    phrase = re.sub(r\"won't\", \"will not\", phrase)\n",
        "    phrase = re.sub(r\"can\\'t\", \"can not\", phrase)\n",
        "\n",
        "    # general\n",
        "    phrase = re.sub(r\"n\\'t\", \" not\", phrase)\n",
        "    phrase = re.sub(r\"\\'re\", \" are\", phrase)\n",
        "    phrase = re.sub(r\"\\'s\", \" is\", phrase)\n",
        "    phrase = re.sub(r\"\\'d\", \" would\", phrase)\n",
        "    phrase = re.sub(r\"\\'ll\", \" will\", phrase)\n",
        "    phrase = re.sub(r\"\\'t\", \" not\", phrase)\n",
        "    phrase = re.sub(r\"\\'ve\", \" have\", phrase)\n",
        "    phrase = re.sub(r\"\\'m\", \" am\", phrase)\n",
        "    return phrase"
      ],
      "execution_count": 0,
      "outputs": []
    },
    {
      "metadata": {
        "id": "WPQSZurTJkkY",
        "colab_type": "code",
        "colab": {}
      },
      "cell_type": "code",
      "source": [
        "for i in range(0,364171):\n",
        "  final['Text'].values[i]=decontracted(final['Text'].values[i])"
      ],
      "execution_count": 0,
      "outputs": []
    },
    {
      "metadata": {
        "id": "6bakeyaQJkkb",
        "colab_type": "code",
        "colab": {}
      },
      "cell_type": "code",
      "source": [
        "#remove words with numbers \n",
        "for i in range(0,364171):\n",
        "  final['Text'].values[i]=re.sub(\"\\S*\\d\\S*\", \"\", final['Text'].values[i]).strip()\n"
      ],
      "execution_count": 0,
      "outputs": []
    },
    {
      "metadata": {
        "id": "dMqqVqadJkkg",
        "colab_type": "code",
        "colab": {}
      },
      "cell_type": "code",
      "source": [
        "#remove spacial character \n",
        "for i in range(0,364171):\n",
        "  final['Text'].values[i]=re.sub('[^A-Za-z0-9]+', ' ', final['Text'].values[i])\n"
      ],
      "execution_count": 0,
      "outputs": []
    },
    {
      "metadata": {
        "id": "bvEoXB5NJkkk",
        "colab_type": "code",
        "colab": {}
      },
      "cell_type": "code",
      "source": [
        "# https://gist.github.com/sebleier/554280\n",
        "# we are removing the words from the stop words list: 'no', 'nor', 'not'\n",
        "# <br /><br /> ==> after the above steps, we are getting \"br br\"\n",
        "# we are including them into stop words list\n",
        "# instead of <br /> if we have <br/> these tags would have revmoved in the 1st step\n",
        "\n",
        "stopwords= set(['br', 'the', 'i', 'me', 'my', 'myself', 'we', 'our', 'ours', 'ourselves', 'you', \"you're\", \"you've\",\\\n",
        "            \"you'll\", \"you'd\", 'your', 'yours', 'yourself', 'yourselves', 'he', 'him', 'his', 'himself', \\\n",
        "            'she', \"she's\", 'her', 'hers', 'herself', 'it', \"it's\", 'its', 'itself', 'they', 'them', 'their',\\\n",
        "            'theirs', 'themselves', 'what', 'which', 'who', 'whom', 'this', 'that', \"that'll\", 'these', 'those', \\\n",
        "            'am', 'is', 'are', 'was', 'were', 'be', 'been', 'being', 'have', 'has', 'had', 'having', 'do', 'does', \\\n",
        "            'did', 'doing', 'a', 'an', 'the', 'and', 'but', 'if', 'or', 'because', 'as', 'until', 'while', 'of', \\\n",
        "            'at', 'by', 'for', 'with', 'about', 'against', 'between', 'into', 'through', 'during', 'before', 'after',\\\n",
        "            'above', 'below', 'to', 'from', 'up', 'down', 'in', 'out', 'on', 'off', 'over', 'under', 'again', 'further',\\\n",
        "            'then', 'once', 'here', 'there', 'when', 'where', 'why', 'how', 'all', 'any', 'both', 'each', 'few', 'more',\\\n",
        "            'most', 'other', 'some', 'such', 'only', 'own', 'same', 'so', 'than', 'too', 'very', \\\n",
        "            's', 't', 'can', 'will', 'just', 'don', \"don't\", 'should', \"should've\", 'now', 'd', 'll', 'm', 'o', 're', \\\n",
        "            've', 'y', 'ain', 'aren', \"aren't\", 'couldn', \"couldn't\", 'didn', \"didn't\", 'doesn', \"doesn't\", 'hadn',\\\n",
        "            \"hadn't\", 'hasn', \"hasn't\", 'haven', \"haven't\", 'isn', \"isn't\", 'ma', 'mightn', \"mightn't\", 'mustn',\\\n",
        "            \"mustn't\", 'needn', \"needn't\", 'shan', \"shan't\", 'shouldn', \"shouldn't\", 'wasn', \"wasn't\", 'weren', \"weren't\", \\\n",
        "            'won', \"won't\", 'wouldn', \"wouldn't\"])"
      ],
      "execution_count": 0,
      "outputs": []
    },
    {
      "metadata": {
        "id": "0j3jfqWCJkko",
        "colab_type": "code",
        "outputId": "c80ae7e3-975a-4ec6-e923-da3236ad01f1",
        "colab": {
          "base_uri": "https://localhost:8080/",
          "height": 34
        }
      },
      "cell_type": "code",
      "source": [
        "# Combining all the above stundents \n",
        "from tqdm import tqdm\n",
        "preprocessed_reviews = []\n",
        "# tqdm is for printing the status bar\n",
        "for sentance in tqdm(final['Text'].values):\n",
        "    sentance = re.sub(r\"http\\S+\", \"\", sentance)\n",
        "    sentance = BeautifulSoup(sentance, 'lxml').get_text()\n",
        "    sentance = decontracted(sentance)\n",
        "    sentance = re.sub(\"\\S*\\d\\S*\", \"\", sentance).strip()\n",
        "    sentance = re.sub('[^A-Za-z]+', ' ', sentance)\n",
        "    # https://gist.github.com/sebleier/554280\n",
        "    sentance = ' '.join(e.lower() for e in sentance.split() if e.lower() not in stopwords)\n",
        "    preprocessed_reviews.append(sentance.strip())"
      ],
      "execution_count": 0,
      "outputs": [
        {
          "output_type": "stream",
          "text": [
            "100%|██████████| 364171/364171 [02:12<00:00, 2745.16it/s]\n"
          ],
          "name": "stderr"
        }
      ]
    },
    {
      "metadata": {
        "id": "RIWOnNsl6TBg",
        "colab_type": "code",
        "outputId": "995639c1-ac67-46a7-d0fb-5628a323119d",
        "colab": {
          "base_uri": "https://localhost:8080/",
          "height": 34
        }
      },
      "cell_type": "code",
      "source": [
        "len(preprocessed_reviews)"
      ],
      "execution_count": 0,
      "outputs": [
        {
          "output_type": "execute_result",
          "data": {
            "text/plain": [
              "364171"
            ]
          },
          "metadata": {
            "tags": []
          },
          "execution_count": 22
        }
      ]
    },
    {
      "metadata": {
        "id": "GQgrSLD06s3G",
        "colab_type": "code",
        "outputId": "35aeaf43-518a-41aa-9a51-892548eaeaf1",
        "colab": {
          "base_uri": "https://localhost:8080/",
          "height": 770
        }
      },
      "cell_type": "code",
      "source": [
        "final['cleaned_text']=preprocessed_reviews\n",
        "print(final.shape)\n",
        "final.head()"
      ],
      "execution_count": 0,
      "outputs": [
        {
          "output_type": "stream",
          "text": [
            "(364171, 11)\n"
          ],
          "name": "stdout"
        },
        {
          "output_type": "execute_result",
          "data": {
            "text/html": [
              "<div>\n",
              "<style scoped>\n",
              "    .dataframe tbody tr th:only-of-type {\n",
              "        vertical-align: middle;\n",
              "    }\n",
              "\n",
              "    .dataframe tbody tr th {\n",
              "        vertical-align: top;\n",
              "    }\n",
              "\n",
              "    .dataframe thead th {\n",
              "        text-align: right;\n",
              "    }\n",
              "</style>\n",
              "<table border=\"1\" class=\"dataframe\">\n",
              "  <thead>\n",
              "    <tr style=\"text-align: right;\">\n",
              "      <th></th>\n",
              "      <th>Id</th>\n",
              "      <th>ProductId</th>\n",
              "      <th>UserId</th>\n",
              "      <th>ProfileName</th>\n",
              "      <th>HelpfulnessNumerator</th>\n",
              "      <th>HelpfulnessDenominator</th>\n",
              "      <th>Score</th>\n",
              "      <th>Time</th>\n",
              "      <th>Summary</th>\n",
              "      <th>Text</th>\n",
              "      <th>cleaned_text</th>\n",
              "    </tr>\n",
              "  </thead>\n",
              "  <tbody>\n",
              "    <tr>\n",
              "      <th>138706</th>\n",
              "      <td>150524</td>\n",
              "      <td>0006641040</td>\n",
              "      <td>ACITT7DI6IDDL</td>\n",
              "      <td>shari zychinski</td>\n",
              "      <td>0</td>\n",
              "      <td>0</td>\n",
              "      <td>1</td>\n",
              "      <td>939340800</td>\n",
              "      <td>EVERY book is educational</td>\n",
              "      <td>this witty little book makes my son laugh at l...</td>\n",
              "      <td>witty little book makes son laugh loud recite ...</td>\n",
              "    </tr>\n",
              "    <tr>\n",
              "      <th>138688</th>\n",
              "      <td>150506</td>\n",
              "      <td>0006641040</td>\n",
              "      <td>A2IW4PEEKO2R0U</td>\n",
              "      <td>Tracy</td>\n",
              "      <td>1</td>\n",
              "      <td>1</td>\n",
              "      <td>1</td>\n",
              "      <td>1194739200</td>\n",
              "      <td>Love the book, miss the hard cover version</td>\n",
              "      <td>I grew up reading these Sendak books and watch...</td>\n",
              "      <td>grew reading sendak books watching really rosi...</td>\n",
              "    </tr>\n",
              "    <tr>\n",
              "      <th>138689</th>\n",
              "      <td>150507</td>\n",
              "      <td>0006641040</td>\n",
              "      <td>A1S4A3IQ2MU7V4</td>\n",
              "      <td>sally sue \"sally sue\"</td>\n",
              "      <td>1</td>\n",
              "      <td>1</td>\n",
              "      <td>1</td>\n",
              "      <td>1191456000</td>\n",
              "      <td>chicken soup with rice months</td>\n",
              "      <td>This is a fun way for children to learn their ...</td>\n",
              "      <td>fun way children learn months year learn poems...</td>\n",
              "    </tr>\n",
              "    <tr>\n",
              "      <th>138690</th>\n",
              "      <td>150508</td>\n",
              "      <td>0006641040</td>\n",
              "      <td>AZGXZ2UUK6X</td>\n",
              "      <td>Catherine Hallberg \"(Kate)\"</td>\n",
              "      <td>1</td>\n",
              "      <td>1</td>\n",
              "      <td>1</td>\n",
              "      <td>1076025600</td>\n",
              "      <td>a good swingy rhythm for reading aloud</td>\n",
              "      <td>This is a great little book to read aloud it h...</td>\n",
              "      <td>great little book read aloud nice rhythm well ...</td>\n",
              "    </tr>\n",
              "    <tr>\n",
              "      <th>138691</th>\n",
              "      <td>150509</td>\n",
              "      <td>0006641040</td>\n",
              "      <td>A3CMRKGE0P909G</td>\n",
              "      <td>Teresa</td>\n",
              "      <td>3</td>\n",
              "      <td>4</td>\n",
              "      <td>1</td>\n",
              "      <td>1018396800</td>\n",
              "      <td>A great way to learn the months</td>\n",
              "      <td>This is a book of poetry about the months of t...</td>\n",
              "      <td>book poetry months year goes month cute little...</td>\n",
              "    </tr>\n",
              "  </tbody>\n",
              "</table>\n",
              "</div>"
            ],
            "text/plain": [
              "            Id   ProductId          UserId                  ProfileName  \\\n",
              "138706  150524  0006641040   ACITT7DI6IDDL              shari zychinski   \n",
              "138688  150506  0006641040  A2IW4PEEKO2R0U                        Tracy   \n",
              "138689  150507  0006641040  A1S4A3IQ2MU7V4        sally sue \"sally sue\"   \n",
              "138690  150508  0006641040     AZGXZ2UUK6X  Catherine Hallberg \"(Kate)\"   \n",
              "138691  150509  0006641040  A3CMRKGE0P909G                       Teresa   \n",
              "\n",
              "        HelpfulnessNumerator  HelpfulnessDenominator  Score        Time  \\\n",
              "138706                     0                       0      1   939340800   \n",
              "138688                     1                       1      1  1194739200   \n",
              "138689                     1                       1      1  1191456000   \n",
              "138690                     1                       1      1  1076025600   \n",
              "138691                     3                       4      1  1018396800   \n",
              "\n",
              "                                           Summary  \\\n",
              "138706                   EVERY book is educational   \n",
              "138688  Love the book, miss the hard cover version   \n",
              "138689               chicken soup with rice months   \n",
              "138690      a good swingy rhythm for reading aloud   \n",
              "138691             A great way to learn the months   \n",
              "\n",
              "                                                     Text  \\\n",
              "138706  this witty little book makes my son laugh at l...   \n",
              "138688  I grew up reading these Sendak books and watch...   \n",
              "138689  This is a fun way for children to learn their ...   \n",
              "138690  This is a great little book to read aloud it h...   \n",
              "138691  This is a book of poetry about the months of t...   \n",
              "\n",
              "                                             cleaned_text  \n",
              "138706  witty little book makes son laugh loud recite ...  \n",
              "138688  grew reading sendak books watching really rosi...  \n",
              "138689  fun way children learn months year learn poems...  \n",
              "138690  great little book read aloud nice rhythm well ...  \n",
              "138691  book poetry months year goes month cute little...  "
            ]
          },
          "metadata": {
            "tags": []
          },
          "execution_count": 23
        }
      ]
    },
    {
      "metadata": {
        "id": "v6L3d3CC7vzh",
        "colab_type": "code",
        "outputId": "64f2902d-77ac-407b-97ce-b58b6fd5bfe4",
        "colab": {
          "base_uri": "https://localhost:8080/",
          "height": 652
        }
      },
      "cell_type": "code",
      "source": [
        "#sampling 100k data(Randomly taken)\n",
        "random_100k=final.sample(n=100000)\n",
        "random_100k.head()"
      ],
      "execution_count": 0,
      "outputs": [
        {
          "output_type": "execute_result",
          "data": {
            "text/html": [
              "<div>\n",
              "<style scoped>\n",
              "    .dataframe tbody tr th:only-of-type {\n",
              "        vertical-align: middle;\n",
              "    }\n",
              "\n",
              "    .dataframe tbody tr th {\n",
              "        vertical-align: top;\n",
              "    }\n",
              "\n",
              "    .dataframe thead th {\n",
              "        text-align: right;\n",
              "    }\n",
              "</style>\n",
              "<table border=\"1\" class=\"dataframe\">\n",
              "  <thead>\n",
              "    <tr style=\"text-align: right;\">\n",
              "      <th></th>\n",
              "      <th>Id</th>\n",
              "      <th>ProductId</th>\n",
              "      <th>UserId</th>\n",
              "      <th>ProfileName</th>\n",
              "      <th>HelpfulnessNumerator</th>\n",
              "      <th>HelpfulnessDenominator</th>\n",
              "      <th>Score</th>\n",
              "      <th>Time</th>\n",
              "      <th>Summary</th>\n",
              "      <th>Text</th>\n",
              "      <th>cleaned_text</th>\n",
              "    </tr>\n",
              "  </thead>\n",
              "  <tbody>\n",
              "    <tr>\n",
              "      <th>474821</th>\n",
              "      <td>513498</td>\n",
              "      <td>B000612VL4</td>\n",
              "      <td>A1P37VWSAZ7TB1</td>\n",
              "      <td>Joe P</td>\n",
              "      <td>1</td>\n",
              "      <td>1</td>\n",
              "      <td>1</td>\n",
              "      <td>1321401600</td>\n",
              "      <td>Fantastic cake</td>\n",
              "      <td>I used three boxes of the red velvet cake mix ...</td>\n",
              "      <td>used three boxes red velvet cake mix company g...</td>\n",
              "    </tr>\n",
              "    <tr>\n",
              "      <th>205853</th>\n",
              "      <td>223062</td>\n",
              "      <td>B000UUWECC</td>\n",
              "      <td>A3QN75M2WMTYAU</td>\n",
              "      <td>R. H. Wilkins \"RobTheGamer\"</td>\n",
              "      <td>4</td>\n",
              "      <td>9</td>\n",
              "      <td>0</td>\n",
              "      <td>1245196800</td>\n",
              "      <td>Tastes like stale, bland water to myself and m...</td>\n",
              "      <td>Ever leave a glass of water on your night stan...</td>\n",
              "      <td>ever leave glass water night stand take sip ne...</td>\n",
              "    </tr>\n",
              "    <tr>\n",
              "      <th>191507</th>\n",
              "      <td>207629</td>\n",
              "      <td>B000ER1EPE</td>\n",
              "      <td>A1XMUMUXUOZ7S5</td>\n",
              "      <td>Jeannie T</td>\n",
              "      <td>2</td>\n",
              "      <td>2</td>\n",
              "      <td>1</td>\n",
              "      <td>1266883200</td>\n",
              "      <td>'Monster cookies'</td>\n",
              "      <td>I try to limit processed sugary foods in our d...</td>\n",
              "      <td>try limit processed sugary foods diet however ...</td>\n",
              "    </tr>\n",
              "    <tr>\n",
              "      <th>376337</th>\n",
              "      <td>406935</td>\n",
              "      <td>B000KEPBBY</td>\n",
              "      <td>AI0NMYA3LKXW1</td>\n",
              "      <td>Bartok Kinski \"A casual stroll through the lu...</td>\n",
              "      <td>1</td>\n",
              "      <td>10</td>\n",
              "      <td>1</td>\n",
              "      <td>1271721600</td>\n",
              "      <td>Bob's Red Pill Poup Mix, eggie</td>\n",
              "      <td>I tried this soup mix for the first time and i...</td>\n",
              "      <td>tried soup mix first time absolutely delicious...</td>\n",
              "    </tr>\n",
              "    <tr>\n",
              "      <th>279172</th>\n",
              "      <td>302504</td>\n",
              "      <td>B001EQ4JQ0</td>\n",
              "      <td>A1OM1O3UJ06TQ1</td>\n",
              "      <td>Kudokatz \"Kudokatz\"</td>\n",
              "      <td>1</td>\n",
              "      <td>1</td>\n",
              "      <td>1</td>\n",
              "      <td>1310256000</td>\n",
              "      <td>one of my favorites</td>\n",
              "      <td>I absolutely love this tea and get regular del...</td>\n",
              "      <td>absolutely love tea get regular deliveries def...</td>\n",
              "    </tr>\n",
              "  </tbody>\n",
              "</table>\n",
              "</div>"
            ],
            "text/plain": [
              "            Id   ProductId          UserId  \\\n",
              "474821  513498  B000612VL4  A1P37VWSAZ7TB1   \n",
              "205853  223062  B000UUWECC  A3QN75M2WMTYAU   \n",
              "191507  207629  B000ER1EPE  A1XMUMUXUOZ7S5   \n",
              "376337  406935  B000KEPBBY   AI0NMYA3LKXW1   \n",
              "279172  302504  B001EQ4JQ0  A1OM1O3UJ06TQ1   \n",
              "\n",
              "                                             ProfileName  \\\n",
              "474821                                             Joe P   \n",
              "205853                       R. H. Wilkins \"RobTheGamer\"   \n",
              "191507                                         Jeannie T   \n",
              "376337  Bartok Kinski \"A casual stroll through the lu...   \n",
              "279172                               Kudokatz \"Kudokatz\"   \n",
              "\n",
              "        HelpfulnessNumerator  HelpfulnessDenominator  Score        Time  \\\n",
              "474821                     1                       1      1  1321401600   \n",
              "205853                     4                       9      0  1245196800   \n",
              "191507                     2                       2      1  1266883200   \n",
              "376337                     1                      10      1  1271721600   \n",
              "279172                     1                       1      1  1310256000   \n",
              "\n",
              "                                                  Summary  \\\n",
              "474821                                     Fantastic cake   \n",
              "205853  Tastes like stale, bland water to myself and m...   \n",
              "191507                                  'Monster cookies'   \n",
              "376337                     Bob's Red Pill Poup Mix, eggie   \n",
              "279172                                one of my favorites   \n",
              "\n",
              "                                                     Text  \\\n",
              "474821  I used three boxes of the red velvet cake mix ...   \n",
              "205853  Ever leave a glass of water on your night stan...   \n",
              "191507  I try to limit processed sugary foods in our d...   \n",
              "376337  I tried this soup mix for the first time and i...   \n",
              "279172  I absolutely love this tea and get regular del...   \n",
              "\n",
              "                                             cleaned_text  \n",
              "474821  used three boxes red velvet cake mix company g...  \n",
              "205853  ever leave glass water night stand take sip ne...  \n",
              "191507  try limit processed sugary foods diet however ...  \n",
              "376337  tried soup mix first time absolutely delicious...  \n",
              "279172  absolutely love tea get regular deliveries def...  "
            ]
          },
          "metadata": {
            "tags": []
          },
          "execution_count": 24
        }
      ]
    },
    {
      "metadata": {
        "id": "XdNXwxza8T5o",
        "colab_type": "text"
      },
      "cell_type": "markdown",
      "source": [
        "## Time based splitting"
      ]
    },
    {
      "metadata": {
        "id": "pRZpf6pa8Npc",
        "colab_type": "code",
        "outputId": "58acee7d-9063-4eda-cca2-734d5ec7b56e",
        "colab": {
          "base_uri": "https://localhost:8080/",
          "height": 374
        }
      },
      "cell_type": "code",
      "source": [
        "time_sort=random_100k.sort_values('Time',axis=0,ascending=True)\n",
        "time_sort.head(3)"
      ],
      "execution_count": 0,
      "outputs": [
        {
          "output_type": "execute_result",
          "data": {
            "text/html": [
              "<div>\n",
              "<style scoped>\n",
              "    .dataframe tbody tr th:only-of-type {\n",
              "        vertical-align: middle;\n",
              "    }\n",
              "\n",
              "    .dataframe tbody tr th {\n",
              "        vertical-align: top;\n",
              "    }\n",
              "\n",
              "    .dataframe thead th {\n",
              "        text-align: right;\n",
              "    }\n",
              "</style>\n",
              "<table border=\"1\" class=\"dataframe\">\n",
              "  <thead>\n",
              "    <tr style=\"text-align: right;\">\n",
              "      <th></th>\n",
              "      <th>Id</th>\n",
              "      <th>ProductId</th>\n",
              "      <th>UserId</th>\n",
              "      <th>ProfileName</th>\n",
              "      <th>HelpfulnessNumerator</th>\n",
              "      <th>HelpfulnessDenominator</th>\n",
              "      <th>Score</th>\n",
              "      <th>Time</th>\n",
              "      <th>Summary</th>\n",
              "      <th>Text</th>\n",
              "      <th>cleaned_text</th>\n",
              "    </tr>\n",
              "  </thead>\n",
              "  <tbody>\n",
              "    <tr>\n",
              "      <th>138706</th>\n",
              "      <td>150524</td>\n",
              "      <td>0006641040</td>\n",
              "      <td>ACITT7DI6IDDL</td>\n",
              "      <td>shari zychinski</td>\n",
              "      <td>0</td>\n",
              "      <td>0</td>\n",
              "      <td>1</td>\n",
              "      <td>939340800</td>\n",
              "      <td>EVERY book is educational</td>\n",
              "      <td>this witty little book makes my son laugh at l...</td>\n",
              "      <td>witty little book makes son laugh loud recite ...</td>\n",
              "    </tr>\n",
              "    <tr>\n",
              "      <th>138683</th>\n",
              "      <td>150501</td>\n",
              "      <td>0006641040</td>\n",
              "      <td>AJ46FKXOVC7NR</td>\n",
              "      <td>Nicholas A Mesiano</td>\n",
              "      <td>2</td>\n",
              "      <td>2</td>\n",
              "      <td>1</td>\n",
              "      <td>940809600</td>\n",
              "      <td>This whole series is great way to spend time w...</td>\n",
              "      <td>I can remember seeing the show when it aired o...</td>\n",
              "      <td>remember seeing show aired television years ag...</td>\n",
              "    </tr>\n",
              "    <tr>\n",
              "      <th>417838</th>\n",
              "      <td>451855</td>\n",
              "      <td>B00004CXX9</td>\n",
              "      <td>AJH6LUC1UT1ON</td>\n",
              "      <td>The Phantom of the Opera</td>\n",
              "      <td>0</td>\n",
              "      <td>0</td>\n",
              "      <td>1</td>\n",
              "      <td>946857600</td>\n",
              "      <td>FANTASTIC!</td>\n",
              "      <td>Beetlejuice is an excellent and funny movie Ke...</td>\n",
              "      <td>beetlejuice excellent funny movie keaton hilar...</td>\n",
              "    </tr>\n",
              "  </tbody>\n",
              "</table>\n",
              "</div>"
            ],
            "text/plain": [
              "            Id   ProductId         UserId               ProfileName  \\\n",
              "138706  150524  0006641040  ACITT7DI6IDDL           shari zychinski   \n",
              "138683  150501  0006641040  AJ46FKXOVC7NR        Nicholas A Mesiano   \n",
              "417838  451855  B00004CXX9  AJH6LUC1UT1ON  The Phantom of the Opera   \n",
              "\n",
              "        HelpfulnessNumerator  HelpfulnessDenominator  Score       Time  \\\n",
              "138706                     0                       0      1  939340800   \n",
              "138683                     2                       2      1  940809600   \n",
              "417838                     0                       0      1  946857600   \n",
              "\n",
              "                                                  Summary  \\\n",
              "138706                          EVERY book is educational   \n",
              "138683  This whole series is great way to spend time w...   \n",
              "417838                                         FANTASTIC!   \n",
              "\n",
              "                                                     Text  \\\n",
              "138706  this witty little book makes my son laugh at l...   \n",
              "138683  I can remember seeing the show when it aired o...   \n",
              "417838  Beetlejuice is an excellent and funny movie Ke...   \n",
              "\n",
              "                                             cleaned_text  \n",
              "138706  witty little book makes son laugh loud recite ...  \n",
              "138683  remember seeing show aired television years ag...  \n",
              "417838  beetlejuice excellent funny movie keaton hilar...  "
            ]
          },
          "metadata": {
            "tags": []
          },
          "execution_count": 25
        }
      ]
    },
    {
      "metadata": {
        "id": "eX5Z37He9AaE",
        "colab_type": "code",
        "colab": {}
      },
      "cell_type": "code",
      "source": [
        "x_100k=time_sort['cleaned_text']\n",
        "y_100k=time_sort['Score']"
      ],
      "execution_count": 0,
      "outputs": []
    },
    {
      "metadata": {
        "id": "T2N3XM9Z90eS",
        "colab_type": "text"
      },
      "cell_type": "markdown",
      "source": [
        "## Splitting in to Train ,Test and CV"
      ]
    },
    {
      "metadata": {
        "id": "86g8yAHY8ynr",
        "colab_type": "code",
        "colab": {}
      },
      "cell_type": "code",
      "source": [
        "#splitting in to train and test\n",
        "from sklearn.model_selection import train_test_split\n",
        "\n",
        "x_train,x_test,y_train,y_test=train_test_split(x_100k,y_100k, test_size=0.2,random_state=0)\n",
        "\n",
        "#train and cv\n",
        "x_tr,x_cv,y_tr,y_cv=train_test_split(x_train,y_train,test_size=0.2,random_state=0)\n"
      ],
      "execution_count": 0,
      "outputs": []
    },
    {
      "metadata": {
        "id": "FkoStPUa_g-0",
        "colab_type": "code",
        "outputId": "c7139803-e6c8-4dc2-f50e-458e593a1620",
        "colab": {
          "base_uri": "https://localhost:8080/",
          "height": 70
        }
      },
      "cell_type": "code",
      "source": [
        "y_tr.value_counts()"
      ],
      "execution_count": 0,
      "outputs": [
        {
          "output_type": "execute_result",
          "data": {
            "text/plain": [
              "1    53964\n",
              "0    10036\n",
              "Name: Score, dtype: int64"
            ]
          },
          "metadata": {
            "tags": []
          },
          "execution_count": 28
        }
      ]
    },
    {
      "metadata": {
        "id": "ChHwtw1iJkky",
        "colab_type": "text"
      },
      "cell_type": "markdown",
      "source": [
        "# [4] Featurization"
      ]
    },
    {
      "metadata": {
        "id": "qyWESNvzJkky",
        "colab_type": "text"
      },
      "cell_type": "markdown",
      "source": [
        "## [4.1] BAG OF WORDS"
      ]
    },
    {
      "metadata": {
        "id": "KdLkG2-OBYFu",
        "colab_type": "code",
        "colab": {}
      },
      "cell_type": "code",
      "source": [
        "from sklearn.naive_bayes import MultinomialNB\n",
        "from sklearn.metrics import roc_auc_score,auc\n",
        "import math"
      ],
      "execution_count": 0,
      "outputs": []
    },
    {
      "metadata": {
        "id": "zS0niozAJkkz",
        "colab_type": "code",
        "colab": {}
      },
      "cell_type": "code",
      "source": [
        "#BoW\n",
        "count_vect = CountVectorizer() \n",
        "\n",
        "#train\n",
        "count_vect.fit(x_tr)\n",
        "train_bow=count_vect.transform(x_tr)\n",
        "\n",
        "#cv\n",
        "cv_bow=count_vect.transform(x_cv)"
      ],
      "execution_count": 0,
      "outputs": []
    },
    {
      "metadata": {
        "id": "Nm-P5lzsEM1x",
        "colab_type": "code",
        "outputId": "30cd8f54-672a-4ebd-8087-801b9a1d532f",
        "colab": {
          "base_uri": "https://localhost:8080/",
          "height": 52
        }
      },
      "cell_type": "code",
      "source": [
        "print('shape of train data',train_bow.shape)\n",
        "print('shape of cv data',cv_bow.shape)"
      ],
      "execution_count": 0,
      "outputs": [
        {
          "output_type": "stream",
          "text": [
            "shape of train data (64000, 48742)\n",
            "shape of cv data (16000, 48742)\n"
          ],
          "name": "stdout"
        }
      ]
    },
    {
      "metadata": {
        "id": "Sad02PRzJe3r",
        "colab_type": "code",
        "outputId": "624da816-b901-4fd0-e7d5-4a77fc0eb222",
        "colab": {
          "base_uri": "https://localhost:8080/",
          "height": 369
        }
      },
      "cell_type": "code",
      "source": [
        "tr_auc=[]\n",
        "cv_auc=[]\n",
        "Alpha=[]\n",
        "al=0.00001\n",
        "while (al<100000):\n",
        "  Alpha.append(math.ceil(math.log(al,10)))\n",
        "  mn=MultinomialNB(alpha=al)\n",
        "  mn.fit(train_bow,y_tr)\n",
        "  \n",
        "  #pedicting cv\n",
        "  cv_p=mn.predict_proba(cv_bow)\n",
        "  scr_cv=roc_auc_score(y_cv, cv_p[:,1])\n",
        "  cv_auc.append(scr_cv)\n",
        "  print(scr_cv)\n",
        "  #train\n",
        "  tr_p=mn.predict_proba(train_bow)\n",
        "  scr_tr=roc_auc_score(y_tr, tr_p[:,1])\n",
        "  tr_auc.append(scr_tr)\n",
        "  print(scr_tr)\n",
        "  al=al*10"
      ],
      "execution_count": 0,
      "outputs": [
        {
          "output_type": "stream",
          "text": [
            "0.8178399890360837\n",
            "0.9818887818470656\n",
            "0.8395927653809345\n",
            "0.9813087734795902\n",
            "0.8643261430749271\n",
            "0.9801750759012422\n",
            "0.8913560397873384\n",
            "0.9776456856716753\n",
            "0.9132642138111972\n",
            "0.971020485174135\n",
            "0.9146987546614521\n",
            "0.949892990858881\n",
            "0.7365737567766322\n",
            "0.7612858958656847\n",
            "0.5669890392326977\n",
            "0.5656329850223578\n",
            "0.5302408503638801\n",
            "0.5285765191275384\n",
            "0.49289133236448524\n",
            "0.4913427755994217\n"
          ],
          "name": "stdout"
        }
      ]
    },
    {
      "metadata": {
        "id": "z4qvPFpdN1v4",
        "colab_type": "code",
        "outputId": "c9e5cb83-e009-4488-b400-621d21c7d8b0",
        "colab": {
          "base_uri": "https://localhost:8080/",
          "height": 349
        }
      },
      "cell_type": "code",
      "source": [
        "#plotting\n",
        "plt.figure(figsize=(7,5))\n",
        "plt.plot(Alpha,cv_auc, label='cv')\n",
        "plt.plot(Alpha,tr_auc, label='train')\n",
        "plt.legend()\n",
        "plt.xlabel('Alpha')\n",
        "plt.ylabel('Auc')\n",
        "plt.title('Auc vs Alpha')\n",
        "plt.show()"
      ],
      "execution_count": 0,
      "outputs": [
        {
          "output_type": "display_data",
          "data": {
            "image/png": "[encoded data removed]",
            "text/plain": [
              "<Figure size 504x360 with 1 Axes>"
            ]
          },
          "metadata": {
            "tags": []
          }
        }
      ]
    },
    {
      "metadata": {
        "id": "vnZPYhC6MzjV",
        "colab_type": "text"
      },
      "cell_type": "markdown",
      "source": [
        "## Observation:\n",
        "The value of optimal alpha is 1.0"
      ]
    },
    {
      "metadata": {
        "id": "InxZTNDUyNSZ",
        "colab_type": "code",
        "colab": {}
      },
      "cell_type": "code",
      "source": [
        "test_bow=count_vect.transform(x_test)"
      ],
      "execution_count": 0,
      "outputs": []
    },
    {
      "metadata": {
        "id": "CltXVJXR3Bj4",
        "colab_type": "text"
      },
      "cell_type": "markdown",
      "source": [
        "## Roc for Train and CV"
      ]
    },
    {
      "metadata": {
        "id": "PyigVhWO130u",
        "colab_type": "code",
        "outputId": "604b17b0-7da1-4bf6-cdb2-5483ec477d63",
        "colab": {
          "base_uri": "https://localhost:8080/",
          "height": 294
        }
      },
      "cell_type": "code",
      "source": [
        "mn_r=MultinomialNB(alpha=1.0)\n",
        "mn_r.fit(train_bow,y_tr)\n",
        "\n",
        "pred_cv=mn_r.predict_proba(cv_bow)\n",
        "fpr,tpr,threshold=roc_curve(y_cv,pred_cv[:,1])\n",
        "roc_cv=metrics.auc(fpr,tpr)\n",
        "\n",
        "plt.xlabel(\"True positive rate\")\n",
        "plt.ylabel(\"False positive rate\")\n",
        "plt.title('ROC curve')\n",
        "\n",
        "plt.plot(fpr,tpr, label=roc_cv, color='orange')\n",
        "plt.plot([0, 1], [0, 1], 'b--')\n",
        "plt.legend()\n",
        "plt.show()"
      ],
      "execution_count": 0,
      "outputs": [
        {
          "output_type": "display_data",
          "data": {
            "image/png": "[encoded data removed]",
            "text/plain": [
              "<Figure size 432x288 with 1 Axes>"
            ]
          },
          "metadata": {
            "tags": []
          }
        }
      ]
    },
    {
      "metadata": {
        "id": "cF2ULPDVNBf3",
        "colab_type": "text"
      },
      "cell_type": "markdown",
      "source": [
        "## Observation:\n",
        "Auc Score is 0.914 which is 91%.So probability of sepration of pos and neg is 91%"
      ]
    },
    {
      "metadata": {
        "id": "16Kv2_Cc4eSZ",
        "colab_type": "text"
      },
      "cell_type": "markdown",
      "source": [
        "## Roc for train and Test"
      ]
    },
    {
      "metadata": {
        "id": "WlS_jmDy4QNs",
        "colab_type": "code",
        "outputId": "8bdd5dd6-8409-4fa1-f90b-2b8d5e2ed073",
        "colab": {
          "base_uri": "https://localhost:8080/",
          "height": 294
        }
      },
      "cell_type": "code",
      "source": [
        "pred_test=mn_r.predict_proba(test_bow)\n",
        "fpr,tpr,threshold=roc_curve(y_test,pred_test[:,1])\n",
        "roc_test=metrics.auc(fpr,tpr)\n",
        "\n",
        "plt.xlabel(\"True positive rate\")\n",
        "plt.ylabel(\"False positive rate\")\n",
        "plt.title('ROC curve')\n",
        "\n",
        "plt.plot(fpr,tpr, label=roc_test, color='orange')\n",
        "plt.plot([0, 1], [0, 1], 'b--')\n",
        "plt.legend()\n",
        "plt.show()"
      ],
      "execution_count": 0,
      "outputs": [
        {
          "output_type": "display_data",
          "data": {
            "image/png": "[encoded data removed]",
            "text/plain": [
              "<Figure size 432x288 with 1 Axes>"
            ]
          },
          "metadata": {
            "tags": []
          }
        }
      ]
    },
    {
      "metadata": {
        "id": "CnR5_Z3fNdz0",
        "colab_type": "text"
      },
      "cell_type": "markdown",
      "source": [
        "## Observation:\n",
        "Auc Score is 0.918 which is ~ 91%.So probability of sepration of pos and neg is 91%"
      ]
    },
    {
      "metadata": {
        "id": "SUpP8ID26NvE",
        "colab_type": "code",
        "outputId": "5750aa4d-8c37-4996-d8ad-a5d3458f0388",
        "colab": {
          "base_uri": "https://localhost:8080/",
          "height": 455
        }
      },
      "cell_type": "code",
      "source": [
        "pred=mn_r.predict(test_bow)\n",
        "print(metrics.classification_report(y_test, pred))\n",
        "\n",
        "print('*'*50)\n",
        "\n",
        "cnf_matrix=metrics.confusion_matrix(y_test,pred)\n",
        "df=pd.DataFrame(cnf_matrix, index=[0,1], columns=[0,1])\n",
        "sns.heatmap(df,annot=True,fmt='0.2f')\n",
        "plt.xlabel('True value')\n",
        "plt.ylabel('predicted value')\n",
        "plt.show()"
      ],
      "execution_count": 0,
      "outputs": [
        {
          "output_type": "stream",
          "text": [
            "              precision    recall  f1-score   support\n",
            "\n",
            "           0       0.77      0.62      0.69      3243\n",
            "           1       0.93      0.96      0.95     16757\n",
            "\n",
            "   micro avg       0.91      0.91      0.91     20000\n",
            "   macro avg       0.85      0.79      0.82     20000\n",
            "weighted avg       0.90      0.91      0.90     20000\n",
            "\n",
            "**************************************************\n"
          ],
          "name": "stdout"
        },
        {
          "output_type": "display_data",
          "data": {
            "image/png": "[encoded data removed]",
            "text/plain": [
              "<Figure size 432x288 with 2 Axes>"
            ]
          },
          "metadata": {
            "tags": []
          }
        }
      ]
    },
    {
      "metadata": {
        "id": "1fvAmu91Jkk6",
        "colab_type": "text"
      },
      "cell_type": "markdown",
      "source": [
        "## [4.3] TF-IDF"
      ]
    },
    {
      "metadata": {
        "id": "ag5-WCR8Jkk7",
        "colab_type": "code",
        "colab": {}
      },
      "cell_type": "code",
      "source": [
        "tf_idf_vect = TfidfVectorizer(ngram_range=(1,2), min_df=10)\n",
        "train_tf=tf_idf_vect.fit_transform(x_tr)\n",
        "#cv\n",
        "cv_tf=tf_idf_vect.transform(x_cv)\n"
      ],
      "execution_count": 0,
      "outputs": []
    },
    {
      "metadata": {
        "id": "mfTHpvT4-ojj",
        "colab_type": "code",
        "outputId": "e9f49f70-3036-47f2-8197-aeeaaa7b1708",
        "colab": {
          "base_uri": "https://localhost:8080/",
          "height": 52
        }
      },
      "cell_type": "code",
      "source": [
        "print('shape of train data',train_tf.shape)\n",
        "print('shape of cv data',cv_tf.shape)"
      ],
      "execution_count": 0,
      "outputs": [
        {
          "output_type": "stream",
          "text": [
            "shape of train data (64000, 37158)\n",
            "shape of cv data (16000, 37158)\n"
          ],
          "name": "stdout"
        }
      ]
    },
    {
      "metadata": {
        "id": "BEm4cDXM-yQM",
        "colab_type": "code",
        "outputId": "eda5d5c2-1850-4010-dcad-e741d0a25a01",
        "colab": {
          "base_uri": "https://localhost:8080/",
          "height": 369
        }
      },
      "cell_type": "code",
      "source": [
        "tr_auc_tf=[]\n",
        "cv_auc_tf=[]\n",
        "Alpha=[]\n",
        "al=0.00001\n",
        "\n",
        "while(al<100000):\n",
        "  Alpha.append(math.ceil(math.log(al,10)))\n",
        "  mn_tf=MultinomialNB(alpha=al)\n",
        "  mn_tf.fit(train_tf,y_tr)\n",
        "  \n",
        "  #cv\n",
        "  cv_p_tf=mn_tf.predict_proba(cv_tf)\n",
        "  scr_cv_tf=roc_auc_score(y_cv,cv_p_tf[:,1])\n",
        "  cv_auc_tf.append(scr_cv_tf)\n",
        "  print(scr_cv_tf)\n",
        "  \n",
        "  #train\n",
        "  tr_p_tf=mn_tf.predict_proba(train_tf)\n",
        "  scr_tr_tf=roc_auc_score(y_tr,tr_p_tf[:,1])\n",
        "  tr_auc_tf.append(scr_tr_tf)\n",
        "  print(scr_tr_tf)\n",
        "  al=al*10"
      ],
      "execution_count": 0,
      "outputs": [
        {
          "output_type": "stream",
          "text": [
            "0.9090073827213967\n",
            "0.9899542138997114\n",
            "0.9211560057031434\n",
            "0.9895161903102432\n",
            "0.9338000001706858\n",
            "0.9887437431901447\n",
            "0.9452165575027769\n",
            "0.9872502427625531\n",
            "0.9529953583165008\n",
            "0.9837892829014716\n",
            "0.9505961040841029\n",
            "0.9727187945795256\n",
            "0.8360401310643536\n",
            "0.8572988808002997\n",
            "0.697156630060147\n",
            "0.7039161981805091\n",
            "0.6389178294565431\n",
            "0.6416323941541531\n",
            "0.6143339490089024\n",
            "0.616760477269599\n"
          ],
          "name": "stdout"
        }
      ]
    },
    {
      "metadata": {
        "id": "ngtDqGtZCPOM",
        "colab_type": "code",
        "outputId": "34ff8e65-b852-43e4-d8d9-158bc9b863e2",
        "colab": {
          "base_uri": "https://localhost:8080/",
          "height": 349
        }
      },
      "cell_type": "code",
      "source": [
        "plt.figure(figsize=(7,5))\n",
        "plt.xlabel('Alpha')\n",
        "plt.ylabel('AUC value')\n",
        "plt.title('Alpha vs AUC Curve')\n",
        "plt.plot(Alpha, cv_auc_tf, label='cv')\n",
        "plt.plot(Alpha, tr_auc_tf, label='train')\n",
        "plt.legend()\n",
        "plt.show()"
      ],
      "execution_count": 0,
      "outputs": [
        {
          "output_type": "display_data",
          "data": {
            "image/png": "[encoded data removed]",
            "text/plain": [
              "<Figure size 504x360 with 1 Axes>"
            ]
          },
          "metadata": {
            "tags": []
          }
        }
      ]
    },
    {
      "metadata": {
        "id": "AwUOJb3fDXrk",
        "colab_type": "text"
      },
      "cell_type": "markdown",
      "source": [
        "## Observation:\n",
        "The value of optimal alpha is 1.0"
      ]
    },
    {
      "metadata": {
        "id": "dmDEKXQuDdRA",
        "colab_type": "code",
        "colab": {}
      },
      "cell_type": "code",
      "source": [
        "test_tf=tf_idf_vect.transform(x_test)\n"
      ],
      "execution_count": 0,
      "outputs": []
    },
    {
      "metadata": {
        "id": "fsqCLImbEKBs",
        "colab_type": "text"
      },
      "cell_type": "markdown",
      "source": [
        "## Roc Curve for Train and CV"
      ]
    },
    {
      "metadata": {
        "id": "zvV34SqbEONC",
        "colab_type": "code",
        "outputId": "39e4449b-22f8-4805-a75d-f973bc94764d",
        "colab": {
          "base_uri": "https://localhost:8080/",
          "height": 294
        }
      },
      "cell_type": "code",
      "source": [
        "mn_r_tf=MultinomialNB(alpha=1.0)\n",
        "mn_r_tf.fit(train_tf,y_tr)\n",
        "\n",
        "#cv\n",
        "pred_cv_tf=mn_r_tf.predict_proba(cv_tf)\n",
        "fpr,tpr,threshold=roc_curve(y_cv,pred_cv_tf[:,1])\n",
        "roc_auc_cv=metrics.auc(fpr,tpr)\n",
        "\n",
        "plt.xlabel(\"True positive rate\")\n",
        "plt.ylabel(\"False positive rate\")\n",
        "plt.title('ROC curve')\n",
        "\n",
        "plt.plot(fpr,tpr, label=roc_auc_cv)\n",
        "plt.plot([0, 1], [0, 1],'g--')\n",
        "plt.legend()\n",
        "plt.show()"
      ],
      "execution_count": 0,
      "outputs": [
        {
          "output_type": "display_data",
          "data": {
            "image/png": "[encoded data removed]",
            "text/plain": [
              "<Figure size 432x288 with 1 Axes>"
            ]
          },
          "metadata": {
            "tags": []
          }
        }
      ]
    },
    {
      "metadata": {
        "id": "XfSCHUIyNyJR",
        "colab_type": "text"
      },
      "cell_type": "markdown",
      "source": [
        "## Observation:\n",
        "Auc Score is 0.950 which is 95%.So probability of sepration of pos and neg is 95%"
      ]
    },
    {
      "metadata": {
        "id": "SqodOm0QIaYz",
        "colab_type": "text"
      },
      "cell_type": "markdown",
      "source": [
        "## Roc for Train And Test"
      ]
    },
    {
      "metadata": {
        "id": "TwOmGSIxIWrn",
        "colab_type": "code",
        "outputId": "9be5d1bc-37ea-4003-eac5-d3058adc8e26",
        "colab": {
          "base_uri": "https://localhost:8080/",
          "height": 294
        }
      },
      "cell_type": "code",
      "source": [
        "#test\n",
        "pred_test_tf=mn_r_tf.predict_proba(test_tf)\n",
        "fpr,tpr,threshold=roc_curve(y_test,pred_test_tf[:,1])\n",
        "roc_auc_te=metrics.auc(fpr,tpr)\n",
        "\n",
        "plt.xlabel(\"True positive rate\")\n",
        "plt.ylabel(\"False positive rate\")\n",
        "plt.title('ROC curve')\n",
        "\n",
        "plt.plot(fpr,tpr, label=roc_auc_te)\n",
        "plt.plot([0, 1], [0, 1],'g--')\n",
        "plt.legend()\n",
        "plt.show()"
      ],
      "execution_count": 0,
      "outputs": [
        {
          "output_type": "display_data",
          "data": {
            "image/png": "[encoded data removed]",
            "text/plain": [
              "<Figure size 432x288 with 1 Axes>"
            ]
          },
          "metadata": {
            "tags": []
          }
        }
      ]
    },
    {
      "metadata": {
        "id": "NmPIZ03BN4wX",
        "colab_type": "text"
      },
      "cell_type": "markdown",
      "source": [
        "## Observation:\n",
        "Auc Score is 0.951 which is 95%.So probability of sepration of pos and neg is 9%"
      ]
    },
    {
      "metadata": {
        "id": "5nWQWhBdKzbO",
        "colab_type": "text"
      },
      "cell_type": "markdown",
      "source": [
        "## Observation:"
      ]
    },
    {
      "metadata": {
        "id": "2W2kbHKWKyv3",
        "colab_type": "code",
        "outputId": "fdda401f-ee4d-4e1d-961b-3a8d0db59164",
        "colab": {
          "base_uri": "https://localhost:8080/",
          "height": 455
        }
      },
      "cell_type": "code",
      "source": [
        "pred_tf=mn_r_tf.predict(test_tf)\n",
        "print(metrics.classification_report(y_test,pred_tf))\n",
        "\n",
        "print('*'*50)\n",
        "\n",
        "cnf_mat=metrics.confusion_matrix(y_test,pred_tf)\n",
        "pd.DataFrame(cnf_mat,index=[0,1],columns=[0,1])\n",
        "sns.heatmap(df,annot=True,fmt='0.2f')\n",
        "plt.xlabel('True value')\n",
        "plt.ylabel('predicted value')\n",
        "plt.show()"
      ],
      "execution_count": 0,
      "outputs": [
        {
          "output_type": "stream",
          "text": [
            "              precision    recall  f1-score   support\n",
            "\n",
            "           0       0.96      0.28      0.43      3243\n",
            "           1       0.88      1.00      0.93     16757\n",
            "\n",
            "   micro avg       0.88      0.88      0.88     20000\n",
            "   macro avg       0.92      0.64      0.68     20000\n",
            "weighted avg       0.89      0.88      0.85     20000\n",
            "\n",
            "**************************************************\n"
          ],
          "name": "stdout"
        },
        {
          "output_type": "display_data",
          "data": {
            "image/png": "[encoded data removed]",
            "text/plain": [
              "<Figure size 432x288 with 2 Axes>"
            ]
          },
          "metadata": {
            "tags": []
          }
        }
      ]
    }
  ]
}