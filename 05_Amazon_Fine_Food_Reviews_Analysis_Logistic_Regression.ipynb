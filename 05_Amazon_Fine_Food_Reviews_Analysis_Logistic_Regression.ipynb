{
  "nbformat": 4,
  "nbformat_minor": 0,
  "metadata": {
    "colab": {
      "name": "05 Amazon Fine Food Reviews Analysis_Logistic Regression.ipynb",
      "version": "0.3.2",
      "provenance": [],
      "include_colab_link": true
    },
    "kernelspec": {
      "name": "python3",
      "display_name": "Python 3"
    },
    "accelerator": "GPU"
  },
  "cells": [
    {
      "cell_type": "markdown",
      "metadata": {
        "id": "view-in-github",
        "colab_type": "text"
      },
      "source": [
        "<a href=\"https://colab.research.google.com/github/sumitthakur24/Amazon-Fine-Food-Review/blob/master/05_Amazon_Fine_Food_Reviews_Analysis_Logistic_Regression.ipynb\" target=\"_parent\"><img src=\"https://colab.research.google.com/assets/colab-badge.svg\" alt=\"Open In Colab\"/></a>"
      ]
    },
    {
      "metadata": {
        "id": "AM7jsfwALPlp",
        "colab_type": "text"
      },
      "cell_type": "markdown",
      "source": [
        "# Amazon Fine Food Reviews Analysis\n",
        "\n",
        "\n",
        "Data Source: https://www.kaggle.com/snap/amazon-fine-food-reviews <br>\n",
        "\n",
        "EDA: https://nycdatascience.com/blog/student-works/amazon-fine-foods-visualization/\n",
        "\n",
        "\n",
        "The Amazon Fine Food Reviews dataset consists of reviews of fine foods from Amazon.<br>\n",
        "\n",
        "Number of reviews: 568,454<br>\n",
        "Number of users: 256,059<br>\n",
        "Number of products: 74,258<br>\n",
        "Timespan: Oct 1999 - Oct 2012<br>\n",
        "Number of Attributes/Columns in data: 10 \n",
        "\n",
        "Attribute Information:\n",
        "\n",
        "1. Id\n",
        "2. ProductId - unique identifier for the product\n",
        "3. UserId - unqiue identifier for the user\n",
        "4. ProfileName\n",
        "5. HelpfulnessNumerator - number of users who found the review helpful\n",
        "6. HelpfulnessDenominator - number of users who indicated whether they found the review helpful or not\n",
        "7. Score - rating between 1 and 5\n",
        "8. Time - timestamp for the review\n",
        "9. Summary - brief summary of the review\n",
        "10. Text - text of the review\n",
        "\n",
        "\n",
        "#### Objective:\n",
        "Given a review, determine whether the review is positive (rating of 4 or 5) or negative (rating of 1 or 2).\n",
        "\n",
        "<br>\n",
        "[Q] How to determine if a review is positive or negative?<br>\n",
        "<br> \n",
        "[Ans] We could use Score/Rating. A rating of 4 or 5 can be cosnidered as a positive review. A rating of 1 or 2 can be considered as negative one. A review of rating 3 is considered nuetral and such reviews are ignored from our analysis. This is an approximate and proxy way of determining the polarity (positivity/negativity) of a review.\n",
        "\n",
        "\n"
      ]
    },
    {
      "metadata": {
        "id": "CaQ7XJ4OLPls",
        "colab_type": "text"
      },
      "cell_type": "markdown",
      "source": [
        "# [1]. Reading Data"
      ]
    },
    {
      "metadata": {
        "id": "5VnEBjKRLPlu",
        "colab_type": "text"
      },
      "cell_type": "markdown",
      "source": [
        "## [1.1] Loading the data\n",
        "\n",
        "The dataset is available in two forms\n",
        "1. .csv file\n",
        "2. SQLite Database\n",
        "\n",
        "In order to load the data, We have used the SQLITE dataset as it is easier to query the data and visualise the data efficiently.\n",
        "<br> \n",
        "\n",
        "Here as we only want to get the global sentiment of the recommendations (positive or negative), we will purposefully ignore all Scores equal to 3. If the score is above 3, then the recommendation wil be set to \"positive\". Otherwise, it will be set to \"negative\"."
      ]
    },
    {
      "metadata": {
        "id": "x6YclOzXLPlv",
        "colab_type": "code",
        "colab": {}
      },
      "cell_type": "code",
      "source": [
        "%matplotlib inline\n",
        "import warnings\n",
        "warnings.filterwarnings(\"ignore\")\n",
        "\n",
        "\n",
        "import sqlite3\n",
        "import pandas as pd\n",
        "import numpy as np\n",
        "import nltk\n",
        "import string\n",
        "import matplotlib.pyplot as plt\n",
        "import seaborn as sns\n",
        "from sklearn.feature_extraction.text import TfidfTransformer\n",
        "from sklearn.feature_extraction.text import TfidfVectorizer\n",
        "\n",
        "from sklearn.feature_extraction.text import CountVectorizer\n",
        "from sklearn.metrics import confusion_matrix\n",
        "from sklearn import metrics\n",
        "from sklearn.metrics import roc_curve, auc\n",
        "from nltk.stem.porter import PorterStemmer\n",
        "\n",
        "import re\n",
        "# Tutorial about Python regular expressions: https://pymotw.com/2/re/\n",
        "import string\n",
        "from nltk.corpus import stopwords\n",
        "from nltk.stem import PorterStemmer\n",
        "from nltk.stem.wordnet import WordNetLemmatizer\n",
        "\n",
        "from gensim.models import Word2Vec\n",
        "from gensim.models import KeyedVectors\n",
        "import pickle\n",
        "\n",
        "from tqdm import tqdm\n",
        "import os"
      ],
      "execution_count": 0,
      "outputs": []
    },
    {
      "metadata": {
        "id": "loFiBOSC8lor",
        "colab_type": "code",
        "outputId": "4f91e124-8e7d-46fb-9f56-d1bf0d4ba3b2",
        "colab": {
          "base_uri": "https://localhost:8080/",
          "height": 125
        }
      },
      "cell_type": "code",
      "source": [
        "from google.colab import drive\n",
        "drive.mount('/content/drive')\n",
        "!cp \"/content/drive/My Drive/database.sqlite\" \"database.sqlite\""
      ],
      "execution_count": 2,
      "outputs": [
        {
          "output_type": "stream",
          "text": [
            "Go to this URL in a browser: https://accounts.google.com/o/oauth2/auth?client_id=947318989803-6bn6qk8qdgf4n4g3pfee6491hc0brc4i.apps.googleusercontent.com&redirect_uri=urn%3Aietf%3Awg%3Aoauth%3A2.0%3Aoob&scope=email%20https%3A%2F%2Fwww.googleapis.com%2Fauth%2Fdocs.test%20https%3A%2F%2Fwww.googleapis.com%2Fauth%2Fdrive%20https%3A%2F%2Fwww.googleapis.com%2Fauth%2Fdrive.photos.readonly%20https%3A%2F%2Fwww.googleapis.com%2Fauth%2Fpeopleapi.readonly&response_type=code\n",
            "\n",
            "Enter your authorization code:\n",
            "··········\n",
            "Mounted at /content/drive\n"
          ],
          "name": "stdout"
        }
      ]
    },
    {
      "metadata": {
        "id": "NZ4OSpSiLPl0",
        "colab_type": "code",
        "outputId": "c4dfc116-bd0f-4f96-9248-1b620958ef48",
        "colab": {
          "base_uri": "https://localhost:8080/",
          "height": 426
        }
      },
      "cell_type": "code",
      "source": [
        "# using SQLite Table to read data.\n",
        "con = sqlite3.connect('database.sqlite') \n",
        "filtered_data = pd.read_sql_query(\"\"\" SELECT * FROM Reviews WHERE Score != 3\"\"\", con) \n",
        "print(filtered_data.shape)\n",
        "filtered_data.head(3)\n"
      ],
      "execution_count": 3,
      "outputs": [
        {
          "output_type": "stream",
          "text": [
            "(525814, 10)\n"
          ],
          "name": "stdout"
        },
        {
          "output_type": "execute_result",
          "data": {
            "text/html": [
              "<div>\n",
              "<style scoped>\n",
              "    .dataframe tbody tr th:only-of-type {\n",
              "        vertical-align: middle;\n",
              "    }\n",
              "\n",
              "    .dataframe tbody tr th {\n",
              "        vertical-align: top;\n",
              "    }\n",
              "\n",
              "    .dataframe thead th {\n",
              "        text-align: right;\n",
              "    }\n",
              "</style>\n",
              "<table border=\"1\" class=\"dataframe\">\n",
              "  <thead>\n",
              "    <tr style=\"text-align: right;\">\n",
              "      <th></th>\n",
              "      <th>Id</th>\n",
              "      <th>ProductId</th>\n",
              "      <th>UserId</th>\n",
              "      <th>ProfileName</th>\n",
              "      <th>HelpfulnessNumerator</th>\n",
              "      <th>HelpfulnessDenominator</th>\n",
              "      <th>Score</th>\n",
              "      <th>Time</th>\n",
              "      <th>Summary</th>\n",
              "      <th>Text</th>\n",
              "    </tr>\n",
              "  </thead>\n",
              "  <tbody>\n",
              "    <tr>\n",
              "      <th>0</th>\n",
              "      <td>1</td>\n",
              "      <td>B001E4KFG0</td>\n",
              "      <td>A3SGXH7AUHU8GW</td>\n",
              "      <td>delmartian</td>\n",
              "      <td>1</td>\n",
              "      <td>1</td>\n",
              "      <td>5</td>\n",
              "      <td>1303862400</td>\n",
              "      <td>Good Quality Dog Food</td>\n",
              "      <td>I have bought several of the Vitality canned d...</td>\n",
              "    </tr>\n",
              "    <tr>\n",
              "      <th>1</th>\n",
              "      <td>2</td>\n",
              "      <td>B00813GRG4</td>\n",
              "      <td>A1D87F6ZCVE5NK</td>\n",
              "      <td>dll pa</td>\n",
              "      <td>0</td>\n",
              "      <td>0</td>\n",
              "      <td>1</td>\n",
              "      <td>1346976000</td>\n",
              "      <td>Not as Advertised</td>\n",
              "      <td>Product arrived labeled as Jumbo Salted Peanut...</td>\n",
              "    </tr>\n",
              "    <tr>\n",
              "      <th>2</th>\n",
              "      <td>3</td>\n",
              "      <td>B000LQOCH0</td>\n",
              "      <td>ABXLMWJIXXAIN</td>\n",
              "      <td>Natalia Corres \"Natalia Corres\"</td>\n",
              "      <td>1</td>\n",
              "      <td>1</td>\n",
              "      <td>4</td>\n",
              "      <td>1219017600</td>\n",
              "      <td>\"Delight\" says it all</td>\n",
              "      <td>This is a confection that has been around a fe...</td>\n",
              "    </tr>\n",
              "  </tbody>\n",
              "</table>\n",
              "</div>"
            ],
            "text/plain": [
              "   Id   ProductId          UserId                      ProfileName  \\\n",
              "0   1  B001E4KFG0  A3SGXH7AUHU8GW                       delmartian   \n",
              "1   2  B00813GRG4  A1D87F6ZCVE5NK                           dll pa   \n",
              "2   3  B000LQOCH0   ABXLMWJIXXAIN  Natalia Corres \"Natalia Corres\"   \n",
              "\n",
              "   HelpfulnessNumerator  HelpfulnessDenominator  Score        Time  \\\n",
              "0                     1                       1      5  1303862400   \n",
              "1                     0                       0      1  1346976000   \n",
              "2                     1                       1      4  1219017600   \n",
              "\n",
              "                 Summary                                               Text  \n",
              "0  Good Quality Dog Food  I have bought several of the Vitality canned d...  \n",
              "1      Not as Advertised  Product arrived labeled as Jumbo Salted Peanut...  \n",
              "2  \"Delight\" says it all  This is a confection that has been around a fe...  "
            ]
          },
          "metadata": {
            "tags": []
          },
          "execution_count": 3
        }
      ]
    },
    {
      "metadata": {
        "id": "D5Baq3AKUnVQ",
        "colab_type": "code",
        "colab": {}
      },
      "cell_type": "code",
      "source": [
        "# Give reviews with Score>3 a positive rating(1), and reviews with a score<3 a negative rating(0).\n",
        "def partition(x):\n",
        "  if x<3:\n",
        "    return 0\n",
        "  return 1"
      ],
      "execution_count": 0,
      "outputs": []
    },
    {
      "metadata": {
        "id": "clZv3541UoN-",
        "colab_type": "code",
        "outputId": "5bcc0f8c-b66c-4f55-9b2a-2f92617d2883",
        "colab": {
          "base_uri": "https://localhost:8080/",
          "height": 602
        }
      },
      "cell_type": "code",
      "source": [
        "actualscore=filtered_data['Score']\n",
        "posneg=actualscore.map(partition)\n",
        "filtered_data['Score']=posneg\n",
        "filtered_data.head()"
      ],
      "execution_count": 5,
      "outputs": [
        {
          "output_type": "execute_result",
          "data": {
            "text/html": [
              "<div>\n",
              "<style scoped>\n",
              "    .dataframe tbody tr th:only-of-type {\n",
              "        vertical-align: middle;\n",
              "    }\n",
              "\n",
              "    .dataframe tbody tr th {\n",
              "        vertical-align: top;\n",
              "    }\n",
              "\n",
              "    .dataframe thead th {\n",
              "        text-align: right;\n",
              "    }\n",
              "</style>\n",
              "<table border=\"1\" class=\"dataframe\">\n",
              "  <thead>\n",
              "    <tr style=\"text-align: right;\">\n",
              "      <th></th>\n",
              "      <th>Id</th>\n",
              "      <th>ProductId</th>\n",
              "      <th>UserId</th>\n",
              "      <th>ProfileName</th>\n",
              "      <th>HelpfulnessNumerator</th>\n",
              "      <th>HelpfulnessDenominator</th>\n",
              "      <th>Score</th>\n",
              "      <th>Time</th>\n",
              "      <th>Summary</th>\n",
              "      <th>Text</th>\n",
              "    </tr>\n",
              "  </thead>\n",
              "  <tbody>\n",
              "    <tr>\n",
              "      <th>0</th>\n",
              "      <td>1</td>\n",
              "      <td>B001E4KFG0</td>\n",
              "      <td>A3SGXH7AUHU8GW</td>\n",
              "      <td>delmartian</td>\n",
              "      <td>1</td>\n",
              "      <td>1</td>\n",
              "      <td>1</td>\n",
              "      <td>1303862400</td>\n",
              "      <td>Good Quality Dog Food</td>\n",
              "      <td>I have bought several of the Vitality canned d...</td>\n",
              "    </tr>\n",
              "    <tr>\n",
              "      <th>1</th>\n",
              "      <td>2</td>\n",
              "      <td>B00813GRG4</td>\n",
              "      <td>A1D87F6ZCVE5NK</td>\n",
              "      <td>dll pa</td>\n",
              "      <td>0</td>\n",
              "      <td>0</td>\n",
              "      <td>0</td>\n",
              "      <td>1346976000</td>\n",
              "      <td>Not as Advertised</td>\n",
              "      <td>Product arrived labeled as Jumbo Salted Peanut...</td>\n",
              "    </tr>\n",
              "    <tr>\n",
              "      <th>2</th>\n",
              "      <td>3</td>\n",
              "      <td>B000LQOCH0</td>\n",
              "      <td>ABXLMWJIXXAIN</td>\n",
              "      <td>Natalia Corres \"Natalia Corres\"</td>\n",
              "      <td>1</td>\n",
              "      <td>1</td>\n",
              "      <td>1</td>\n",
              "      <td>1219017600</td>\n",
              "      <td>\"Delight\" says it all</td>\n",
              "      <td>This is a confection that has been around a fe...</td>\n",
              "    </tr>\n",
              "    <tr>\n",
              "      <th>3</th>\n",
              "      <td>4</td>\n",
              "      <td>B000UA0QIQ</td>\n",
              "      <td>A395BORC6FGVXV</td>\n",
              "      <td>Karl</td>\n",
              "      <td>3</td>\n",
              "      <td>3</td>\n",
              "      <td>0</td>\n",
              "      <td>1307923200</td>\n",
              "      <td>Cough Medicine</td>\n",
              "      <td>If you are looking for the secret ingredient i...</td>\n",
              "    </tr>\n",
              "    <tr>\n",
              "      <th>4</th>\n",
              "      <td>5</td>\n",
              "      <td>B006K2ZZ7K</td>\n",
              "      <td>A1UQRSCLF8GW1T</td>\n",
              "      <td>Michael D. Bigham \"M. Wassir\"</td>\n",
              "      <td>0</td>\n",
              "      <td>0</td>\n",
              "      <td>1</td>\n",
              "      <td>1350777600</td>\n",
              "      <td>Great taffy</td>\n",
              "      <td>Great taffy at a great price.  There was a wid...</td>\n",
              "    </tr>\n",
              "  </tbody>\n",
              "</table>\n",
              "</div>"
            ],
            "text/plain": [
              "   Id   ProductId          UserId                      ProfileName  \\\n",
              "0   1  B001E4KFG0  A3SGXH7AUHU8GW                       delmartian   \n",
              "1   2  B00813GRG4  A1D87F6ZCVE5NK                           dll pa   \n",
              "2   3  B000LQOCH0   ABXLMWJIXXAIN  Natalia Corres \"Natalia Corres\"   \n",
              "3   4  B000UA0QIQ  A395BORC6FGVXV                             Karl   \n",
              "4   5  B006K2ZZ7K  A1UQRSCLF8GW1T    Michael D. Bigham \"M. Wassir\"   \n",
              "\n",
              "   HelpfulnessNumerator  HelpfulnessDenominator  Score        Time  \\\n",
              "0                     1                       1      1  1303862400   \n",
              "1                     0                       0      0  1346976000   \n",
              "2                     1                       1      1  1219017600   \n",
              "3                     3                       3      0  1307923200   \n",
              "4                     0                       0      1  1350777600   \n",
              "\n",
              "                 Summary                                               Text  \n",
              "0  Good Quality Dog Food  I have bought several of the Vitality canned d...  \n",
              "1      Not as Advertised  Product arrived labeled as Jumbo Salted Peanut...  \n",
              "2  \"Delight\" says it all  This is a confection that has been around a fe...  \n",
              "3         Cough Medicine  If you are looking for the secret ingredient i...  \n",
              "4            Great taffy  Great taffy at a great price.  There was a wid...  "
            ]
          },
          "metadata": {
            "tags": []
          },
          "execution_count": 5
        }
      ]
    },
    {
      "metadata": {
        "id": "PuNkhjz0LPmQ",
        "colab_type": "text"
      },
      "cell_type": "markdown",
      "source": [
        "#  [2] Exploratory Data Analysis"
      ]
    },
    {
      "metadata": {
        "id": "oCJaTWrTLPmS",
        "colab_type": "text"
      },
      "cell_type": "markdown",
      "source": [
        "## [2.1] Data Cleaning: Deduplication\n",
        "\n",
        "It is observed (as shown in the table below) that the reviews data had many duplicate entries. Hence it was necessary to remove duplicates in order to get unbiased results for the analysis of the data.  Following is an example:"
      ]
    },
    {
      "metadata": {
        "id": "mdsKFc50LPme",
        "colab_type": "code",
        "colab": {}
      },
      "cell_type": "code",
      "source": [
        "#Sorting data according to ProductId in ascending order\n",
        "sorted_data=filtered_data.sort_values('ProductId', axis=0, ascending=True, inplace=False, kind='quicksort')"
      ],
      "execution_count": 0,
      "outputs": []
    },
    {
      "metadata": {
        "id": "2itLgX-NLPmk",
        "colab_type": "code",
        "outputId": "40717ea8-7cf4-4bed-a44a-1ce4da669239",
        "colab": {
          "base_uri": "https://localhost:8080/",
          "height": 34
        }
      },
      "cell_type": "code",
      "source": [
        "#Deduplication of entries\n",
        "final=sorted_data.drop_duplicates(subset={\"UserId\",\"ProfileName\",\"Time\",\"Text\"}, keep='first', inplace=False)\n",
        "final.shape"
      ],
      "execution_count": 7,
      "outputs": [
        {
          "output_type": "execute_result",
          "data": {
            "text/plain": [
              "(364173, 10)"
            ]
          },
          "metadata": {
            "tags": []
          },
          "execution_count": 7
        }
      ]
    },
    {
      "metadata": {
        "id": "IBU4iZk4LPmt",
        "colab_type": "code",
        "outputId": "c89f7aad-e758-4d27-b9ed-4f97ef4b82ee",
        "colab": {
          "base_uri": "https://localhost:8080/",
          "height": 34
        }
      },
      "cell_type": "code",
      "source": [
        "#Checking to see how much % of data still remains\n",
        "(final['Id'].size*1.0)/(filtered_data['Id'].size*1.0)*100"
      ],
      "execution_count": 8,
      "outputs": [
        {
          "output_type": "execute_result",
          "data": {
            "text/plain": [
              "69.25890143662969"
            ]
          },
          "metadata": {
            "tags": []
          },
          "execution_count": 8
        }
      ]
    },
    {
      "metadata": {
        "id": "gFBOfSe4LPmy",
        "colab_type": "text"
      },
      "cell_type": "markdown",
      "source": [
        "<b>Observation:-</b> It was also seen that in two rows given below the value of HelpfulnessNumerator is greater than HelpfulnessDenominator which is not practically possible hence these two rows too are removed from calcualtions"
      ]
    },
    {
      "metadata": {
        "id": "0YTPJMLTLPm7",
        "colab_type": "code",
        "colab": {}
      },
      "cell_type": "code",
      "source": [
        "final=final[final.HelpfulnessNumerator<=final.HelpfulnessDenominator]"
      ],
      "execution_count": 0,
      "outputs": []
    },
    {
      "metadata": {
        "id": "LVJ_l-x2LPnC",
        "colab_type": "code",
        "outputId": "05df319d-2c44-42ab-e1be-59ab74ab09ba",
        "colab": {
          "base_uri": "https://localhost:8080/",
          "height": 87
        }
      },
      "cell_type": "code",
      "source": [
        "#Before starting the next phase of preprocessing lets see the number of entries left\n",
        "print(final.shape)\n",
        "\n",
        "#How many positive and negative reviews are present in our dataset?\n",
        "final['Score'].value_counts()"
      ],
      "execution_count": 10,
      "outputs": [
        {
          "output_type": "stream",
          "text": [
            "(364171, 10)\n"
          ],
          "name": "stdout"
        },
        {
          "output_type": "execute_result",
          "data": {
            "text/plain": [
              "1    307061\n",
              "0     57110\n",
              "Name: Score, dtype: int64"
            ]
          },
          "metadata": {
            "tags": []
          },
          "execution_count": 10
        }
      ]
    },
    {
      "metadata": {
        "id": "GrTYWzYrLPnH",
        "colab_type": "text"
      },
      "cell_type": "markdown",
      "source": [
        "#  [3] Preprocessing"
      ]
    },
    {
      "metadata": {
        "id": "zbvLitZeLPnI",
        "colab_type": "text"
      },
      "cell_type": "markdown",
      "source": [
        "## [3.1].  Preprocessing Review Text\n",
        "\n",
        "Now that we have finished deduplication our data requires some preprocessing before we go on further with analysis and making the prediction model.\n",
        "\n",
        "Hence in the Preprocessing phase we do the following in the order below:-\n",
        "\n",
        "1. Begin by removing the html tags\n",
        "2. Remove any punctuations or limited set of special characters like , or . or # etc.\n",
        "3. Check if the word is made up of english letters and is not alpha-numeric\n",
        "4. Check to see if the length of the word is greater than 2 (as it was researched that there is no adjective in 2-letters)\n",
        "5. Convert the word to lowercase\n",
        "6. Remove Stopwords\n",
        "7. Finally Snowball Stemming the word (it was obsereved to be better than Porter Stemming)<br>\n",
        "\n",
        "After which we collect the words used to describe positive and negative reviews"
      ]
    },
    {
      "metadata": {
        "id": "yYDc0ZXALPnK",
        "colab_type": "code",
        "outputId": "260417fc-f5cf-4255-a6a3-4fa0f2f14842",
        "colab": {
          "base_uri": "https://localhost:8080/",
          "height": 178
        }
      },
      "cell_type": "code",
      "source": [
        "# printing some random reviews\n",
        "sent_0 = final['Text'].values[0]\n",
        "print(sent_0)\n",
        "print(\"=\"*50)\n",
        "\n",
        "sent_1000 = final['Text'].values[1000]\n",
        "print(sent_1000)\n",
        "print(\"=\"*50)\n",
        "\n",
        "sent_1500 = final['Text'].values[1500]\n",
        "print(sent_1500)\n",
        "print(\"=\"*50)\n",
        "\n",
        "sent_4900 = final['Text'].values[4900]\n",
        "print(sent_4900)\n",
        "print(\"=\"*50)"
      ],
      "execution_count": 11,
      "outputs": [
        {
          "output_type": "stream",
          "text": [
            "this witty little book makes my son laugh at loud. i recite it in the car as we're driving along and he always can sing the refrain. he's learned about whales, India, drooping roses:  i love all the new words this book  introduces and the silliness of it all.  this is a classic book i am  willing to bet my son will STILL be able to recite from memory when he is  in college\n",
            "==================================================\n",
            "I was really looking forward to these pods based on the reviews.  Starbucks is good, but I prefer bolder taste.... imagine my surprise when I ordered 2 boxes - both were expired! One expired back in 2005 for gosh sakes.  I admit that Amazon agreed to credit me for cost plus part of shipping, but geez, 2 years expired!!!  I'm hoping to find local San Diego area shoppe that carries pods so that I can try something different than starbucks.\n",
            "==================================================\n",
            "Great ingredients although, chicken should have been 1st rather than chicken broth, the only thing I do not think belongs in it is Canola oil. Canola or rapeseed is not someting a dog would ever find in nature and if it did find rapeseed in nature and eat it, it would poison them. Today's Food industries have convinced the masses that Canola oil is a safe and even better oil than olive or virgin coconut, facts though say otherwise. Until the late 70's it was poisonous until they figured out a way to fix that. I still like it but it could be better.\n",
            "==================================================\n",
            "Can't do sugar.  Have tried scores of SF Syrups.  NONE of them can touch the excellence of this product.<br /><br />Thick, delicious.  Perfect.  3 ingredients: Water, Maltitol, Natural Maple Flavor.  PERIOD.  No chemicals.  No garbage.<br /><br />Have numerous friends & family members hooked on this stuff.  My husband & son, who do NOT like \"sugar free\" prefer this over major label regular syrup.<br /><br />I use this as my SWEETENER in baking: cheesecakes, white brownies, muffins, pumpkin pies, etc... Unbelievably delicious...<br /><br />Can you tell I like it? :)\n",
            "==================================================\n"
          ],
          "name": "stdout"
        }
      ]
    },
    {
      "metadata": {
        "id": "AxYh-wPiLPnS",
        "colab_type": "code",
        "colab": {}
      },
      "cell_type": "code",
      "source": [
        "for i in range(0,364171):\n",
        "  final['Text'].values[i]=re.sub(r\"http\\S+\",\"\",final['Text'].values[i])\n",
        "  "
      ],
      "execution_count": 0,
      "outputs": []
    },
    {
      "metadata": {
        "id": "JMSSWjZqLPne",
        "colab_type": "code",
        "colab": {}
      },
      "cell_type": "code",
      "source": [
        "# https://stackoverflow.com/questions/16206380/python-beautifulsoup-how-to-remove-all-tags-from-an-element\n",
        "from bs4 import BeautifulSoup\n",
        "for i in range(1,364171):\n",
        "  soup=BeautifulSoup(final['Text'].values[i],'lxml')\n",
        "  text=soup.get_text()\n",
        "  final['Text'].values[i]=text\n"
      ],
      "execution_count": 0,
      "outputs": []
    },
    {
      "metadata": {
        "id": "BEtpMkhULPnt",
        "colab_type": "code",
        "colab": {}
      },
      "cell_type": "code",
      "source": [
        "# https://stackoverflow.com/a/47091490/4084039\n",
        "import re\n",
        "\n",
        "def decontracted(phrase):\n",
        "    # specific\n",
        "    phrase = re.sub(r\"won't\", \"will not\", phrase)\n",
        "    phrase = re.sub(r\"can\\'t\", \"can not\", phrase)\n",
        "\n",
        "    # general\n",
        "    phrase = re.sub(r\"n\\'t\", \" not\", phrase)\n",
        "    phrase = re.sub(r\"\\'re\", \" are\", phrase)\n",
        "    phrase = re.sub(r\"\\'s\", \" is\", phrase)\n",
        "    phrase = re.sub(r\"\\'d\", \" would\", phrase)\n",
        "    phrase = re.sub(r\"\\'ll\", \" will\", phrase)\n",
        "    phrase = re.sub(r\"\\'t\", \" not\", phrase)\n",
        "    phrase = re.sub(r\"\\'ve\", \" have\", phrase)\n",
        "    phrase = re.sub(r\"\\'m\", \" am\", phrase)\n",
        "    return phrase"
      ],
      "execution_count": 0,
      "outputs": []
    },
    {
      "metadata": {
        "id": "GavAnzNjLPnx",
        "colab_type": "code",
        "colab": {}
      },
      "cell_type": "code",
      "source": [
        "for i in range(0,364171):\n",
        "  final['Text'].values[i]=decontracted(final['Text'].values[i])\n"
      ],
      "execution_count": 0,
      "outputs": []
    },
    {
      "metadata": {
        "id": "Kl8nOoL-LPn3",
        "colab_type": "code",
        "colab": {}
      },
      "cell_type": "code",
      "source": [
        "#remove words with numbers python\n",
        "for i in range(0,364171):\n",
        "  final['Text'].values[i]=re.sub(\"\\S*\\d\\S*\", \"\", final['Text'].values[i]).strip()\n"
      ],
      "execution_count": 0,
      "outputs": []
    },
    {
      "metadata": {
        "id": "EGB6X2uxLPn7",
        "colab_type": "code",
        "colab": {}
      },
      "cell_type": "code",
      "source": [
        "#remove spacial character\n",
        "for i in range(0,364171):\n",
        "  final['Text'].values[i]=re.sub('[^A-Za-z0-9]+', ' ', final['Text'].values[i])\n"
      ],
      "execution_count": 0,
      "outputs": []
    },
    {
      "metadata": {
        "id": "CCurSJJ2LPn_",
        "colab_type": "code",
        "colab": {}
      },
      "cell_type": "code",
      "source": [
        "# https://gist.github.com/sebleier/554280\n",
        "# we are removing the words from the stop words list: 'no', 'nor', 'not'\n",
        "# <br /><br /> ==> after the above steps, we are getting \"br br\"\n",
        "# we are including them into stop words list\n",
        "# instead of <br /> if we have <br/> these tags would have revmoved in the 1st step\n",
        "\n",
        "stopwords= set(['br', 'the', 'i', 'me', 'my', 'myself', 'we', 'our', 'ours', 'ourselves', 'you', \"you're\", \"you've\",\\\n",
        "            \"you'll\", \"you'd\", 'your', 'yours', 'yourself', 'yourselves', 'he', 'him', 'his', 'himself', \\\n",
        "            'she', \"she's\", 'her', 'hers', 'herself', 'it', \"it's\", 'its', 'itself', 'they', 'them', 'their',\\\n",
        "            'theirs', 'themselves', 'what', 'which', 'who', 'whom', 'this', 'that', \"that'll\", 'these', 'those', \\\n",
        "            'am', 'is', 'are', 'was', 'were', 'be', 'been', 'being', 'have', 'has', 'had', 'having', 'do', 'does', \\\n",
        "            'did', 'doing', 'a', 'an', 'the', 'and', 'but', 'if', 'or', 'because', 'as', 'until', 'while', 'of', \\\n",
        "            'at', 'by', 'for', 'with', 'about', 'against', 'between', 'into', 'through', 'during', 'before', 'after',\\\n",
        "            'above', 'below', 'to', 'from', 'up', 'down', 'in', 'out', 'on', 'off', 'over', 'under', 'again', 'further',\\\n",
        "            'then', 'once', 'here', 'there', 'when', 'where', 'why', 'how', 'all', 'any', 'both', 'each', 'few', 'more',\\\n",
        "            'most', 'other', 'some', 'such', 'only', 'own', 'same', 'so', 'than', 'too', 'very', \\\n",
        "            's', 't', 'can', 'will', 'just', 'don', \"don't\", 'should', \"should've\", 'now', 'd', 'll', 'm', 'o', 're', \\\n",
        "            've', 'y', 'ain', 'aren', \"aren't\", 'couldn', \"couldn't\", 'didn', \"didn't\", 'doesn', \"doesn't\", 'hadn',\\\n",
        "            \"hadn't\", 'hasn', \"hasn't\", 'haven', \"haven't\", 'isn', \"isn't\", 'ma', 'mightn', \"mightn't\", 'mustn',\\\n",
        "            \"mustn't\", 'needn', \"needn't\", 'shan', \"shan't\", 'shouldn', \"shouldn't\", 'wasn', \"wasn't\", 'weren', \"weren't\", \\\n",
        "            'won', \"won't\", 'wouldn', \"wouldn't\"])"
      ],
      "execution_count": 0,
      "outputs": []
    },
    {
      "metadata": {
        "id": "mFHQEvfnLPoF",
        "colab_type": "code",
        "outputId": "d893bb0f-2470-4d5c-bf84-6591e32fc393",
        "colab": {
          "base_uri": "https://localhost:8080/",
          "height": 34
        }
      },
      "cell_type": "code",
      "source": [
        "# Combining all the above stundents \n",
        "from tqdm import tqdm\n",
        "preprocessed_reviews = []\n",
        "# tqdm is for printing the status bar\n",
        "for sentance in tqdm(final['Text'].values):\n",
        "    sentance = re.sub(r\"http\\S+\", \"\", sentance)\n",
        "    sentance = BeautifulSoup(sentance, 'lxml').get_text()\n",
        "    sentance = decontracted(sentance)\n",
        "    sentance = re.sub(\"\\S*\\d\\S*\", \"\", sentance).strip()\n",
        "    sentance = re.sub('[^A-Za-z]+', ' ', sentance)\n",
        "    # https://gist.github.com/sebleier/554280\n",
        "    sentance = ' '.join(e.lower() for e in sentance.split() if e.lower() not in stopwords)\n",
        "    preprocessed_reviews.append(sentance.strip())"
      ],
      "execution_count": 19,
      "outputs": [
        {
          "output_type": "stream",
          "text": [
            "100%|██████████| 364171/364171 [02:35<00:00, 2338.14it/s]\n"
          ],
          "name": "stderr"
        }
      ]
    },
    {
      "metadata": {
        "id": "Tqx8QUeRLPoH",
        "colab_type": "code",
        "outputId": "21075102-d8cb-4f4c-d4b8-6da007584cc0",
        "colab": {
          "base_uri": "https://localhost:8080/",
          "height": 72
        }
      },
      "cell_type": "code",
      "source": [
        "print(len(preprocessed_reviews))\n",
        "preprocessed_reviews[1500]"
      ],
      "execution_count": 20,
      "outputs": [
        {
          "output_type": "stream",
          "text": [
            "364171\n"
          ],
          "name": "stdout"
        },
        {
          "output_type": "execute_result",
          "data": {
            "text/plain": [
              "'great ingredients although chicken rather chicken broth thing not think belongs canola oil canola rapeseed not someting dog would ever find nature find rapeseed nature eat would poison today food industries convinced masses canola oil safe even better oil olive virgin coconut facts though say otherwise late poisonous figured way fix still like could better'"
            ]
          },
          "metadata": {
            "tags": []
          },
          "execution_count": 20
        }
      ]
    },
    {
      "metadata": {
        "id": "K8V5pwREqfkG",
        "colab_type": "code",
        "outputId": "221e7835-b623-4737-d0bc-d9e44ebf12b1",
        "colab": {
          "base_uri": "https://localhost:8080/",
          "height": 770
        }
      },
      "cell_type": "code",
      "source": [
        "final['cleaned_text']=preprocessed_reviews\n",
        "print(final.shape)\n",
        "final.head()"
      ],
      "execution_count": 21,
      "outputs": [
        {
          "output_type": "stream",
          "text": [
            "(364171, 11)\n"
          ],
          "name": "stdout"
        },
        {
          "output_type": "execute_result",
          "data": {
            "text/html": [
              "<div>\n",
              "<style scoped>\n",
              "    .dataframe tbody tr th:only-of-type {\n",
              "        vertical-align: middle;\n",
              "    }\n",
              "\n",
              "    .dataframe tbody tr th {\n",
              "        vertical-align: top;\n",
              "    }\n",
              "\n",
              "    .dataframe thead th {\n",
              "        text-align: right;\n",
              "    }\n",
              "</style>\n",
              "<table border=\"1\" class=\"dataframe\">\n",
              "  <thead>\n",
              "    <tr style=\"text-align: right;\">\n",
              "      <th></th>\n",
              "      <th>Id</th>\n",
              "      <th>ProductId</th>\n",
              "      <th>UserId</th>\n",
              "      <th>ProfileName</th>\n",
              "      <th>HelpfulnessNumerator</th>\n",
              "      <th>HelpfulnessDenominator</th>\n",
              "      <th>Score</th>\n",
              "      <th>Time</th>\n",
              "      <th>Summary</th>\n",
              "      <th>Text</th>\n",
              "      <th>cleaned_text</th>\n",
              "    </tr>\n",
              "  </thead>\n",
              "  <tbody>\n",
              "    <tr>\n",
              "      <th>138706</th>\n",
              "      <td>150524</td>\n",
              "      <td>0006641040</td>\n",
              "      <td>ACITT7DI6IDDL</td>\n",
              "      <td>shari zychinski</td>\n",
              "      <td>0</td>\n",
              "      <td>0</td>\n",
              "      <td>1</td>\n",
              "      <td>939340800</td>\n",
              "      <td>EVERY book is educational</td>\n",
              "      <td>this witty little book makes my son laugh at l...</td>\n",
              "      <td>witty little book makes son laugh loud recite ...</td>\n",
              "    </tr>\n",
              "    <tr>\n",
              "      <th>138688</th>\n",
              "      <td>150506</td>\n",
              "      <td>0006641040</td>\n",
              "      <td>A2IW4PEEKO2R0U</td>\n",
              "      <td>Tracy</td>\n",
              "      <td>1</td>\n",
              "      <td>1</td>\n",
              "      <td>1</td>\n",
              "      <td>1194739200</td>\n",
              "      <td>Love the book, miss the hard cover version</td>\n",
              "      <td>I grew up reading these Sendak books and watch...</td>\n",
              "      <td>grew reading sendak books watching really rosi...</td>\n",
              "    </tr>\n",
              "    <tr>\n",
              "      <th>138689</th>\n",
              "      <td>150507</td>\n",
              "      <td>0006641040</td>\n",
              "      <td>A1S4A3IQ2MU7V4</td>\n",
              "      <td>sally sue \"sally sue\"</td>\n",
              "      <td>1</td>\n",
              "      <td>1</td>\n",
              "      <td>1</td>\n",
              "      <td>1191456000</td>\n",
              "      <td>chicken soup with rice months</td>\n",
              "      <td>This is a fun way for children to learn their ...</td>\n",
              "      <td>fun way children learn months year learn poems...</td>\n",
              "    </tr>\n",
              "    <tr>\n",
              "      <th>138690</th>\n",
              "      <td>150508</td>\n",
              "      <td>0006641040</td>\n",
              "      <td>AZGXZ2UUK6X</td>\n",
              "      <td>Catherine Hallberg \"(Kate)\"</td>\n",
              "      <td>1</td>\n",
              "      <td>1</td>\n",
              "      <td>1</td>\n",
              "      <td>1076025600</td>\n",
              "      <td>a good swingy rhythm for reading aloud</td>\n",
              "      <td>This is a great little book to read aloud it h...</td>\n",
              "      <td>great little book read aloud nice rhythm well ...</td>\n",
              "    </tr>\n",
              "    <tr>\n",
              "      <th>138691</th>\n",
              "      <td>150509</td>\n",
              "      <td>0006641040</td>\n",
              "      <td>A3CMRKGE0P909G</td>\n",
              "      <td>Teresa</td>\n",
              "      <td>3</td>\n",
              "      <td>4</td>\n",
              "      <td>1</td>\n",
              "      <td>1018396800</td>\n",
              "      <td>A great way to learn the months</td>\n",
              "      <td>This is a book of poetry about the months of t...</td>\n",
              "      <td>book poetry months year goes month cute little...</td>\n",
              "    </tr>\n",
              "  </tbody>\n",
              "</table>\n",
              "</div>"
            ],
            "text/plain": [
              "            Id   ProductId          UserId                  ProfileName  \\\n",
              "138706  150524  0006641040   ACITT7DI6IDDL              shari zychinski   \n",
              "138688  150506  0006641040  A2IW4PEEKO2R0U                        Tracy   \n",
              "138689  150507  0006641040  A1S4A3IQ2MU7V4        sally sue \"sally sue\"   \n",
              "138690  150508  0006641040     AZGXZ2UUK6X  Catherine Hallberg \"(Kate)\"   \n",
              "138691  150509  0006641040  A3CMRKGE0P909G                       Teresa   \n",
              "\n",
              "        HelpfulnessNumerator  HelpfulnessDenominator  Score        Time  \\\n",
              "138706                     0                       0      1   939340800   \n",
              "138688                     1                       1      1  1194739200   \n",
              "138689                     1                       1      1  1191456000   \n",
              "138690                     1                       1      1  1076025600   \n",
              "138691                     3                       4      1  1018396800   \n",
              "\n",
              "                                           Summary  \\\n",
              "138706                   EVERY book is educational   \n",
              "138688  Love the book, miss the hard cover version   \n",
              "138689               chicken soup with rice months   \n",
              "138690      a good swingy rhythm for reading aloud   \n",
              "138691             A great way to learn the months   \n",
              "\n",
              "                                                     Text  \\\n",
              "138706  this witty little book makes my son laugh at l...   \n",
              "138688  I grew up reading these Sendak books and watch...   \n",
              "138689  This is a fun way for children to learn their ...   \n",
              "138690  This is a great little book to read aloud it h...   \n",
              "138691  This is a book of poetry about the months of t...   \n",
              "\n",
              "                                             cleaned_text  \n",
              "138706  witty little book makes son laugh loud recite ...  \n",
              "138688  grew reading sendak books watching really rosi...  \n",
              "138689  fun way children learn months year learn poems...  \n",
              "138690  great little book read aloud nice rhythm well ...  \n",
              "138691  book poetry months year goes month cute little...  "
            ]
          },
          "metadata": {
            "tags": []
          },
          "execution_count": 21
        }
      ]
    },
    {
      "metadata": {
        "id": "Qk7gYOmKLPoM",
        "colab_type": "code",
        "outputId": "99bcec80-bc98-42c8-b866-939b1827fcd6",
        "colab": {
          "base_uri": "https://localhost:8080/",
          "height": 408
        }
      },
      "cell_type": "code",
      "source": [
        "#sampling 100k data(randomly taken)\n",
        "random_100k=final.sample(n=100000)\n",
        "random_100k.head(3)"
      ],
      "execution_count": 22,
      "outputs": [
        {
          "output_type": "execute_result",
          "data": {
            "text/html": [
              "<div>\n",
              "<style scoped>\n",
              "    .dataframe tbody tr th:only-of-type {\n",
              "        vertical-align: middle;\n",
              "    }\n",
              "\n",
              "    .dataframe tbody tr th {\n",
              "        vertical-align: top;\n",
              "    }\n",
              "\n",
              "    .dataframe thead th {\n",
              "        text-align: right;\n",
              "    }\n",
              "</style>\n",
              "<table border=\"1\" class=\"dataframe\">\n",
              "  <thead>\n",
              "    <tr style=\"text-align: right;\">\n",
              "      <th></th>\n",
              "      <th>Id</th>\n",
              "      <th>ProductId</th>\n",
              "      <th>UserId</th>\n",
              "      <th>ProfileName</th>\n",
              "      <th>HelpfulnessNumerator</th>\n",
              "      <th>HelpfulnessDenominator</th>\n",
              "      <th>Score</th>\n",
              "      <th>Time</th>\n",
              "      <th>Summary</th>\n",
              "      <th>Text</th>\n",
              "      <th>cleaned_text</th>\n",
              "    </tr>\n",
              "  </thead>\n",
              "  <tbody>\n",
              "    <tr>\n",
              "      <th>376303</th>\n",
              "      <td>406898</td>\n",
              "      <td>B000KEPBBY</td>\n",
              "      <td>ALFVOKCROM3GK</td>\n",
              "      <td>Linda Sue</td>\n",
              "      <td>1</td>\n",
              "      <td>1</td>\n",
              "      <td>1</td>\n",
              "      <td>1324166400</td>\n",
              "      <td>Bob's Red Mill Veggie soup</td>\n",
              "      <td>Bob is Red Mill Veggie soup is a great soup st...</td>\n",
              "      <td>bob red mill veggie soup great soup starter us...</td>\n",
              "    </tr>\n",
              "    <tr>\n",
              "      <th>338968</th>\n",
              "      <td>366739</td>\n",
              "      <td>B000GAT6MM</td>\n",
              "      <td>A2E83WJYA9UCE5</td>\n",
              "      <td>Cricketais</td>\n",
              "      <td>0</td>\n",
              "      <td>1</td>\n",
              "      <td>1</td>\n",
              "      <td>1316476800</td>\n",
              "      <td>Hemp seeds</td>\n",
              "      <td>Excellent company I will definitely order from...</td>\n",
              "      <td>excellent company definitely order quick effic...</td>\n",
              "    </tr>\n",
              "    <tr>\n",
              "      <th>335535</th>\n",
              "      <td>363050</td>\n",
              "      <td>B001EPQN8I</td>\n",
              "      <td>A1XUJ1FXTB0XW7</td>\n",
              "      <td>Lois Savery \"senior shopper\"</td>\n",
              "      <td>1</td>\n",
              "      <td>1</td>\n",
              "      <td>1</td>\n",
              "      <td>1214179200</td>\n",
              "      <td>Food not able to find</td>\n",
              "      <td>I have been shopping for Sugar Twin for two mo...</td>\n",
              "      <td>shopping sugar twin two months used product tw...</td>\n",
              "    </tr>\n",
              "  </tbody>\n",
              "</table>\n",
              "</div>"
            ],
            "text/plain": [
              "            Id   ProductId          UserId                   ProfileName  \\\n",
              "376303  406898  B000KEPBBY   ALFVOKCROM3GK                     Linda Sue   \n",
              "338968  366739  B000GAT6MM  A2E83WJYA9UCE5                    Cricketais   \n",
              "335535  363050  B001EPQN8I  A1XUJ1FXTB0XW7  Lois Savery \"senior shopper\"   \n",
              "\n",
              "        HelpfulnessNumerator  HelpfulnessDenominator  Score        Time  \\\n",
              "376303                     1                       1      1  1324166400   \n",
              "338968                     0                       1      1  1316476800   \n",
              "335535                     1                       1      1  1214179200   \n",
              "\n",
              "                           Summary  \\\n",
              "376303  Bob's Red Mill Veggie soup   \n",
              "338968                  Hemp seeds   \n",
              "335535       Food not able to find   \n",
              "\n",
              "                                                     Text  \\\n",
              "376303  Bob is Red Mill Veggie soup is a great soup st...   \n",
              "338968  Excellent company I will definitely order from...   \n",
              "335535  I have been shopping for Sugar Twin for two mo...   \n",
              "\n",
              "                                             cleaned_text  \n",
              "376303  bob red mill veggie soup great soup starter us...  \n",
              "338968  excellent company definitely order quick effic...  \n",
              "335535  shopping sugar twin two months used product tw...  "
            ]
          },
          "metadata": {
            "tags": []
          },
          "execution_count": 22
        }
      ]
    },
    {
      "metadata": {
        "id": "lITAs0Z5sEiF",
        "colab_type": "text"
      },
      "cell_type": "markdown",
      "source": [
        "## Time Based Splitting\n"
      ]
    },
    {
      "metadata": {
        "id": "q0Rs-ev4sDg1",
        "colab_type": "code",
        "outputId": "5eed1a19-be8b-4912-e63c-5dfdd8d0049d",
        "colab": {
          "base_uri": "https://localhost:8080/",
          "height": 358
        }
      },
      "cell_type": "code",
      "source": [
        "time_sort=random_100k.sort_values('Time',axis=0,ascending=True)\n",
        "time_sort.head(3)"
      ],
      "execution_count": 23,
      "outputs": [
        {
          "output_type": "execute_result",
          "data": {
            "text/html": [
              "<div>\n",
              "<style scoped>\n",
              "    .dataframe tbody tr th:only-of-type {\n",
              "        vertical-align: middle;\n",
              "    }\n",
              "\n",
              "    .dataframe tbody tr th {\n",
              "        vertical-align: top;\n",
              "    }\n",
              "\n",
              "    .dataframe thead th {\n",
              "        text-align: right;\n",
              "    }\n",
              "</style>\n",
              "<table border=\"1\" class=\"dataframe\">\n",
              "  <thead>\n",
              "    <tr style=\"text-align: right;\">\n",
              "      <th></th>\n",
              "      <th>Id</th>\n",
              "      <th>ProductId</th>\n",
              "      <th>UserId</th>\n",
              "      <th>ProfileName</th>\n",
              "      <th>HelpfulnessNumerator</th>\n",
              "      <th>HelpfulnessDenominator</th>\n",
              "      <th>Score</th>\n",
              "      <th>Time</th>\n",
              "      <th>Summary</th>\n",
              "      <th>Text</th>\n",
              "      <th>cleaned_text</th>\n",
              "    </tr>\n",
              "  </thead>\n",
              "  <tbody>\n",
              "    <tr>\n",
              "      <th>346055</th>\n",
              "      <td>374359</td>\n",
              "      <td>B00004CI84</td>\n",
              "      <td>A344SMIA5JECGM</td>\n",
              "      <td>Vincent P. Ross</td>\n",
              "      <td>1</td>\n",
              "      <td>2</td>\n",
              "      <td>1</td>\n",
              "      <td>944438400</td>\n",
              "      <td>A modern day fairy tale</td>\n",
              "      <td>A twist of rumplestiskin captured on film star...</td>\n",
              "      <td>twist rumplestiskin captured film starring mic...</td>\n",
              "    </tr>\n",
              "    <tr>\n",
              "      <th>346116</th>\n",
              "      <td>374422</td>\n",
              "      <td>B00004CI84</td>\n",
              "      <td>A1048CYU0OV4O8</td>\n",
              "      <td>Judy L. Eans</td>\n",
              "      <td>2</td>\n",
              "      <td>2</td>\n",
              "      <td>1</td>\n",
              "      <td>947376000</td>\n",
              "      <td>GREAT</td>\n",
              "      <td>THIS IS ONE MOVIE THAT SHOULD BE IN YOUR MOVIE...</td>\n",
              "      <td>one movie movie collection filled comedy actio...</td>\n",
              "    </tr>\n",
              "    <tr>\n",
              "      <th>121041</th>\n",
              "      <td>131217</td>\n",
              "      <td>B00004RAMX</td>\n",
              "      <td>A5NQLNC6QPGSI</td>\n",
              "      <td>Kim Nason</td>\n",
              "      <td>7</td>\n",
              "      <td>8</td>\n",
              "      <td>1</td>\n",
              "      <td>965001600</td>\n",
              "      <td>End your Gopher Problems</td>\n",
              "      <td>I have just recently purchased the Woodstream ...</td>\n",
              "      <td>recently purchased woodstream corp gopher trap...</td>\n",
              "    </tr>\n",
              "  </tbody>\n",
              "</table>\n",
              "</div>"
            ],
            "text/plain": [
              "            Id   ProductId          UserId      ProfileName  \\\n",
              "346055  374359  B00004CI84  A344SMIA5JECGM  Vincent P. Ross   \n",
              "346116  374422  B00004CI84  A1048CYU0OV4O8     Judy L. Eans   \n",
              "121041  131217  B00004RAMX   A5NQLNC6QPGSI        Kim Nason   \n",
              "\n",
              "        HelpfulnessNumerator  HelpfulnessDenominator  Score       Time  \\\n",
              "346055                     1                       2      1  944438400   \n",
              "346116                     2                       2      1  947376000   \n",
              "121041                     7                       8      1  965001600   \n",
              "\n",
              "                         Summary  \\\n",
              "346055   A modern day fairy tale   \n",
              "346116                     GREAT   \n",
              "121041  End your Gopher Problems   \n",
              "\n",
              "                                                     Text  \\\n",
              "346055  A twist of rumplestiskin captured on film star...   \n",
              "346116  THIS IS ONE MOVIE THAT SHOULD BE IN YOUR MOVIE...   \n",
              "121041  I have just recently purchased the Woodstream ...   \n",
              "\n",
              "                                             cleaned_text  \n",
              "346055  twist rumplestiskin captured film starring mic...  \n",
              "346116  one movie movie collection filled comedy actio...  \n",
              "121041  recently purchased woodstream corp gopher trap...  "
            ]
          },
          "metadata": {
            "tags": []
          },
          "execution_count": 23
        }
      ]
    },
    {
      "metadata": {
        "id": "kbBHNEDHtZrx",
        "colab_type": "code",
        "colab": {}
      },
      "cell_type": "code",
      "source": [
        "x_100k=time_sort[\"cleaned_text\"]\n",
        "y_100k=time_sort[\"Score\"]"
      ],
      "execution_count": 0,
      "outputs": []
    },
    {
      "metadata": {
        "id": "GR-uvhuRtx-G",
        "colab_type": "text"
      },
      "cell_type": "markdown",
      "source": [
        "## Splitting in to Train ,Test and CV"
      ]
    },
    {
      "metadata": {
        "id": "0RBvKPrEt21l",
        "colab_type": "code",
        "colab": {}
      },
      "cell_type": "code",
      "source": [
        "#splitting in train and test\n",
        "from sklearn.model_selection import train_test_split\n",
        "x_train,x_test,y_train,y_test=train_test_split(x_100k,y_100k,test_size=0.2,random_state=0)\n",
        "x_tr,x_cv,y_tr,y_cv=train_test_split(x_train,y_train,test_size=0.2,random_state=0)\n"
      ],
      "execution_count": 0,
      "outputs": []
    },
    {
      "metadata": {
        "id": "JA0j-uTvw7tZ",
        "colab_type": "code",
        "outputId": "d62372c8-cfcd-47e8-8ecd-efa47be7d8a8",
        "colab": {
          "base_uri": "https://localhost:8080/",
          "height": 70
        }
      },
      "cell_type": "code",
      "source": [
        "y_tr.value_counts()"
      ],
      "execution_count": 26,
      "outputs": [
        {
          "output_type": "execute_result",
          "data": {
            "text/plain": [
              "1    54053\n",
              "0     9947\n",
              "Name: Score, dtype: int64"
            ]
          },
          "metadata": {
            "tags": []
          },
          "execution_count": 26
        }
      ]
    },
    {
      "metadata": {
        "id": "B93jqKuhLPoQ",
        "colab_type": "text"
      },
      "cell_type": "markdown",
      "source": [
        "# [4] Featurization"
      ]
    },
    {
      "metadata": {
        "id": "Mr4j2QhgLPoQ",
        "colab_type": "text"
      },
      "cell_type": "markdown",
      "source": [
        "## [4.1] BAG OF WORDS"
      ]
    },
    {
      "metadata": {
        "id": "dZVHt3mtLPoR",
        "colab_type": "code",
        "colab": {}
      },
      "cell_type": "code",
      "source": [
        "from sklearn.linear_model import LogisticRegression\n",
        "from sklearn.model_selection import GridSearchCV\n",
        "from sklearn.metrics import roc_auc_score,auc"
      ],
      "execution_count": 0,
      "outputs": []
    },
    {
      "metadata": {
        "id": "R2bnxsNWye82",
        "colab_type": "code",
        "colab": {}
      },
      "cell_type": "code",
      "source": [
        "#BOW\n",
        "count_vect=CountVectorizer()\n",
        "\n",
        "#train\n",
        "count_vect.fit(x_tr)\n",
        "tr_bow=count_vect.transform(x_tr)\n",
        "\n",
        "#cv\n",
        "cv_bow=count_vect.transform(x_cv)\n"
      ],
      "execution_count": 0,
      "outputs": []
    },
    {
      "metadata": {
        "id": "9irW1DbTCyR8",
        "colab_type": "text"
      },
      "cell_type": "markdown",
      "source": [
        "### Grid search for optimal hyperparameter\n"
      ]
    },
    {
      "metadata": {
        "id": "3G8R2qJR-lP-",
        "colab_type": "code",
        "outputId": "4311a0ea-3b83-4dd3-ebf6-577034d4ad5c",
        "colab": {
          "base_uri": "https://localhost:8080/",
          "height": 175
        }
      },
      "cell_type": "code",
      "source": [
        "tuned_parameters=[{'C':[10**-4,10**-2,10**0,10**2,10**4]}]\n",
        "model=GridSearchCV(LogisticRegression(), tuned_parameters, scoring='f1',cv=5)\n",
        "#model.fit(x_tr,y_tr)\n",
        "model.fit(tr_bow,y_tr)"
      ],
      "execution_count": 29,
      "outputs": [
        {
          "output_type": "execute_result",
          "data": {
            "text/plain": [
              "GridSearchCV(cv=5, error_score='raise-deprecating',\n",
              "       estimator=LogisticRegression(C=1.0, class_weight=None, dual=False, fit_intercept=True,\n",
              "          intercept_scaling=1, max_iter=100, multi_class='warn',\n",
              "          n_jobs=None, penalty='l2', random_state=None, solver='warn',\n",
              "          tol=0.0001, verbose=0, warm_start=False),\n",
              "       fit_params=None, iid='warn', n_jobs=None,\n",
              "       param_grid=[{'C': [0.0001, 0.01, 1, 100, 10000]}],\n",
              "       pre_dispatch='2*n_jobs', refit=True, return_train_score='warn',\n",
              "       scoring='f1', verbose=0)"
            ]
          },
          "metadata": {
            "tags": []
          },
          "execution_count": 29
        }
      ]
    },
    {
      "metadata": {
        "id": "chS_MDqH37VF",
        "colab_type": "code",
        "outputId": "4910607c-4e09-4259-8cef-6e2ccacb56db",
        "colab": {
          "base_uri": "https://localhost:8080/",
          "height": 34
        }
      },
      "cell_type": "code",
      "source": [
        "model.best_score_"
      ],
      "execution_count": 30,
      "outputs": [
        {
          "output_type": "execute_result",
          "data": {
            "text/plain": [
              "0.9518231016747486"
            ]
          },
          "metadata": {
            "tags": []
          },
          "execution_count": 30
        }
      ]
    },
    {
      "metadata": {
        "id": "kHZyISaVEzly",
        "colab_type": "code",
        "outputId": "9a40ccec-630c-4372-ebb3-fcf7714091e9",
        "colab": {
          "base_uri": "https://localhost:8080/",
          "height": 87
        }
      },
      "cell_type": "code",
      "source": [
        "model.best_estimator_"
      ],
      "execution_count": 31,
      "outputs": [
        {
          "output_type": "execute_result",
          "data": {
            "text/plain": [
              "LogisticRegression(C=1, class_weight=None, dual=False, fit_intercept=True,\n",
              "          intercept_scaling=1, max_iter=100, multi_class='warn',\n",
              "          n_jobs=None, penalty='l2', random_state=None, solver='warn',\n",
              "          tol=0.0001, verbose=0, warm_start=False)"
            ]
          },
          "metadata": {
            "tags": []
          },
          "execution_count": 31
        }
      ]
    },
    {
      "metadata": {
        "id": "op616bjaHoP2",
        "colab_type": "text"
      },
      "cell_type": "markdown",
      "source": [
        "###  Applying Logistic Regression with L1 regularization on BOW"
      ]
    },
    {
      "metadata": {
        "id": "_X9tAvYuHm7A",
        "colab_type": "code",
        "outputId": "b77a4849-fa5e-46e6-acc2-6b777e23aa27",
        "colab": {
          "base_uri": "https://localhost:8080/",
          "height": 87
        }
      },
      "cell_type": "code",
      "source": [
        "# l1 on cv\n",
        "lr_l1=LogisticRegression(C=1.0, penalty='l1')\n",
        "lr_l1.fit(tr_bow,y_tr)"
      ],
      "execution_count": 32,
      "outputs": [
        {
          "output_type": "execute_result",
          "data": {
            "text/plain": [
              "LogisticRegression(C=1.0, class_weight=None, dual=False, fit_intercept=True,\n",
              "          intercept_scaling=1, max_iter=100, multi_class='warn',\n",
              "          n_jobs=None, penalty='l1', random_state=None, solver='warn',\n",
              "          tol=0.0001, verbose=0, warm_start=False)"
            ]
          },
          "metadata": {
            "tags": []
          },
          "execution_count": 32
        }
      ]
    },
    {
      "metadata": {
        "id": "Z3JP6unLAKvM",
        "colab_type": "text"
      },
      "cell_type": "markdown",
      "source": [
        "### Roc  curve for Train and CV"
      ]
    },
    {
      "metadata": {
        "id": "j-VmQS8rADbw",
        "colab_type": "code",
        "outputId": "b9a106dc-2ea4-4fbb-e6a7-32c79437c711",
        "colab": {
          "base_uri": "https://localhost:8080/",
          "height": 294
        }
      },
      "cell_type": "code",
      "source": [
        "pred_cv=lr_l1.predict_proba(cv_bow)\n",
        "fpr,tpr,threshold=roc_curve(y_cv,pred_cv[:,1])\n",
        "roc_cv=metrics.auc(fpr,tpr)\n",
        "\n",
        "plt.xlabel(\"True positive rate\")\n",
        "plt.ylabel(\"False positive rate\")\n",
        "plt.title('ROC curve')\n",
        "\n",
        "plt.plot(fpr,tpr, label=roc_cv, color='orange')\n",
        "plt.plot([0, 1], [0, 1], 'b--')\n",
        "plt.legend()\n",
        "plt.show()"
      ],
      "execution_count": 33,
      "outputs": [
        {
          "output_type": "display_data",
          "data": {
            "image/png": "[encoded data removed]",
            "text/plain": [
              "<Figure size 432x288 with 1 Axes>"
            ]
          },
          "metadata": {
            "tags": []
          }
        }
      ]
    },
    {
      "metadata": {
        "id": "6C2UYTXsRTAh",
        "colab_type": "code",
        "colab": {}
      },
      "cell_type": "code",
      "source": [
        "test_bow=count_vect.transform(x_test)"
      ],
      "execution_count": 0,
      "outputs": []
    },
    {
      "metadata": {
        "id": "dAjx1bOTAaZV",
        "colab_type": "text"
      },
      "cell_type": "markdown",
      "source": [
        "### Roc  curve for Train and Test"
      ]
    },
    {
      "metadata": {
        "id": "NMITAQS2RMCp",
        "colab_type": "code",
        "outputId": "d51d150d-24cd-40a5-96ed-51309dea7754",
        "colab": {
          "base_uri": "https://localhost:8080/",
          "height": 294
        }
      },
      "cell_type": "code",
      "source": [
        "# l1 on test data\n",
        "#lr.fit(tr_bow,y_tr)\n",
        "\n",
        "pred_test=lr_l1.predict_proba(test_bow)\n",
        "fpr,tpr,threshold=roc_curve(y_test,pred_test[:,1])\n",
        "roc_test=metrics.auc(fpr,tpr)\n",
        "\n",
        "plt.xlabel(\"True positive rate\")\n",
        "plt.ylabel(\"False positive rate\")\n",
        "plt.title('ROC curve')\n",
        "\n",
        "plt.plot(fpr,tpr, label=roc_test, color='orange')\n",
        "plt.plot([0, 1], [0, 1], 'b--')\n",
        "plt.legend()\n",
        "plt.show()"
      ],
      "execution_count": 35,
      "outputs": [
        {
          "output_type": "display_data",
          "data": {
            "image/png": "[encoded data removed]",
            "text/plain": [
              "<Figure size 432x288 with 1 Axes>"
            ]
          },
          "metadata": {
            "tags": []
          }
        }
      ]
    },
    {
      "metadata": {
        "id": "719hZJSFTMHb",
        "colab_type": "code",
        "outputId": "82110ff2-501f-4c38-8054-12f7cef323f2",
        "colab": {
          "base_uri": "https://localhost:8080/",
          "height": 175
        }
      },
      "cell_type": "code",
      "source": [
        "pred=lr_l1.predict(test_bow)\n",
        "print(metrics.classification_report(y_test,pred))"
      ],
      "execution_count": 36,
      "outputs": [
        {
          "output_type": "stream",
          "text": [
            "              precision    recall  f1-score   support\n",
            "\n",
            "           0       0.79      0.68      0.73      3160\n",
            "           1       0.94      0.97      0.95     16840\n",
            "\n",
            "   micro avg       0.92      0.92      0.92     20000\n",
            "   macro avg       0.86      0.82      0.84     20000\n",
            "weighted avg       0.92      0.92      0.92     20000\n",
            "\n"
          ],
          "name": "stdout"
        }
      ]
    },
    {
      "metadata": {
        "id": "hWjRgZvFMCDU",
        "colab_type": "text"
      },
      "cell_type": "markdown",
      "source": [
        "### Sparcity"
      ]
    },
    {
      "metadata": {
        "id": "VgmFzkfwMA-D",
        "colab_type": "code",
        "outputId": "eac300a4-2209-4a03-ca99-f88d72163f85",
        "colab": {
          "base_uri": "https://localhost:8080/",
          "height": 52
        }
      },
      "cell_type": "code",
      "source": [
        "# sparcity of matrix\n",
        "w=lr_l1.coef_\n",
        "print(np.count_nonzero(w))\n",
        "w.shape"
      ],
      "execution_count": 37,
      "outputs": [
        {
          "output_type": "stream",
          "text": [
            "4808\n"
          ],
          "name": "stdout"
        },
        {
          "output_type": "execute_result",
          "data": {
            "text/plain": [
              "(1, 48845)"
            ]
          },
          "metadata": {
            "tags": []
          },
          "execution_count": 37
        }
      ]
    },
    {
      "metadata": {
        "id": "eOCvuyvH-8BM",
        "colab_type": "text"
      },
      "cell_type": "markdown",
      "source": [
        "### Applying Logistic Regression with L2 regularization on BOW"
      ]
    },
    {
      "metadata": {
        "id": "-1BoPXdi99Gr",
        "colab_type": "code",
        "outputId": "8a9e643c-4ddb-4d85-fb5d-4f1492af05ef",
        "colab": {
          "base_uri": "https://localhost:8080/",
          "height": 87
        }
      },
      "cell_type": "code",
      "source": [
        "lr_l2=LogisticRegression(C=1.0, penalty='l2')\n",
        "lr_l2.fit(tr_bow,y_tr)"
      ],
      "execution_count": 38,
      "outputs": [
        {
          "output_type": "execute_result",
          "data": {
            "text/plain": [
              "LogisticRegression(C=1.0, class_weight=None, dual=False, fit_intercept=True,\n",
              "          intercept_scaling=1, max_iter=100, multi_class='warn',\n",
              "          n_jobs=None, penalty='l2', random_state=None, solver='warn',\n",
              "          tol=0.0001, verbose=0, warm_start=False)"
            ]
          },
          "metadata": {
            "tags": []
          },
          "execution_count": 38
        }
      ]
    },
    {
      "metadata": {
        "id": "_VcgWpgPA1-4",
        "colab_type": "text"
      },
      "cell_type": "markdown",
      "source": [
        "### Roc  curve for Train and CV"
      ]
    },
    {
      "metadata": {
        "id": "Ka6O3f_IA4jk",
        "colab_type": "code",
        "outputId": "6882d0b4-1171-42bb-bacc-8cc1aa9099f5",
        "colab": {
          "base_uri": "https://localhost:8080/",
          "height": 294
        }
      },
      "cell_type": "code",
      "source": [
        "pred_cv=lr_l2.predict_proba(cv_bow)\n",
        "fpr,tpr,threshold=roc_curve(y_cv,pred_cv[:,1])\n",
        "roc_cv_l2=metrics.auc(fpr,tpr)\n",
        "\n",
        "plt.xlabel(\"True positive rate\")\n",
        "plt.ylabel(\"False positive rate\")\n",
        "plt.title('ROC curve')\n",
        "\n",
        "plt.plot(fpr,tpr, label=roc_cv_l2, color='orange')\n",
        "plt.plot([0, 1], [0, 1], 'b--')\n",
        "plt.legend()\n",
        "plt.show()"
      ],
      "execution_count": 39,
      "outputs": [
        {
          "output_type": "display_data",
          "data": {
            "image/png": "[encoded data removed]",
            "text/plain": [
              "<Figure size 432x288 with 1 Axes>"
            ]
          },
          "metadata": {
            "tags": []
          }
        }
      ]
    },
    {
      "metadata": {
        "id": "XxM_5rRbCpHH",
        "colab_type": "text"
      },
      "cell_type": "markdown",
      "source": [
        "### Roc  curve for Train and Test"
      ]
    },
    {
      "metadata": {
        "id": "WvFj1tY4CuPQ",
        "colab_type": "code",
        "outputId": "319e4e3c-bb22-4752-c0c4-50f2d4033e2b",
        "colab": {
          "base_uri": "https://localhost:8080/",
          "height": 294
        }
      },
      "cell_type": "code",
      "source": [
        "pred_test=lr_l2.predict_proba(test_bow)\n",
        "fpr,tpr,threshold=roc_curve(y_test,pred_test[:,1])\n",
        "roc_test_l2=metrics.auc(fpr,tpr)\n",
        "\n",
        "plt.xlabel(\"True positive rate\")\n",
        "plt.ylabel(\"False positive rate\")\n",
        "plt.title('ROC curve')\n",
        "\n",
        "plt.plot(fpr,tpr, label=roc_test_l2, color='orange')\n",
        "plt.plot([0, 1], [0, 1], 'b--')\n",
        "plt.legend()\n",
        "plt.show()"
      ],
      "execution_count": 40,
      "outputs": [
        {
          "output_type": "display_data",
          "data": {
            "image/png": "[encoded data removed]",
            "text/plain": [
              "<Figure size 432x288 with 1 Axes>"
            ]
          },
          "metadata": {
            "tags": []
          }
        }
      ]
    },
    {
      "metadata": {
        "id": "EiPb4wybE_tn",
        "colab_type": "code",
        "outputId": "244f9d5f-b015-4028-a7ba-3035b96b1190",
        "colab": {
          "base_uri": "https://localhost:8080/",
          "height": 175
        }
      },
      "cell_type": "code",
      "source": [
        "pred=lr_l2.predict(test_bow)\n",
        "print(metrics.classification_report(y_test,pred))"
      ],
      "execution_count": 41,
      "outputs": [
        {
          "output_type": "stream",
          "text": [
            "              precision    recall  f1-score   support\n",
            "\n",
            "           0       0.79      0.68      0.73      3160\n",
            "           1       0.94      0.97      0.95     16840\n",
            "\n",
            "   micro avg       0.92      0.92      0.92     20000\n",
            "   macro avg       0.86      0.82      0.84     20000\n",
            "weighted avg       0.92      0.92      0.92     20000\n",
            "\n"
          ],
          "name": "stdout"
        }
      ]
    },
    {
      "metadata": {
        "id": "VIpVlvV5EswU",
        "colab_type": "text"
      },
      "cell_type": "markdown",
      "source": [
        "### Performing pertubation test (multicollinearity check) on BOW"
      ]
    },
    {
      "metadata": {
        "id": "3U_ZeZkPExIy",
        "colab_type": "code",
        "colab": {
          "base_uri": "https://localhost:8080/",
          "height": 52
        },
        "outputId": "49c7e7bb-37d0-4e76-e99f-4bc4b02c6fbf"
      },
      "cell_type": "code",
      "source": [
        "from sklearn.metrics import accuracy_score\n",
        "\n",
        "clf=LogisticRegression(C=1.0, penalty='l2')\n",
        "clf.fit(tr_bow,y_tr)\n",
        "Y_pred=clf.predict(test_bow)\n",
        "print(\"Accuracy on Test: %0.3f%%\"%(accuracy_score(y_test,Y_pred)*100))\n",
        "print(\"non zero weights:\",np.count_nonzero(clf.coef_))"
      ],
      "execution_count": 63,
      "outputs": [
        {
          "output_type": "stream",
          "text": [
            "Accuracy on Test: 91.810%\n",
            "non zero weights: 26768\n"
          ],
          "name": "stdout"
        }
      ]
    },
    {
      "metadata": {
        "id": "CfLOT4BIGzBp",
        "colab_type": "code",
        "colab": {
          "base_uri": "https://localhost:8080/",
          "height": 246
        },
        "outputId": "bd5a3343-245c-4fe7-a6d2-f4ca73f77263"
      },
      "cell_type": "code",
      "source": [
        "from scipy.sparse import find\n",
        "#weight before adding some random noise\n",
        "weight1=find(clf.coef_[0])[2]\n",
        "print(weight1[:50])"
      ],
      "execution_count": 64,
      "outputs": [
        {
          "output_type": "stream",
          "text": [
            "[ 2.90044486e-01  4.23871457e-02  2.82615602e-03  2.19615683e-02\n",
            "  8.50177588e-02 -5.11081286e-01  6.11514198e-03 -4.55256986e-01\n",
            " -8.11185461e-03  1.12294129e-01  2.00702147e-02  2.66622324e-02\n",
            "  3.68160222e-01  1.09849092e-01  9.01859290e-02  2.45105325e-06\n",
            " -1.06414598e+00  6.02052258e-03  5.81784608e-01 -2.42496872e-01\n",
            "  1.28260902e-01  5.65181828e-01 -1.17733960e-01  5.00191065e-02\n",
            " -2.62551928e-03  5.22519368e-02  6.89125994e-02  2.42330857e-01\n",
            "  1.79143536e-01  1.49817187e-02  4.28187572e-03  1.79400077e-01\n",
            "  4.85234100e-03  6.36305388e-02 -2.55647641e-01  1.17931726e-05\n",
            "  2.93021057e-01  6.87238738e-02  1.28656985e-03  7.03105989e-03\n",
            "  3.59583007e-02 -1.93392147e-01  5.62461822e-02 -5.62222964e-02\n",
            " -9.68336442e-01 -9.68336442e-01 -3.22778814e-01  4.84896708e-01\n",
            "  4.43543793e-02  3.37340108e-03]\n"
          ],
          "name": "stdout"
        }
      ]
    },
    {
      "metadata": {
        "id": "xmTHVPZRHEF1",
        "colab_type": "code",
        "colab": {}
      },
      "cell_type": "code",
      "source": [
        "tr_bow_t=tr_bow\n",
        "#random noise\n",
        "epsilon=np.random.uniform(low=-0.0001,high=0.0001, size=(find(tr_bow_t)[0].size,))\n",
        "a,b,c=find(tr_bow_t)\n",
        "tr_bow_t[a,b]=epsilon+tr_bow[a,b]"
      ],
      "execution_count": 0,
      "outputs": []
    },
    {
      "metadata": {
        "id": "-cwq5ej2ITcq",
        "colab_type": "code",
        "colab": {
          "base_uri": "https://localhost:8080/",
          "height": 52
        },
        "outputId": "e69d426b-053f-4311-ba64-9222d4b00a2e"
      },
      "cell_type": "code",
      "source": [
        "from sklearn.metrics import accuracy_score\n",
        "\n",
        "clf_t=LogisticRegression(C=1.0, penalty='l2')\n",
        "clf_t.fit(tr_bow_t,y_tr)\n",
        "Y_pred=clf_t.predict(test_bow)\n",
        "print(\"Accuracy on Test: %0.3f%%\"%(accuracy_score(y_test,Y_pred)*100))\n",
        "print(\"non zero weights:\",np.count_nonzero(clf.coef_))"
      ],
      "execution_count": 68,
      "outputs": [
        {
          "output_type": "stream",
          "text": [
            "Accuracy on Test: 91.300%\n",
            "non zero weights: 26768\n"
          ],
          "name": "stdout"
        }
      ]
    },
    {
      "metadata": {
        "id": "5ocKrlA5F91O",
        "colab_type": "code",
        "colab": {
          "base_uri": "https://localhost:8080/",
          "height": 246
        },
        "outputId": "ef5047cb-f7b9-45f1-e388-15f52cad2452"
      },
      "cell_type": "code",
      "source": [
        "from scipy.sparse import find\n",
        "#weight after adding some random noise\n",
        "weight2=find(clf.coef_[0])[2]\n",
        "print(weight2[:50])"
      ],
      "execution_count": 69,
      "outputs": [
        {
          "output_type": "stream",
          "text": [
            "[ 2.90044486e-01  4.23871457e-02  2.82615602e-03  2.19615683e-02\n",
            "  8.50177588e-02 -5.11081286e-01  6.11514198e-03 -4.55256986e-01\n",
            " -8.11185461e-03  1.12294129e-01  2.00702147e-02  2.66622324e-02\n",
            "  3.68160222e-01  1.09849092e-01  9.01859290e-02  2.45105325e-06\n",
            " -1.06414598e+00  6.02052258e-03  5.81784608e-01 -2.42496872e-01\n",
            "  1.28260902e-01  5.65181828e-01 -1.17733960e-01  5.00191065e-02\n",
            " -2.62551928e-03  5.22519368e-02  6.89125994e-02  2.42330857e-01\n",
            "  1.79143536e-01  1.49817187e-02  4.28187572e-03  1.79400077e-01\n",
            "  4.85234100e-03  6.36305388e-02 -2.55647641e-01  1.17931726e-05\n",
            "  2.93021057e-01  6.87238738e-02  1.28656985e-03  7.03105989e-03\n",
            "  3.59583007e-02 -1.93392147e-01  5.62461822e-02 -5.62222964e-02\n",
            " -9.68336442e-01 -9.68336442e-01 -3.22778814e-01  4.84896708e-01\n",
            "  4.43543793e-02  3.37340108e-03]\n"
          ],
          "name": "stdout"
        }
      ]
    },
    {
      "metadata": {
        "id": "d2wphUSAI2Ux",
        "colab_type": "code",
        "colab": {
          "base_uri": "https://localhost:8080/",
          "height": 34
        },
        "outputId": "445abaeb-b371-4950-8867-4d2a97ad1033"
      },
      "cell_type": "code",
      "source": [
        "print(weight2.size)"
      ],
      "execution_count": 70,
      "outputs": [
        {
          "output_type": "stream",
          "text": [
            "26768\n"
          ],
          "name": "stdout"
        }
      ]
    },
    {
      "metadata": {
        "id": "bOpI9MCjI-RW",
        "colab_type": "code",
        "colab": {}
      },
      "cell_type": "code",
      "source": [
        "weight_diff=(abs(weight1 - weight2)/weight1)*100"
      ],
      "execution_count": 0,
      "outputs": []
    },
    {
      "metadata": {
        "id": "-cEEpDx0LPoZ",
        "colab_type": "text"
      },
      "cell_type": "markdown",
      "source": [
        "## [4.3] TF-IDF"
      ]
    },
    {
      "metadata": {
        "id": "TgP61HqBLPoa",
        "colab_type": "code",
        "colab": {}
      },
      "cell_type": "code",
      "source": [
        "tf_idf_vect=TfidfVectorizer(ngram_range=(1,2),min_df=10)\n",
        "train_tf=tf_idf_vect.fit_transform(x_tr)\n",
        "\n",
        "cv_tf=tf_idf_vect.transform(x_cv)\n"
      ],
      "execution_count": 0,
      "outputs": []
    },
    {
      "metadata": {
        "id": "fe2Vdw2fs9UW",
        "colab_type": "code",
        "outputId": "f7c05b0a-f3e2-47c6-dec3-d085705ed5eb",
        "colab": {
          "base_uri": "https://localhost:8080/",
          "height": 52
        }
      },
      "cell_type": "code",
      "source": [
        "print(\"train data shape:\",train_tf.shape)\n",
        "print(\"cv data shape:\",cv_tf.shape)"
      ],
      "execution_count": 44,
      "outputs": [
        {
          "output_type": "stream",
          "text": [
            "train data shape: (64000, 37202)\n",
            "cv data shape: (16000, 37202)\n"
          ],
          "name": "stdout"
        }
      ]
    },
    {
      "metadata": {
        "id": "-BXWXnqQti6A",
        "colab_type": "text"
      },
      "cell_type": "markdown",
      "source": [
        "### Grid Search for optimal Hyperparameter"
      ]
    },
    {
      "metadata": {
        "id": "xzL-jfHwtXyt",
        "colab_type": "code",
        "outputId": "56283353-6f29-417a-d0e6-91106e175694",
        "colab": {
          "base_uri": "https://localhost:8080/",
          "height": 105
        }
      },
      "cell_type": "code",
      "source": [
        "model_tf=GridSearchCV(LogisticRegression(),tuned_parameters, scoring='f1', cv=5)\n",
        "model_tf.fit(train_tf,y_tr)\n",
        "print(model_tf.best_estimator_)\n",
        "model_tf.best_score_"
      ],
      "execution_count": 45,
      "outputs": [
        {
          "output_type": "stream",
          "text": [
            "LogisticRegression(C=100, class_weight=None, dual=False, fit_intercept=True,\n",
            "          intercept_scaling=1, max_iter=100, multi_class='warn',\n",
            "          n_jobs=None, penalty='l2', random_state=None, solver='warn',\n",
            "          tol=0.0001, verbose=0, warm_start=False)\n"
          ],
          "name": "stdout"
        },
        {
          "output_type": "execute_result",
          "data": {
            "text/plain": [
              "0.9571635097501157"
            ]
          },
          "metadata": {
            "tags": []
          },
          "execution_count": 45
        }
      ]
    },
    {
      "metadata": {
        "id": "7VKbec-VyShJ",
        "colab_type": "text"
      },
      "cell_type": "markdown",
      "source": [
        "###  Applying Logistic Regression with L1 regularization on TFIDF"
      ]
    },
    {
      "metadata": {
        "id": "exmnvtTFyMZC",
        "colab_type": "code",
        "outputId": "79fac83b-bf52-4c31-c3b5-cdf2ee192392",
        "colab": {
          "base_uri": "https://localhost:8080/",
          "height": 87
        }
      },
      "cell_type": "code",
      "source": [
        "lr_l1_tf=LogisticRegression(C=100, penalty='l1')\n",
        "lr_l1_tf.fit(train_tf,y_tr)"
      ],
      "execution_count": 46,
      "outputs": [
        {
          "output_type": "execute_result",
          "data": {
            "text/plain": [
              "LogisticRegression(C=100, class_weight=None, dual=False, fit_intercept=True,\n",
              "          intercept_scaling=1, max_iter=100, multi_class='warn',\n",
              "          n_jobs=None, penalty='l1', random_state=None, solver='warn',\n",
              "          tol=0.0001, verbose=0, warm_start=False)"
            ]
          },
          "metadata": {
            "tags": []
          },
          "execution_count": 46
        }
      ]
    },
    {
      "metadata": {
        "id": "Gh9JRqNLCCIY",
        "colab_type": "text"
      },
      "cell_type": "markdown",
      "source": [
        "## Roc curve for Train and CV"
      ]
    },
    {
      "metadata": {
        "id": "NXXVhBIBCIk0",
        "colab_type": "code",
        "outputId": "3b7f343c-44ff-429f-ec96-8d1f6110d933",
        "colab": {
          "base_uri": "https://localhost:8080/",
          "height": 294
        }
      },
      "cell_type": "code",
      "source": [
        "pred_cv_tf=lr_l1_tf.predict_proba(cv_tf)\n",
        "fpr,tpr,threshold=roc_curve(y_cv,pred_cv_tf[:,1])\n",
        "roc_auc_cv=metrics.auc(fpr,tpr)\n",
        "\n",
        "plt.xlabel(\"True positive rate\")\n",
        "plt.ylabel(\"False positive rate\")\n",
        "plt.title('ROC curve')\n",
        "\n",
        "plt.plot(fpr,tpr, label=roc_auc_cv)\n",
        "plt.plot([0, 1], [0, 1],'g--')\n",
        "plt.legend()\n",
        "plt.show()"
      ],
      "execution_count": 47,
      "outputs": [
        {
          "output_type": "display_data",
          "data": {
            "image/png": "[encoded data removed]",
            "text/plain": [
              "<Figure size 432x288 with 1 Axes>"
            ]
          },
          "metadata": {
            "tags": []
          }
        }
      ]
    },
    {
      "metadata": {
        "id": "9F26GNOKFiZc",
        "colab_type": "code",
        "colab": {}
      },
      "cell_type": "code",
      "source": [
        "test_tf=tf_idf_vect.transform(x_test)"
      ],
      "execution_count": 0,
      "outputs": []
    },
    {
      "metadata": {
        "id": "nRZcu0RADTyw",
        "colab_type": "text"
      },
      "cell_type": "markdown",
      "source": [
        "## Roc curve for Train and Test"
      ]
    },
    {
      "metadata": {
        "id": "ewnICMSCDZ3_",
        "colab_type": "code",
        "outputId": "ecbaf796-fdc1-4dad-967a-e1437077c267",
        "colab": {
          "base_uri": "https://localhost:8080/",
          "height": 294
        }
      },
      "cell_type": "code",
      "source": [
        "pred_test_tf=lr_l1_tf.predict_proba(test_tf)\n",
        "fpr,tpr,threshold=roc_curve(y_test,pred_test_tf[:,1])\n",
        "roc_auc_test=metrics.auc(fpr,tpr)\n",
        "\n",
        "plt.xlabel(\"True positive rate\")\n",
        "plt.ylabel(\"False positive rate\")\n",
        "plt.title('ROC curve')\n",
        "\n",
        "plt.plot(fpr,tpr, label=roc_auc_test)\n",
        "plt.plot([0, 1], [0, 1],'g--')\n",
        "plt.legend()\n",
        "plt.show()"
      ],
      "execution_count": 49,
      "outputs": [
        {
          "output_type": "display_data",
          "data": {
            "image/png": "[encoded data removed]",
            "text/plain": [
              "<Figure size 432x288 with 1 Axes>"
            ]
          },
          "metadata": {
            "tags": []
          }
        }
      ]
    },
    {
      "metadata": {
        "id": "8tAnwtTiTfQR",
        "colab_type": "code",
        "outputId": "b1fef908-1e40-4f89-ec73-0551c4b9a3f9",
        "colab": {
          "base_uri": "https://localhost:8080/",
          "height": 175
        }
      },
      "cell_type": "code",
      "source": [
        "pred=lr_l1_tf.predict(test_tf)\n",
        "print(metrics.classification_report(y_test,pred))"
      ],
      "execution_count": 50,
      "outputs": [
        {
          "output_type": "stream",
          "text": [
            "              precision    recall  f1-score   support\n",
            "\n",
            "           0       0.76      0.74      0.75      3154\n",
            "           1       0.95      0.96      0.95     16846\n",
            "\n",
            "   micro avg       0.92      0.92      0.92     20000\n",
            "   macro avg       0.86      0.85      0.85     20000\n",
            "weighted avg       0.92      0.92      0.92     20000\n",
            "\n"
          ],
          "name": "stdout"
        }
      ]
    },
    {
      "metadata": {
        "id": "qqHIXF9WK1UJ",
        "colab_type": "text"
      },
      "cell_type": "markdown",
      "source": [
        "### Applying Logistic Regression with L2 regularization on TFIDF"
      ]
    },
    {
      "metadata": {
        "id": "TLA9XwHTKnw7",
        "colab_type": "code",
        "outputId": "288e6fa0-0347-425f-c80b-210852335edd",
        "colab": {
          "base_uri": "https://localhost:8080/",
          "height": 87
        }
      },
      "cell_type": "code",
      "source": [
        "lr_l2_tf=LogisticRegression(C=100, penalty='l2')\n",
        "lr_l2_tf.fit(train_tf,y_tr)"
      ],
      "execution_count": 51,
      "outputs": [
        {
          "output_type": "execute_result",
          "data": {
            "text/plain": [
              "LogisticRegression(C=100, class_weight=None, dual=False, fit_intercept=True,\n",
              "          intercept_scaling=1, max_iter=100, multi_class='warn',\n",
              "          n_jobs=None, penalty='l2', random_state=None, solver='warn',\n",
              "          tol=0.0001, verbose=0, warm_start=False)"
            ]
          },
          "metadata": {
            "tags": []
          },
          "execution_count": 51
        }
      ]
    },
    {
      "metadata": {
        "id": "Nf2pqKbcMHuh",
        "colab_type": "text"
      },
      "cell_type": "markdown",
      "source": [
        "### Roc curve on Test And Train"
      ]
    },
    {
      "metadata": {
        "id": "dJxGQ9_zMHPd",
        "colab_type": "code",
        "outputId": "7b47117c-4adc-4b2c-ba04-63c7006e25e5",
        "colab": {
          "base_uri": "https://localhost:8080/",
          "height": 294
        }
      },
      "cell_type": "code",
      "source": [
        "pred_test_tf=lr_l2_tf.predict_proba(test_tf)\n",
        "fpr,tpr,threshold=roc_curve(y_test,pred_test[:,1])\n",
        "roc_auc_test=metrics.auc(fpr,tpr)\n",
        "\n",
        "plt.xlabel(\"True positive rate\")\n",
        "plt.ylabel(\"False positive rate\")\n",
        "plt.title('ROC curve')\n",
        "\n",
        "plt.plot(fpr,tpr, label=roc_auc_test)\n",
        "plt.plot([0, 1], [0, 1],'g--')\n",
        "plt.legend()\n",
        "plt.show()"
      ],
      "execution_count": 52,
      "outputs": [
        {
          "output_type": "display_data",
          "data": {
            "image/png": "[encoded data removed]",
            "text/plain": [
              "<Figure size 432x288 with 1 Axes>"
            ]
          },
          "metadata": {
            "tags": []
          }
        }
      ]
    },
    {
      "metadata": {
        "id": "WBG1XEZTUGWg",
        "colab_type": "code",
        "outputId": "91e1355e-d4dc-4ed7-a1f6-0a32b5189a03",
        "colab": {
          "base_uri": "https://localhost:8080/",
          "height": 175
        }
      },
      "cell_type": "code",
      "source": [
        "pred=lr_l2_tf.predict(test_tf)\n",
        "print(metrics.classification_report(y_test,pred))"
      ],
      "execution_count": 53,
      "outputs": [
        {
          "output_type": "stream",
          "text": [
            "              precision    recall  f1-score   support\n",
            "\n",
            "           0       0.80      0.73      0.76      3154\n",
            "           1       0.95      0.97      0.96     16846\n",
            "\n",
            "   micro avg       0.93      0.93      0.93     20000\n",
            "   macro avg       0.88      0.85      0.86     20000\n",
            "weighted avg       0.93      0.93      0.93     20000\n",
            "\n"
          ],
          "name": "stdout"
        }
      ]
    },
    {
      "metadata": {
        "id": "qu-HAdA_LQ8a",
        "colab_type": "text"
      },
      "cell_type": "markdown",
      "source": [
        "### Top Features"
      ]
    },
    {
      "metadata": {
        "id": "tRMB-xvZLyqz",
        "colab_type": "code",
        "outputId": "83354145-85dd-423c-b285-bea8c4931e47",
        "colab": {
          "base_uri": "https://localhost:8080/",
          "height": 386
        }
      },
      "cell_type": "code",
      "source": [
        "def top_feat(vectorizer, lr_l2_tf, n=20):\n",
        "  feature_names=tf_idf_vect.get_feature_names()\n",
        "  w=lr_l2_tf.coef_\n",
        "  top=sorted(zip(w[0],feature_names))\n",
        "  top_10 = zip(top[:n], top[:-(n + 1):-1])\n",
        "  print(\"\\t\\t\\tNegative\\t\\t\\t\\tPositive\")\n",
        "  for (coef_1, fn_1), (coef_2, fn_2) in top_10:\n",
        "    print(\"\\t%.4f\\t%-15s\\t\\t\\t\\t%.4f\\t%-15s\" % (coef_1, fn_1, coef_2, fn_2))\n",
        "  \n",
        "top_feat(tf_idf_vect,lr_l2_tf)\n",
        "#Code taken from https://stackoverflow.com/questions/11116697/how-to-get-most-informative-features-for-scikit-learn-classifiers"
      ],
      "execution_count": 54,
      "outputs": [
        {
          "output_type": "stream",
          "text": [
            "\t\t\tNegative\t\t\t\tPositive\n",
            "\t-23.8186\tnot recommend  \t\t\t\t26.2687\tdelicious      \n",
            "\t-23.6446\tworst          \t\t\t\t25.6843\tgreat          \n",
            "\t-20.9868\tdisappointed   \t\t\t\t24.1892\tnot disappointed\n",
            "\t-20.8381\tnot good       \t\t\t\t22.0177\tgood           \n",
            "\t-20.2610\tnot worth      \t\t\t\t21.7660\texcellent      \n",
            "\t-19.6427\tdisappointing  \t\t\t\t20.1125\tbest           \n",
            "\t-19.4546\ttwo stars      \t\t\t\t17.6815\tperfect        \n",
            "\t-18.6103\tterrible       \t\t\t\t16.5379\tnot bad        \n",
            "\t-18.5281\tnot impressed  \t\t\t\t16.3369\tawesome        \n",
            "\t-17.5570\tawful          \t\t\t\t16.1310\tlove           \n",
            "\t-17.3546\tnot buying     \t\t\t\t15.8974\thappy          \n",
            "\t-15.3144\tnot purchase   \t\t\t\t15.5399\ttasty          \n",
            "\t-15.1811\tno thanks      \t\t\t\t15.4699\thooked         \n",
            "\t-14.9690\tgross          \t\t\t\t15.3980\tpleased        \n",
            "\t-14.9150\twanted like    \t\t\t\t14.6735\taddictive      \n",
            "\t-14.5806\tdisgusting     \t\t\t\t14.5723\tloves          \n",
            "\t-14.2787\tbland          \t\t\t\t14.5426\tworried        \n",
            "\t-14.2557\tcompany great  \t\t\t\t14.4300\thighly         \n",
            "\t-13.6461\tnot tasty      \t\t\t\t14.4086\twonderful      \n",
            "\t-13.6359\tthrew          \t\t\t\t13.8856\tpleasantly     \n"
          ],
          "name": "stdout"
        }
      ]
    },
    {
      "metadata": {
        "id": "m3YEHTLPLPod",
        "colab_type": "text"
      },
      "cell_type": "markdown",
      "source": [
        "##  Word2Vec"
      ]
    },
    {
      "metadata": {
        "id": "AOdDTrPHwosv",
        "colab_type": "code",
        "colab": {}
      },
      "cell_type": "code",
      "source": [
        "import gensim\n",
        "from gensim.models import Word2Vec\n",
        "from gensim.models import KeyedVectors\n",
        "import pickle"
      ],
      "execution_count": 0,
      "outputs": []
    },
    {
      "metadata": {
        "id": "zwPZCf8cLPoe",
        "colab_type": "code",
        "colab": {}
      },
      "cell_type": "code",
      "source": [
        "# Train your own Word2Vec using train data\n",
        "i=0\n",
        "list_of_sent=[]\n",
        "for sentance in x_tr.values:\n",
        "    list_of_sent.append(sentance.split())"
      ],
      "execution_count": 0,
      "outputs": []
    },
    {
      "metadata": {
        "id": "bRWXmmnWLPoo",
        "colab_type": "code",
        "colab": {}
      },
      "cell_type": "code",
      "source": [
        "w2v_model=gensim.models.Word2Vec(list_of_sent,min_count=5,size=50, workers=4)"
      ],
      "execution_count": 0,
      "outputs": []
    },
    {
      "metadata": {
        "id": "1Y_lI99ntsyf",
        "colab_type": "code",
        "colab": {}
      },
      "cell_type": "code",
      "source": [
        "w2v_words=list(w2v_model.wv.vocab)"
      ],
      "execution_count": 0,
      "outputs": []
    },
    {
      "metadata": {
        "id": "JriP5nZCLPot",
        "colab_type": "text"
      },
      "cell_type": "markdown",
      "source": [
        "#### [4.4.1.1] Avg W2v"
      ]
    },
    {
      "metadata": {
        "id": "UnXI9NHTLPot",
        "colab_type": "code",
        "outputId": "4d34bc18-050e-4fa2-f946-81d804c68e19",
        "colab": {
          "base_uri": "https://localhost:8080/",
          "height": 52
        }
      },
      "cell_type": "code",
      "source": [
        "# average Word2Vec \n",
        "sent_vectors = []; \n",
        "for sent in list_of_sent:\n",
        "    sent_vec = np.zeros(50) \n",
        "    cnt_words =0;\n",
        "    for word in sent:\n",
        "        if word in w2v_words:\n",
        "            vec = w2v_model.wv[word]\n",
        "            sent_vec += vec\n",
        "            cnt_words += 1\n",
        "    if cnt_words != 0:\n",
        "        sent_vec /= cnt_words\n",
        "    sent_vectors.append(sent_vec)\n",
        "print(len(sent_vectors))\n",
        "print(len(sent_vectors[0]))"
      ],
      "execution_count": 59,
      "outputs": [
        {
          "output_type": "stream",
          "text": [
            "64000\n",
            "50\n"
          ],
          "name": "stdout"
        }
      ]
    },
    {
      "metadata": {
        "id": "UjvAujFf0v-_",
        "colab_type": "code",
        "colab": {}
      },
      "cell_type": "code",
      "source": [
        "# Train your own Word2Vec using cv data\n",
        "i=0\n",
        "list_of_sent_cv=[]\n",
        "for sentance in x_cv.values:\n",
        "    list_of_sent_cv.append(sentance.split())"
      ],
      "execution_count": 0,
      "outputs": []
    },
    {
      "metadata": {
        "id": "bh-L4t_f04sX",
        "colab_type": "code",
        "colab": {}
      },
      "cell_type": "code",
      "source": [
        "w2v_model_cv=gensim.models.Word2Vec(list_of_sent_cv, min_count=5, size=50, workers=4)"
      ],
      "execution_count": 0,
      "outputs": []
    },
    {
      "metadata": {
        "id": "5jiHlDPqIeZL",
        "colab_type": "code",
        "colab": {}
      },
      "cell_type": "code",
      "source": [
        "w2v_words_cv=list(w2v_model_cv.wv.vocab)"
      ],
      "execution_count": 0,
      "outputs": []
    },
    {
      "metadata": {
        "id": "rAGtvDw90--z",
        "colab_type": "code",
        "outputId": "491d16bd-6f5d-4fed-a0c0-b690db492fe7",
        "colab": {
          "base_uri": "https://localhost:8080/",
          "height": 52
        }
      },
      "cell_type": "code",
      "source": [
        "# average Word2Vec \n",
        "sent_vectors_cv = []; \n",
        "for sent in list_of_sent_cv:\n",
        "    sent_vec = np.zeros(50) \n",
        "    cnt_words =0;\n",
        "    for word in sent:\n",
        "        if word in w2v_words:\n",
        "            vec = w2v_model.wv[word]\n",
        "            sent_vec += vec\n",
        "            cnt_words += 1\n",
        "    if cnt_words != 0:\n",
        "        sent_vec /= cnt_words\n",
        "    sent_vectors_cv.append(sent_vec)\n",
        "print(len(sent_vectors_cv))\n",
        "print(len(sent_vectors_cv[0]))"
      ],
      "execution_count": 63,
      "outputs": [
        {
          "output_type": "stream",
          "text": [
            "16000\n",
            "50\n"
          ],
          "name": "stdout"
        }
      ]
    },
    {
      "metadata": {
        "id": "fyGeED4fU_IG",
        "colab_type": "code",
        "colab": {}
      },
      "cell_type": "code",
      "source": [
        "# Train your own Word2Vec using Test data\n",
        "i=0\n",
        "list_of_sent_test=[]\n",
        "for sentance in x_test.values:\n",
        "    list_of_sent_test.append(sentance.split())"
      ],
      "execution_count": 0,
      "outputs": []
    },
    {
      "metadata": {
        "id": "eqC1lgTOVCfb",
        "colab_type": "code",
        "colab": {}
      },
      "cell_type": "code",
      "source": [
        "w2v_model_test=gensim.models.Word2Vec(list_of_sent_test, min_count=5, size=50, workers=4)"
      ],
      "execution_count": 0,
      "outputs": []
    },
    {
      "metadata": {
        "id": "GWm9D2vPVE9J",
        "colab_type": "code",
        "colab": {}
      },
      "cell_type": "code",
      "source": [
        "w2v_words_test=list(w2v_model_cv.wv.vocab)"
      ],
      "execution_count": 0,
      "outputs": []
    },
    {
      "metadata": {
        "id": "XYUAjRXBVG_q",
        "colab_type": "code",
        "colab": {
          "base_uri": "https://localhost:8080/",
          "height": 52
        },
        "outputId": "a3679395-79d1-4a2c-ee6f-951e65972a2a"
      },
      "cell_type": "code",
      "source": [
        "# average Word2Vec \n",
        "sent_vectors_test = []; \n",
        "for sent in list_of_sent_test:\n",
        "    sent_vec = np.zeros(50) \n",
        "    cnt_words =0;\n",
        "    for word in sent:\n",
        "        if word in w2v_words:\n",
        "            vec = w2v_model.wv[word]\n",
        "            sent_vec += vec\n",
        "            cnt_words += 1\n",
        "    if cnt_words != 0:\n",
        "        sent_vec /= cnt_words\n",
        "    sent_vectors_test.append(sent_vec)\n",
        "print(len(sent_vectors_test))\n",
        "print(len(sent_vectors_test[0]))"
      ],
      "execution_count": 67,
      "outputs": [
        {
          "output_type": "stream",
          "text": [
            "20000\n",
            "50\n"
          ],
          "name": "stdout"
        }
      ]
    },
    {
      "metadata": {
        "id": "dbxy4C7aLS1g",
        "colab_type": "text"
      },
      "cell_type": "markdown",
      "source": [
        "### Grid Search for optimal Hyperparameter"
      ]
    },
    {
      "metadata": {
        "id": "lC6UdlHDLUH3",
        "colab_type": "code",
        "outputId": "139ef72c-f063-4508-96b2-06a3f7dcb9f8",
        "colab": {
          "base_uri": "https://localhost:8080/",
          "height": 105
        }
      },
      "cell_type": "code",
      "source": [
        "model_w2v=GridSearchCV(LogisticRegression(), tuned_parameters,scoring='f1', cv=5)\n",
        "model_w2v.fit(sent_vectors,y_tr)\n",
        "print(model_tf.best_estimator_)\n",
        "model_tf.best_score_"
      ],
      "execution_count": 68,
      "outputs": [
        {
          "output_type": "stream",
          "text": [
            "LogisticRegression(C=100, class_weight=None, dual=False, fit_intercept=True,\n",
            "          intercept_scaling=1, max_iter=100, multi_class='warn',\n",
            "          n_jobs=None, penalty='l2', random_state=None, solver='warn',\n",
            "          tol=0.0001, verbose=0, warm_start=False)\n"
          ],
          "name": "stdout"
        },
        {
          "output_type": "execute_result",
          "data": {
            "text/plain": [
              "0.9571635097501157"
            ]
          },
          "metadata": {
            "tags": []
          },
          "execution_count": 68
        }
      ]
    },
    {
      "metadata": {
        "id": "ivDzAQ0VQohC",
        "colab_type": "code",
        "outputId": "8d80424d-0105-43b7-8541-16294ed5968f",
        "colab": {
          "base_uri": "https://localhost:8080/",
          "height": 87
        }
      },
      "cell_type": "code",
      "source": [
        "lr_l1_w2v=LogisticRegression(C=100, penalty='l1')\n",
        "lr_l1_w2v.fit(sent_vectors,y_tr)"
      ],
      "execution_count": 69,
      "outputs": [
        {
          "output_type": "execute_result",
          "data": {
            "text/plain": [
              "LogisticRegression(C=100, class_weight=None, dual=False, fit_intercept=True,\n",
              "          intercept_scaling=1, max_iter=100, multi_class='warn',\n",
              "          n_jobs=None, penalty='l1', random_state=None, solver='warn',\n",
              "          tol=0.0001, verbose=0, warm_start=False)"
            ]
          },
          "metadata": {
            "tags": []
          },
          "execution_count": 69
        }
      ]
    },
    {
      "metadata": {
        "id": "2sHfb529LPow",
        "colab_type": "text"
      },
      "cell_type": "markdown",
      "source": [
        "#### [4.4.1.2] TFIDF weighted W2v"
      ]
    },
    {
      "metadata": {
        "id": "sb_wDjAqLPow",
        "colab_type": "code",
        "colab": {}
      },
      "cell_type": "code",
      "source": [
        "model = TfidfVectorizer()\n",
        "tf_idf_matrix = model.fit_transform(x_tr)\n",
        "# we are converting a dictionary with word as a key, and the idf as a value\n",
        "dictionary = dict(zip(model.get_feature_names(), list(model.idf_)))"
      ],
      "execution_count": 0,
      "outputs": []
    },
    {
      "metadata": {
        "scrolled": true,
        "id": "3VrUzqx7LPoy",
        "colab_type": "code",
        "colab": {}
      },
      "cell_type": "code",
      "source": [
        "# TF-IDF weighted Word2Vec\n",
        "tfidf_feat = model.get_feature_names() # tfidf words/col-names\n",
        "# final_tf_idf is the sparse matrix with row= sentence, col=word and cell_val = tfidf\n",
        "\n",
        "tfidf_sent_vectors = []; # the tfidf-w2v for each sentence/review is stored in this list\n",
        "row=0;\n",
        "for sent in list_of_sent: # for each review/sentence \n",
        "    sent_vec = np.zeros(50) # as word vectors are of zero length\n",
        "    weight_sum =0; # num of words with a valid vector in the sentence/review\n",
        "    for word in sent: # for each word in a review/sentence\n",
        "        if word in w2v_words and word in tfidf_feat:\n",
        "            vec = w2v_model.wv[word]\n",
        "   #             tf_idf = tf_idf_matrix[row, tfidf_feat.index(word)]\n",
        "            # to reduce the computation we are \n",
        "            # dictionary[word] = idf value of word in whole courpus\n",
        "            # sent.count(word) = tf valeus of word in this review\n",
        "            tf_idf = dictionary[word]*(sent.count(word)/len(sent))\n",
        "            sent_vec += (vec * tf_idf)\n",
        "            weight_sum += tf_idf\n",
        "    if weight_sum != 0:\n",
        "        sent_vec /= weight_sum\n",
        "    tfidf_sent_vectors.append(sent_vec)\n",
        "    row += 1"
      ],
      "execution_count": 0,
      "outputs": []
    },
    {
      "metadata": {
        "id": "jCoSTgzty3CW",
        "colab_type": "code",
        "colab": {}
      },
      "cell_type": "code",
      "source": [
        "model_cv = TfidfVectorizer()\n",
        "tf_idf_matrix_cv = model.fit_transform(x_cv)\n",
        "# we are converting a dictionary with word as a key, and the idf as a value\n",
        "dictionary = dict(zip(model.get_feature_names(), list(model.idf_)))"
      ],
      "execution_count": 0,
      "outputs": []
    },
    {
      "metadata": {
        "id": "-I4FfjXEy4Gd",
        "colab_type": "code",
        "colab": {
          "base_uri": "https://localhost:8080/",
          "height": 34
        },
        "outputId": "edb32b0c-e0bb-4b1f-c338-8344ec0d50c1"
      },
      "cell_type": "code",
      "source": [
        "# TF-IDF weighted Word2Vec\n",
        "tfidf_feat_cv = model.get_feature_names() # tfidf words/col-names\n",
        "# final_tf_idf is the sparse matrix with row= sentence, col=word and cell_val = tfidf\n",
        "\n",
        "tfidf_sent_vectors_cv = []; # the tfidf-w2v for each sentence/review is stored in this list\n",
        "row=0;\n",
        "for sent in tqdm(list_of_sent_cv): # for each review/sentence \n",
        "    sent_vec = np.zeros(50) # as word vectors are of zero length\n",
        "    weight_sum =0; # num of words with a valid vector in the sentence/review\n",
        "    for word in sent: # for each word in a review/sentence\n",
        "        if word in w2v_words and word in tfidf_feat:\n",
        "            vec = w2v_model.wv[word]\n",
        "            \n",
        "            # tf_idf = tf_idf_matrix[row, tfidf_feat.index(word)]\n",
        "            # to reduce the computation we are \n",
        "            # dictionary[word] = idf value of word in whole courpus\n",
        "            # sent.count(word) = tf valeus of word in this review\n",
        "            tf_idf = dictionary[word]*(sent.count(word)/len(sent))\n",
        "            sent_vec += (vec * tf_idf)\n",
        "            weight_sum += tf_idf\n",
        "    if weight_sum != 0:\n",
        "        sent_vec /= weight_sum\n",
        "    tfidf_sent_vectors_cv.append(sent_vec)\n",
        "    row += 1"
      ],
      "execution_count": 73,
      "outputs": [
        {
          "output_type": "stream",
          "text": [
            "100%|██████████| 16000/16000 [06:24<00:00, 41.59it/s]\n"
          ],
          "name": "stderr"
        }
      ]
    },
    {
      "metadata": {
        "id": "UcTa9V7aTJk6",
        "colab_type": "code",
        "colab": {}
      },
      "cell_type": "code",
      "source": [
        "model_test = TfidfVectorizer()\n",
        "tf_idf_matrix_cv = model.fit_transform(x_test)\n",
        "# we are converting a dictionary with word as a key, and the idf as a value\n",
        "dictionary = dict(zip(model.get_feature_names(), list(model.idf_)))"
      ],
      "execution_count": 0,
      "outputs": []
    },
    {
      "metadata": {
        "id": "vzpA5mH5TWDH",
        "colab_type": "code",
        "colab": {
          "base_uri": "https://localhost:8080/",
          "height": 34
        },
        "outputId": "7b9d4c26-7b4d-41f1-bd40-82507beae21e"
      },
      "cell_type": "code",
      "source": [
        "# TF-IDF weighted Word2Vec\n",
        "tfidf_feat_test = model.get_feature_names() # tfidf words/col-names\n",
        "# final_tf_idf is the sparse matrix with row= sentence, col=word and cell_val = tfidf\n",
        "\n",
        "tfidf_sent_vectors_test = []; # the tfidf-w2v for each sentence/review is stored in this list\n",
        "row=0;\n",
        "for sent in tqdm(list_of_sent_test): # for each review/sentence \n",
        "    sent_vec = np.zeros(50) # as word vectors are of zero length\n",
        "    weight_sum =0; # num of words with a valid vector in the sentence/review\n",
        "    for word in sent: # for each word in a review/sentence\n",
        "        if word in w2v_words and word in tfidf_feat:\n",
        "            vec = w2v_model.wv[word]\n",
        "            \n",
        "            # tf_idf = tf_idf_matrix[row, tfidf_feat.index(word)]\n",
        "            # to reduce the computation we are \n",
        "            # dictionary[word] = idf value of word in whole courpus\n",
        "            # sent.count(word) = tf valeus of word in this review\n",
        "            tf_idf = dictionary[word]*(sent.count(word)/len(sent))\n",
        "            sent_vec += (vec * tf_idf)\n",
        "            weight_sum += tf_idf\n",
        "    if weight_sum != 0:\n",
        "        sent_vec /= weight_sum\n",
        "    tfidf_sent_vectors_test.append(sent_vec)\n",
        "    row += 1"
      ],
      "execution_count": 81,
      "outputs": [
        {
          "output_type": "stream",
          "text": [
            "100%|██████████| 20000/20000 [07:50<00:00, 42.55it/s]\n"
          ],
          "name": "stderr"
        }
      ]
    },
    {
      "metadata": {
        "id": "ClBYIs5RbACg",
        "colab_type": "code",
        "colab": {
          "base_uri": "https://localhost:8080/",
          "height": 105
        },
        "outputId": "c01f6fd2-6d6c-420b-caa7-d016e92b5db4"
      },
      "cell_type": "code",
      "source": [
        "model_w2v=GridSearchCV(LogisticRegression(), tuned_parameters,scoring='f1', cv=5)\n",
        "model_w2v.fit(tfidf_sent_vectors,y_tr)\n",
        "print(model_tf.best_estimator_)\n",
        "model_tf.best_score_"
      ],
      "execution_count": 82,
      "outputs": [
        {
          "output_type": "stream",
          "text": [
            "LogisticRegression(C=100, class_weight=None, dual=False, fit_intercept=True,\n",
            "          intercept_scaling=1, max_iter=100, multi_class='warn',\n",
            "          n_jobs=None, penalty='l2', random_state=None, solver='warn',\n",
            "          tol=0.0001, verbose=0, warm_start=False)\n"
          ],
          "name": "stdout"
        },
        {
          "output_type": "execute_result",
          "data": {
            "text/plain": [
              "0.9571635097501157"
            ]
          },
          "metadata": {
            "tags": []
          },
          "execution_count": 82
        }
      ]
    },
    {
      "metadata": {
        "id": "IycottZSeGRG",
        "colab_type": "code",
        "colab": {
          "base_uri": "https://localhost:8080/",
          "height": 87
        },
        "outputId": "0fa4bb9a-a45c-4486-97d1-4d92e9bbf4f7"
      },
      "cell_type": "code",
      "source": [
        "lr_l2_w2vtf=LogisticRegression(C=100, penalty='l2')\n",
        "lr_l2_w2vtf.fit(tfidf_sent_vectors,y_tr)"
      ],
      "execution_count": 83,
      "outputs": [
        {
          "output_type": "execute_result",
          "data": {
            "text/plain": [
              "LogisticRegression(C=100, class_weight=None, dual=False, fit_intercept=True,\n",
              "          intercept_scaling=1, max_iter=100, multi_class='warn',\n",
              "          n_jobs=None, penalty='l2', random_state=None, solver='warn',\n",
              "          tol=0.0001, verbose=0, warm_start=False)"
            ]
          },
          "metadata": {
            "tags": []
          },
          "execution_count": 83
        }
      ]
    },
    {
      "metadata": {
        "id": "1fMOg9RAfk12",
        "colab_type": "code",
        "colab": {
          "base_uri": "https://localhost:8080/",
          "height": 294
        },
        "outputId": "ceb0d7a3-e89f-4847-9088-5293c4e06b33"
      },
      "cell_type": "code",
      "source": [
        "pred_test_w2vtf=lr_l2_w2vtf.predict_proba(tfidf_sent_vectors_test)\n",
        "fpr,tpr,threshold=roc_curve(y_test,pred_test[:,1])\n",
        "roc_auc_test=metrics.auc(fpr,tpr)\n",
        "\n",
        "plt.xlabel(\"True positive rate\")\n",
        "plt.ylabel(\"False positive rate\")\n",
        "plt.title('ROC curve')\n",
        "\n",
        "plt.plot(fpr,tpr, label=roc_auc_test)\n",
        "plt.plot([0, 1], [0, 1],'g--')\n",
        "plt.legend()\n",
        "plt.show()"
      ],
      "execution_count": 84,
      "outputs": [
        {
          "output_type": "display_data",
          "data": {
            "image/png": "[encoded data removed]",
            "text/plain": [
              "<Figure size 432x288 with 1 Axes>"
            ]
          },
          "metadata": {
            "tags": []
          }
        }
      ]
    }
  ]
}